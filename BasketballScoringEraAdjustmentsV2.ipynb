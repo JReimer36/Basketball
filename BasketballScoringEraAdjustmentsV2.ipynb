{
 "cells": [
  {
   "cell_type": "markdown",
   "metadata": {},
   "source": [
    "# Get Data"
   ]
  },
  {
   "cell_type": "code",
   "execution_count": 1,
   "metadata": {},
   "outputs": [],
   "source": [
    "import pandas as pd\n",
    "from nba_api.stats.endpoints import leagueleaders"
   ]
  },
  {
   "cell_type": "code",
   "execution_count": 2,
   "metadata": {},
   "outputs": [],
   "source": [
    "# Sample \n",
    "leaders = leagueleaders.LeagueLeaders(season = '1990-91', per_mode48= 'PerGame').get_data_frames()[0]"
   ]
  },
  {
   "cell_type": "code",
   "execution_count": 3,
   "metadata": {},
   "outputs": [
    {
     "data": {
      "text/html": [
       "<div>\n",
       "<style scoped>\n",
       "    .dataframe tbody tr th:only-of-type {\n",
       "        vertical-align: middle;\n",
       "    }\n",
       "\n",
       "    .dataframe tbody tr th {\n",
       "        vertical-align: top;\n",
       "    }\n",
       "\n",
       "    .dataframe thead th {\n",
       "        text-align: right;\n",
       "    }\n",
       "</style>\n",
       "<table border=\"1\" class=\"dataframe\">\n",
       "  <thead>\n",
       "    <tr style=\"text-align: right;\">\n",
       "      <th></th>\n",
       "      <th>PLAYER_ID</th>\n",
       "      <th>RANK</th>\n",
       "      <th>PLAYER</th>\n",
       "      <th>TEAM</th>\n",
       "      <th>GP</th>\n",
       "      <th>MIN</th>\n",
       "      <th>FGM</th>\n",
       "      <th>FGA</th>\n",
       "      <th>FG_PCT</th>\n",
       "      <th>FG3M</th>\n",
       "      <th>...</th>\n",
       "      <th>FT_PCT</th>\n",
       "      <th>OREB</th>\n",
       "      <th>DREB</th>\n",
       "      <th>REB</th>\n",
       "      <th>AST</th>\n",
       "      <th>STL</th>\n",
       "      <th>BLK</th>\n",
       "      <th>TOV</th>\n",
       "      <th>PTS</th>\n",
       "      <th>EFF</th>\n",
       "    </tr>\n",
       "  </thead>\n",
       "  <tbody>\n",
       "    <tr>\n",
       "      <th>0</th>\n",
       "      <td>893</td>\n",
       "      <td>1</td>\n",
       "      <td>Michael Jordan</td>\n",
       "      <td>CHI</td>\n",
       "      <td>82</td>\n",
       "      <td>37.0</td>\n",
       "      <td>12.1</td>\n",
       "      <td>22.4</td>\n",
       "      <td>0.539</td>\n",
       "      <td>0.4</td>\n",
       "      <td>...</td>\n",
       "      <td>0.851</td>\n",
       "      <td>1.4</td>\n",
       "      <td>4.6</td>\n",
       "      <td>6.0</td>\n",
       "      <td>5.5</td>\n",
       "      <td>2.7</td>\n",
       "      <td>1.0</td>\n",
       "      <td>2.5</td>\n",
       "      <td>31.5</td>\n",
       "      <td>32.7</td>\n",
       "    </tr>\n",
       "    <tr>\n",
       "      <th>1</th>\n",
       "      <td>252</td>\n",
       "      <td>2</td>\n",
       "      <td>Karl Malone</td>\n",
       "      <td>UTH</td>\n",
       "      <td>82</td>\n",
       "      <td>40.3</td>\n",
       "      <td>10.3</td>\n",
       "      <td>19.6</td>\n",
       "      <td>0.527</td>\n",
       "      <td>0.0</td>\n",
       "      <td>...</td>\n",
       "      <td>0.770</td>\n",
       "      <td>2.9</td>\n",
       "      <td>8.9</td>\n",
       "      <td>11.8</td>\n",
       "      <td>3.3</td>\n",
       "      <td>1.1</td>\n",
       "      <td>1.0</td>\n",
       "      <td>3.0</td>\n",
       "      <td>29.0</td>\n",
       "      <td>31.4</td>\n",
       "    </tr>\n",
       "    <tr>\n",
       "      <th>2</th>\n",
       "      <td>77264</td>\n",
       "      <td>3</td>\n",
       "      <td>Bernard King</td>\n",
       "      <td>WAS</td>\n",
       "      <td>64</td>\n",
       "      <td>37.5</td>\n",
       "      <td>11.1</td>\n",
       "      <td>23.6</td>\n",
       "      <td>0.472</td>\n",
       "      <td>0.1</td>\n",
       "      <td>...</td>\n",
       "      <td>0.790</td>\n",
       "      <td>1.8</td>\n",
       "      <td>3.2</td>\n",
       "      <td>5.0</td>\n",
       "      <td>4.6</td>\n",
       "      <td>0.9</td>\n",
       "      <td>0.3</td>\n",
       "      <td>4.0</td>\n",
       "      <td>28.4</td>\n",
       "      <td>21.0</td>\n",
       "    </tr>\n",
       "    <tr>\n",
       "      <th>3</th>\n",
       "      <td>787</td>\n",
       "      <td>4</td>\n",
       "      <td>Charles Barkley</td>\n",
       "      <td>PHL</td>\n",
       "      <td>67</td>\n",
       "      <td>37.3</td>\n",
       "      <td>9.9</td>\n",
       "      <td>17.4</td>\n",
       "      <td>0.570</td>\n",
       "      <td>0.7</td>\n",
       "      <td>...</td>\n",
       "      <td>0.722</td>\n",
       "      <td>3.9</td>\n",
       "      <td>6.3</td>\n",
       "      <td>10.1</td>\n",
       "      <td>4.2</td>\n",
       "      <td>1.6</td>\n",
       "      <td>0.5</td>\n",
       "      <td>3.1</td>\n",
       "      <td>27.6</td>\n",
       "      <td>30.8</td>\n",
       "    </tr>\n",
       "    <tr>\n",
       "      <th>4</th>\n",
       "      <td>121</td>\n",
       "      <td>5</td>\n",
       "      <td>Patrick Ewing</td>\n",
       "      <td>NYK</td>\n",
       "      <td>81</td>\n",
       "      <td>38.3</td>\n",
       "      <td>10.4</td>\n",
       "      <td>20.3</td>\n",
       "      <td>0.514</td>\n",
       "      <td>0.0</td>\n",
       "      <td>...</td>\n",
       "      <td>0.745</td>\n",
       "      <td>2.4</td>\n",
       "      <td>8.8</td>\n",
       "      <td>11.2</td>\n",
       "      <td>3.0</td>\n",
       "      <td>1.0</td>\n",
       "      <td>3.2</td>\n",
       "      <td>3.6</td>\n",
       "      <td>26.6</td>\n",
       "      <td>29.5</td>\n",
       "    </tr>\n",
       "  </tbody>\n",
       "</table>\n",
       "<p>5 rows × 24 columns</p>\n",
       "</div>"
      ],
      "text/plain": [
       "   PLAYER_ID  RANK           PLAYER TEAM  GP   MIN   FGM   FGA  FG_PCT  FG3M  \\\n",
       "0        893     1   Michael Jordan  CHI  82  37.0  12.1  22.4   0.539   0.4   \n",
       "1        252     2      Karl Malone  UTH  82  40.3  10.3  19.6   0.527   0.0   \n",
       "2      77264     3     Bernard King  WAS  64  37.5  11.1  23.6   0.472   0.1   \n",
       "3        787     4  Charles Barkley  PHL  67  37.3   9.9  17.4   0.570   0.7   \n",
       "4        121     5    Patrick Ewing  NYK  81  38.3  10.4  20.3   0.514   0.0   \n",
       "\n",
       "   ...  FT_PCT  OREB  DREB   REB  AST  STL  BLK  TOV   PTS   EFF  \n",
       "0  ...   0.851   1.4   4.6   6.0  5.5  2.7  1.0  2.5  31.5  32.7  \n",
       "1  ...   0.770   2.9   8.9  11.8  3.3  1.1  1.0  3.0  29.0  31.4  \n",
       "2  ...   0.790   1.8   3.2   5.0  4.6  0.9  0.3  4.0  28.4  21.0  \n",
       "3  ...   0.722   3.9   6.3  10.1  4.2  1.6  0.5  3.1  27.6  30.8  \n",
       "4  ...   0.745   2.4   8.8  11.2  3.0  1.0  3.2  3.6  26.6  29.5  \n",
       "\n",
       "[5 rows x 24 columns]"
      ]
     },
     "execution_count": 3,
     "metadata": {},
     "output_type": "execute_result"
    }
   ],
   "source": [
    "leaders.head()"
   ]
  },
  {
   "cell_type": "code",
   "execution_count": 4,
   "metadata": {},
   "outputs": [],
   "source": [
    "def get_season_code(start_year):\n",
    "    # Properly format numeric year to NBA's season format\n",
    "    season_start = str(start_year)\n",
    "    season_end = str(int(season_start) + 1)[-2:]\n",
    "    season = season_start + \"-\" + str(season_end)\n",
    "    return season"
   ]
  },
  {
   "cell_type": "code",
   "execution_count": 5,
   "metadata": {},
   "outputs": [],
   "source": [
    "retired_nicknames = {'SAN':'Clippers', 'KCK':'Kings', 'GOS':'Warriors', 'NJN':'Nets',\n",
    "                    'PHL':'76ers', 'UTH':'Jazz', 'SEA':'SuperSonics',\n",
    "                    'CHH': 'Hornets', 'SDC': 'Clippers', 'VAN': 'Grizzlies',\n",
    "                    'NOH': 'Hornets', 'NOK': 'Pelicans'}\n",
    "relocated= {'SAN':'LAC', 'KCK':'SAC', 'GOS':'GSW', 'NJN':'BKN',\n",
    "           'PHL':'PHI', 'UTH':'UTA', 'UTJ':'UTA', 'CHH':'CHA', 'SDC':'LAC',\n",
    "           'VAN':'MEM', 'NOH':'CHA', 'NOK':'NOP'}\n",
    "old_names = {'Bullets':'WAS', 'SuperSonics':'SEA'}"
   ]
  },
  {
   "cell_type": "code",
   "execution_count": 6,
   "metadata": {},
   "outputs": [],
   "source": [
    "def replace_relocated(df1):\n",
    "    df = df1.copy()\n",
    "    for index, row in df.iterrows():\n",
    "        team = row['TEAM']\n",
    "        if team in relocated:\n",
    "            new = relocated[team]\n",
    "            df['TEAM'][index] = new\n",
    "        else:\n",
    "            pass\n",
    "    return df"
   ]
  },
  {
   "cell_type": "code",
   "execution_count": 55,
   "metadata": {},
   "outputs": [],
   "source": [
    "def clean_year(df1, season):\n",
    "    df = df1.copy()\n",
    "    # Add column indicating season\n",
    "    df['SEASON'] = season\n",
    "    df = replace_relocated(df)\n",
    "    df['TS%'] = df['PTS'] / (2*(df['FGA'] + .44*df['FTA']))\n",
    "    df = df[['PLAYER', 'TEAM', 'SEASON', 'GP', 'MIN', 'FGM', 'FGA',\n",
    "       'FG_PCT', 'FG3M', 'FG3A', 'FG3_PCT', 'FTM', 'FTA', 'FT_PCT', \n",
    "        'REB', 'AST', 'STL', 'BLK', 'TOV', 'PTS', 'EFF']].copy()\n",
    "    return df\n",
    "\n",
    "def get_year_data(start_year):\n",
    "    year = start_year\n",
    "    season = get_season_code(year)\n",
    "    #print(season)\n",
    "    leaders = leagueleaders.LeagueLeaders(season = season, per_mode48= 'PerGame')\n",
    "    leaders = leaders.get_data_frames()[0]\n",
    "    leaders = clean_year(leaders, season)\n",
    "    return leaders\n",
    "\n",
    "def get_half_decade_data(start_year):\n",
    "    lst = []\n",
    "    for x in range(0, 5):\n",
    "        year = start_year + x\n",
    "        leaders = get_year_data(year)\n",
    "        lst.append(leaders)\n",
    "    df = pd.concat(lst)\n",
    "    # Add percentiles for FTA and 3PA\n",
    "    df['FTA PCTL'] =  df['FTA'].rank(pct=True).round(1)\n",
    "    df['FG3A PCTL'] = df['FG3A'].rank(pct=True).round(1)\n",
    "    return df    "
   ]
  },
  {
   "cell_type": "markdown",
   "metadata": {},
   "source": [
    "## Get data in 5 year groups"
   ]
  },
  {
   "cell_type": "code",
   "execution_count": 56,
   "metadata": {},
   "outputs": [
    {
     "name": "stderr",
     "output_type": "stream",
     "text": [
      "<ipython-input-6-e4618792ede5>:7: SettingWithCopyWarning: \n",
      "A value is trying to be set on a copy of a slice from a DataFrame\n",
      "\n",
      "See the caveats in the documentation: https://pandas.pydata.org/pandas-docs/stable/user_guide/indexing.html#returning-a-view-versus-a-copy\n",
      "  df['TEAM'][index] = new\n"
     ]
    }
   ],
   "source": [
    "years80_85 = get_half_decade_data(1980)\n",
    "years85_90 = get_half_decade_data(1985)"
   ]
  },
  {
   "cell_type": "code",
   "execution_count": 57,
   "metadata": {},
   "outputs": [
    {
     "name": "stderr",
     "output_type": "stream",
     "text": [
      "<ipython-input-6-e4618792ede5>:7: SettingWithCopyWarning: \n",
      "A value is trying to be set on a copy of a slice from a DataFrame\n",
      "\n",
      "See the caveats in the documentation: https://pandas.pydata.org/pandas-docs/stable/user_guide/indexing.html#returning-a-view-versus-a-copy\n",
      "  df['TEAM'][index] = new\n"
     ]
    }
   ],
   "source": [
    "years90_95 = get_half_decade_data(1990)\n",
    "years95_00 = get_half_decade_data(1995)"
   ]
  },
  {
   "cell_type": "code",
   "execution_count": 58,
   "metadata": {},
   "outputs": [
    {
     "name": "stderr",
     "output_type": "stream",
     "text": [
      "<ipython-input-6-e4618792ede5>:7: SettingWithCopyWarning: \n",
      "A value is trying to be set on a copy of a slice from a DataFrame\n",
      "\n",
      "See the caveats in the documentation: https://pandas.pydata.org/pandas-docs/stable/user_guide/indexing.html#returning-a-view-versus-a-copy\n",
      "  df['TEAM'][index] = new\n"
     ]
    }
   ],
   "source": [
    "years00_05 = get_half_decade_data(2000)\n",
    "years05_10 = get_half_decade_data(2005)"
   ]
  },
  {
   "cell_type": "code",
   "execution_count": 59,
   "metadata": {},
   "outputs": [
    {
     "name": "stderr",
     "output_type": "stream",
     "text": [
      "<ipython-input-6-e4618792ede5>:7: SettingWithCopyWarning: \n",
      "A value is trying to be set on a copy of a slice from a DataFrame\n",
      "\n",
      "See the caveats in the documentation: https://pandas.pydata.org/pandas-docs/stable/user_guide/indexing.html#returning-a-view-versus-a-copy\n",
      "  df['TEAM'][index] = new\n"
     ]
    }
   ],
   "source": [
    "years10_15 = get_half_decade_data(2010)\n",
    "years15_20 = get_half_decade_data(2015)"
   ]
  },
  {
   "cell_type": "code",
   "execution_count": 60,
   "metadata": {},
   "outputs": [],
   "source": [
    "all_data = pd.concat([years80_85, years85_90, years90_95, years95_00, years00_05, years05_10,\n",
    "                      years10_15, years15_20])"
   ]
  },
  {
   "cell_type": "code",
   "execution_count": 14,
   "metadata": {},
   "outputs": [
    {
     "data": {
      "text/plain": [
       "Index(['PLAYER', 'TEAM', 'SEASON', 'GP', 'MIN', 'FGM', 'FGA', 'FG_PCT', 'FG3M',\n",
       "       'FG3A', 'FG3_PCT', 'FTM', 'FTA', 'FT_PCT', 'TS%', 'REB', 'AST', 'STL',\n",
       "       'BLK', 'TOV', 'PTS', 'EFF', 'FTA PCTL', 'FG3A PCTL'],\n",
       "      dtype='object')"
      ]
     },
     "execution_count": 14,
     "metadata": {},
     "output_type": "execute_result"
    }
   ],
   "source": [
    "all_data.columns"
   ]
  },
  {
   "cell_type": "code",
   "execution_count": 100,
   "metadata": {},
   "outputs": [
    {
     "data": {
      "text/html": [
       "<div>\n",
       "<style scoped>\n",
       "    .dataframe tbody tr th:only-of-type {\n",
       "        vertical-align: middle;\n",
       "    }\n",
       "\n",
       "    .dataframe tbody tr th {\n",
       "        vertical-align: top;\n",
       "    }\n",
       "\n",
       "    .dataframe thead th {\n",
       "        text-align: right;\n",
       "    }\n",
       "</style>\n",
       "<table border=\"1\" class=\"dataframe\">\n",
       "  <thead>\n",
       "    <tr style=\"text-align: right;\">\n",
       "      <th></th>\n",
       "      <th>PLAYER</th>\n",
       "      <th>TEAM</th>\n",
       "      <th>SEASON</th>\n",
       "      <th>GP</th>\n",
       "      <th>MIN</th>\n",
       "      <th>FGM</th>\n",
       "      <th>FGA</th>\n",
       "      <th>FG_PCT</th>\n",
       "      <th>FG3M</th>\n",
       "      <th>FG3A</th>\n",
       "      <th>...</th>\n",
       "      <th>REB</th>\n",
       "      <th>AST</th>\n",
       "      <th>STL</th>\n",
       "      <th>BLK</th>\n",
       "      <th>TOV</th>\n",
       "      <th>PTS</th>\n",
       "      <th>EFF</th>\n",
       "      <th>FTA PCTL</th>\n",
       "      <th>FG3A PCTL</th>\n",
       "      <th>TS_PCT</th>\n",
       "    </tr>\n",
       "  </thead>\n",
       "  <tbody>\n",
       "    <tr>\n",
       "      <th>0</th>\n",
       "      <td>Adrian Dantley</td>\n",
       "      <td>UTA</td>\n",
       "      <td>1980-81</td>\n",
       "      <td>80</td>\n",
       "      <td>42.7</td>\n",
       "      <td>11.4</td>\n",
       "      <td>20.3</td>\n",
       "      <td>0.559</td>\n",
       "      <td>0.0</td>\n",
       "      <td>0.1</td>\n",
       "      <td>...</td>\n",
       "      <td>6.4</td>\n",
       "      <td>4.0</td>\n",
       "      <td>1.4</td>\n",
       "      <td>0.2</td>\n",
       "      <td>3.5</td>\n",
       "      <td>30.7</td>\n",
       "      <td>28.2</td>\n",
       "      <td>1.0</td>\n",
       "      <td>0.5</td>\n",
       "      <td>0.624</td>\n",
       "    </tr>\n",
       "    <tr>\n",
       "      <th>1</th>\n",
       "      <td>Moses Malone</td>\n",
       "      <td>HOU</td>\n",
       "      <td>1980-81</td>\n",
       "      <td>80</td>\n",
       "      <td>40.6</td>\n",
       "      <td>10.1</td>\n",
       "      <td>19.3</td>\n",
       "      <td>0.522</td>\n",
       "      <td>0.0</td>\n",
       "      <td>0.0</td>\n",
       "      <td>...</td>\n",
       "      <td>14.8</td>\n",
       "      <td>1.8</td>\n",
       "      <td>1.0</td>\n",
       "      <td>1.9</td>\n",
       "      <td>3.9</td>\n",
       "      <td>27.8</td>\n",
       "      <td>31.7</td>\n",
       "      <td>1.0</td>\n",
       "      <td>0.2</td>\n",
       "      <td>0.585</td>\n",
       "    </tr>\n",
       "    <tr>\n",
       "      <th>2</th>\n",
       "      <td>George Gervin</td>\n",
       "      <td>LAC</td>\n",
       "      <td>1980-81</td>\n",
       "      <td>82</td>\n",
       "      <td>33.7</td>\n",
       "      <td>10.4</td>\n",
       "      <td>21.1</td>\n",
       "      <td>0.492</td>\n",
       "      <td>0.1</td>\n",
       "      <td>0.4</td>\n",
       "      <td>...</td>\n",
       "      <td>5.1</td>\n",
       "      <td>3.2</td>\n",
       "      <td>1.1</td>\n",
       "      <td>0.7</td>\n",
       "      <td>3.1</td>\n",
       "      <td>27.1</td>\n",
       "      <td>22.1</td>\n",
       "      <td>1.0</td>\n",
       "      <td>0.8</td>\n",
       "      <td>0.554</td>\n",
       "    </tr>\n",
       "    <tr>\n",
       "      <th>3</th>\n",
       "      <td>Kareem Abdul-Jabbar</td>\n",
       "      <td>LAL</td>\n",
       "      <td>1980-81</td>\n",
       "      <td>80</td>\n",
       "      <td>37.2</td>\n",
       "      <td>10.5</td>\n",
       "      <td>18.2</td>\n",
       "      <td>0.574</td>\n",
       "      <td>0.0</td>\n",
       "      <td>0.0</td>\n",
       "      <td>...</td>\n",
       "      <td>10.3</td>\n",
       "      <td>3.4</td>\n",
       "      <td>0.7</td>\n",
       "      <td>2.9</td>\n",
       "      <td>3.1</td>\n",
       "      <td>26.2</td>\n",
       "      <td>31.0</td>\n",
       "      <td>1.0</td>\n",
       "      <td>0.2</td>\n",
       "      <td>0.617</td>\n",
       "    </tr>\n",
       "    <tr>\n",
       "      <th>4</th>\n",
       "      <td>David Thompson</td>\n",
       "      <td>DEN</td>\n",
       "      <td>1980-81</td>\n",
       "      <td>77</td>\n",
       "      <td>34.0</td>\n",
       "      <td>9.5</td>\n",
       "      <td>18.8</td>\n",
       "      <td>0.506</td>\n",
       "      <td>0.1</td>\n",
       "      <td>0.5</td>\n",
       "      <td>...</td>\n",
       "      <td>3.7</td>\n",
       "      <td>3.0</td>\n",
       "      <td>0.7</td>\n",
       "      <td>0.8</td>\n",
       "      <td>3.2</td>\n",
       "      <td>25.5</td>\n",
       "      <td>19.5</td>\n",
       "      <td>1.0</td>\n",
       "      <td>0.8</td>\n",
       "      <td>0.571</td>\n",
       "    </tr>\n",
       "  </tbody>\n",
       "</table>\n",
       "<p>5 rows × 24 columns</p>\n",
       "</div>"
      ],
      "text/plain": [
       "                PLAYER TEAM   SEASON  GP   MIN   FGM   FGA  FG_PCT  FG3M  \\\n",
       "0       Adrian Dantley  UTA  1980-81  80  42.7  11.4  20.3   0.559   0.0   \n",
       "1         Moses Malone  HOU  1980-81  80  40.6  10.1  19.3   0.522   0.0   \n",
       "2        George Gervin  LAC  1980-81  82  33.7  10.4  21.1   0.492   0.1   \n",
       "3  Kareem Abdul-Jabbar  LAL  1980-81  80  37.2  10.5  18.2   0.574   0.0   \n",
       "4       David Thompson  DEN  1980-81  77  34.0   9.5  18.8   0.506   0.1   \n",
       "\n",
       "   FG3A  ...   REB  AST  STL  BLK  TOV   PTS   EFF  FTA PCTL  FG3A PCTL  \\\n",
       "0   0.1  ...   6.4  4.0  1.4  0.2  3.5  30.7  28.2       1.0        0.5   \n",
       "1   0.0  ...  14.8  1.8  1.0  1.9  3.9  27.8  31.7       1.0        0.2   \n",
       "2   0.4  ...   5.1  3.2  1.1  0.7  3.1  27.1  22.1       1.0        0.8   \n",
       "3   0.0  ...  10.3  3.4  0.7  2.9  3.1  26.2  31.0       1.0        0.2   \n",
       "4   0.5  ...   3.7  3.0  0.7  0.8  3.2  25.5  19.5       1.0        0.8   \n",
       "\n",
       "   TS_PCT  \n",
       "0   0.624  \n",
       "1   0.585  \n",
       "2   0.554  \n",
       "3   0.617  \n",
       "4   0.571  \n",
       "\n",
       "[5 rows x 24 columns]"
      ]
     },
     "execution_count": 100,
     "metadata": {},
     "output_type": "execute_result"
    }
   ],
   "source": [
    "all_data = all_data.fillna(0.0)\n",
    "all_data['TS_PCT'] = (all_data['PTS'] / (2*(all_data['FGA'] + .44*all_data['FTA']))).round(3)\n",
    "all_data.head()"
   ]
  },
  {
   "cell_type": "code",
   "execution_count": 101,
   "metadata": {},
   "outputs": [],
   "source": [
    "all_data.to_csv('All_Players.csv')"
   ]
  },
  {
   "cell_type": "markdown",
   "metadata": {},
   "source": [
    "# Manipulate Data"
   ]
  },
  {
   "cell_type": "code",
   "execution_count": 63,
   "metadata": {},
   "outputs": [],
   "source": [
    "averages_df = all_data.groupby(by=['SEASON']).mean().round(3)"
   ]
  },
  {
   "cell_type": "markdown",
   "metadata": {},
   "source": [
    "### Examine Historic trends"
   ]
  },
  {
   "cell_type": "code",
   "execution_count": 64,
   "metadata": {},
   "outputs": [
    {
     "data": {
      "text/html": [
       "<div>\n",
       "<style scoped>\n",
       "    .dataframe tbody tr th:only-of-type {\n",
       "        vertical-align: middle;\n",
       "    }\n",
       "\n",
       "    .dataframe tbody tr th {\n",
       "        vertical-align: top;\n",
       "    }\n",
       "\n",
       "    .dataframe thead th {\n",
       "        text-align: right;\n",
       "    }\n",
       "</style>\n",
       "<table border=\"1\" class=\"dataframe\">\n",
       "  <thead>\n",
       "    <tr style=\"text-align: right;\">\n",
       "      <th></th>\n",
       "      <th>GP</th>\n",
       "      <th>MIN</th>\n",
       "      <th>FGM</th>\n",
       "      <th>FGA</th>\n",
       "      <th>FG_PCT</th>\n",
       "      <th>FG3M</th>\n",
       "      <th>FG3A</th>\n",
       "      <th>FG3_PCT</th>\n",
       "      <th>FTM</th>\n",
       "      <th>FTA</th>\n",
       "      <th>FT_PCT</th>\n",
       "      <th>REB</th>\n",
       "      <th>AST</th>\n",
       "      <th>STL</th>\n",
       "      <th>BLK</th>\n",
       "      <th>TOV</th>\n",
       "      <th>PTS</th>\n",
       "      <th>EFF</th>\n",
       "      <th>FTA PCTL</th>\n",
       "      <th>FG3A PCTL</th>\n",
       "    </tr>\n",
       "    <tr>\n",
       "      <th>SEASON</th>\n",
       "      <th></th>\n",
       "      <th></th>\n",
       "      <th></th>\n",
       "      <th></th>\n",
       "      <th></th>\n",
       "      <th></th>\n",
       "      <th></th>\n",
       "      <th></th>\n",
       "      <th></th>\n",
       "      <th></th>\n",
       "      <th></th>\n",
       "      <th></th>\n",
       "      <th></th>\n",
       "      <th></th>\n",
       "      <th></th>\n",
       "      <th></th>\n",
       "      <th></th>\n",
       "      <th></th>\n",
       "      <th></th>\n",
       "      <th></th>\n",
       "    </tr>\n",
       "  </thead>\n",
       "  <tbody>\n",
       "    <tr>\n",
       "      <th>1980-81</th>\n",
       "      <td>78.963</td>\n",
       "      <td>27.144</td>\n",
       "      <td>5.011</td>\n",
       "      <td>10.167</td>\n",
       "      <td>0.489</td>\n",
       "      <td>0.048</td>\n",
       "      <td>0.217</td>\n",
       "      <td>0.138</td>\n",
       "      <td>2.554</td>\n",
       "      <td>3.372</td>\n",
       "      <td>0.750</td>\n",
       "      <td>4.919</td>\n",
       "      <td>2.837</td>\n",
       "      <td>1.011</td>\n",
       "      <td>0.623</td>\n",
       "      <td>2.060</td>\n",
       "      <td>12.639</td>\n",
       "      <td>13.984</td>\n",
       "      <td>0.519</td>\n",
       "      <td>0.478</td>\n",
       "    </tr>\n",
       "    <tr>\n",
       "      <th>1981-82</th>\n",
       "      <td>78.347</td>\n",
       "      <td>26.443</td>\n",
       "      <td>4.831</td>\n",
       "      <td>9.733</td>\n",
       "      <td>0.491</td>\n",
       "      <td>0.052</td>\n",
       "      <td>0.219</td>\n",
       "      <td>0.165</td>\n",
       "      <td>2.389</td>\n",
       "      <td>3.183</td>\n",
       "      <td>0.739</td>\n",
       "      <td>4.842</td>\n",
       "      <td>2.843</td>\n",
       "      <td>0.942</td>\n",
       "      <td>0.596</td>\n",
       "      <td>1.925</td>\n",
       "      <td>12.104</td>\n",
       "      <td>13.700</td>\n",
       "      <td>0.492</td>\n",
       "      <td>0.479</td>\n",
       "    </tr>\n",
       "    <tr>\n",
       "      <th>1982-83</th>\n",
       "      <td>78.375</td>\n",
       "      <td>26.568</td>\n",
       "      <td>4.960</td>\n",
       "      <td>10.082</td>\n",
       "      <td>0.488</td>\n",
       "      <td>0.053</td>\n",
       "      <td>0.232</td>\n",
       "      <td>0.144</td>\n",
       "      <td>2.384</td>\n",
       "      <td>3.188</td>\n",
       "      <td>0.735</td>\n",
       "      <td>5.044</td>\n",
       "      <td>2.810</td>\n",
       "      <td>0.973</td>\n",
       "      <td>0.663</td>\n",
       "      <td>2.073</td>\n",
       "      <td>12.359</td>\n",
       "      <td>13.841</td>\n",
       "      <td>0.485</td>\n",
       "      <td>0.502</td>\n",
       "    </tr>\n",
       "    <tr>\n",
       "      <th>1983-84</th>\n",
       "      <td>78.556</td>\n",
       "      <td>26.414</td>\n",
       "      <td>4.893</td>\n",
       "      <td>9.856</td>\n",
       "      <td>0.493</td>\n",
       "      <td>0.057</td>\n",
       "      <td>0.248</td>\n",
       "      <td>0.152</td>\n",
       "      <td>2.573</td>\n",
       "      <td>3.358</td>\n",
       "      <td>0.756</td>\n",
       "      <td>4.749</td>\n",
       "      <td>2.819</td>\n",
       "      <td>0.931</td>\n",
       "      <td>0.596</td>\n",
       "      <td>1.920</td>\n",
       "      <td>12.417</td>\n",
       "      <td>13.832</td>\n",
       "      <td>0.508</td>\n",
       "      <td>0.514</td>\n",
       "    </tr>\n",
       "    <tr>\n",
       "      <th>1984-85</th>\n",
       "      <td>78.071</td>\n",
       "      <td>26.981</td>\n",
       "      <td>5.046</td>\n",
       "      <td>10.190</td>\n",
       "      <td>0.494</td>\n",
       "      <td>0.107</td>\n",
       "      <td>0.362</td>\n",
       "      <td>0.165</td>\n",
       "      <td>2.604</td>\n",
       "      <td>3.382</td>\n",
       "      <td>0.762</td>\n",
       "      <td>4.793</td>\n",
       "      <td>3.073</td>\n",
       "      <td>0.969</td>\n",
       "      <td>0.586</td>\n",
       "      <td>1.978</td>\n",
       "      <td>12.805</td>\n",
       "      <td>14.322</td>\n",
       "      <td>0.503</td>\n",
       "      <td>0.547</td>\n",
       "    </tr>\n",
       "    <tr>\n",
       "      <th>1985-86</th>\n",
       "      <td>78.120</td>\n",
       "      <td>26.517</td>\n",
       "      <td>4.874</td>\n",
       "      <td>9.879</td>\n",
       "      <td>0.492</td>\n",
       "      <td>0.094</td>\n",
       "      <td>0.346</td>\n",
       "      <td>0.155</td>\n",
       "      <td>2.557</td>\n",
       "      <td>3.351</td>\n",
       "      <td>0.753</td>\n",
       "      <td>4.797</td>\n",
       "      <td>2.923</td>\n",
       "      <td>0.983</td>\n",
       "      <td>0.590</td>\n",
       "      <td>1.914</td>\n",
       "      <td>12.401</td>\n",
       "      <td>13.971</td>\n",
       "      <td>0.501</td>\n",
       "      <td>0.442</td>\n",
       "    </tr>\n",
       "    <tr>\n",
       "      <th>1986-87</th>\n",
       "      <td>78.327</td>\n",
       "      <td>27.584</td>\n",
       "      <td>5.008</td>\n",
       "      <td>10.269</td>\n",
       "      <td>0.485</td>\n",
       "      <td>0.175</td>\n",
       "      <td>0.555</td>\n",
       "      <td>0.170</td>\n",
       "      <td>2.750</td>\n",
       "      <td>3.571</td>\n",
       "      <td>0.759</td>\n",
       "      <td>5.122</td>\n",
       "      <td>3.031</td>\n",
       "      <td>0.977</td>\n",
       "      <td>0.661</td>\n",
       "      <td>1.881</td>\n",
       "      <td>12.940</td>\n",
       "      <td>14.781</td>\n",
       "      <td>0.527</td>\n",
       "      <td>0.472</td>\n",
       "    </tr>\n",
       "    <tr>\n",
       "      <th>1987-88</th>\n",
       "      <td>78.110</td>\n",
       "      <td>26.257</td>\n",
       "      <td>4.697</td>\n",
       "      <td>9.638</td>\n",
       "      <td>0.484</td>\n",
       "      <td>0.163</td>\n",
       "      <td>0.523</td>\n",
       "      <td>0.173</td>\n",
       "      <td>2.515</td>\n",
       "      <td>3.269</td>\n",
       "      <td>0.764</td>\n",
       "      <td>4.916</td>\n",
       "      <td>2.863</td>\n",
       "      <td>0.929</td>\n",
       "      <td>0.597</td>\n",
       "      <td>1.770</td>\n",
       "      <td>12.079</td>\n",
       "      <td>13.918</td>\n",
       "      <td>0.485</td>\n",
       "      <td>0.453</td>\n",
       "    </tr>\n",
       "    <tr>\n",
       "      <th>1988-89</th>\n",
       "      <td>78.167</td>\n",
       "      <td>27.358</td>\n",
       "      <td>4.961</td>\n",
       "      <td>10.272</td>\n",
       "      <td>0.479</td>\n",
       "      <td>0.252</td>\n",
       "      <td>0.781</td>\n",
       "      <td>0.189</td>\n",
       "      <td>2.619</td>\n",
       "      <td>3.372</td>\n",
       "      <td>0.763</td>\n",
       "      <td>5.079</td>\n",
       "      <td>2.957</td>\n",
       "      <td>1.023</td>\n",
       "      <td>0.635</td>\n",
       "      <td>1.905</td>\n",
       "      <td>12.800</td>\n",
       "      <td>14.513</td>\n",
       "      <td>0.501</td>\n",
       "      <td>0.538</td>\n",
       "    </tr>\n",
       "    <tr>\n",
       "      <th>1989-90</th>\n",
       "      <td>78.508</td>\n",
       "      <td>27.439</td>\n",
       "      <td>4.792</td>\n",
       "      <td>9.944</td>\n",
       "      <td>0.478</td>\n",
       "      <td>0.248</td>\n",
       "      <td>0.750</td>\n",
       "      <td>0.219</td>\n",
       "      <td>2.534</td>\n",
       "      <td>3.290</td>\n",
       "      <td>0.754</td>\n",
       "      <td>4.950</td>\n",
       "      <td>2.903</td>\n",
       "      <td>0.961</td>\n",
       "      <td>0.590</td>\n",
       "      <td>1.758</td>\n",
       "      <td>12.370</td>\n",
       "      <td>14.105</td>\n",
       "      <td>0.491</td>\n",
       "      <td>0.551</td>\n",
       "    </tr>\n",
       "    <tr>\n",
       "      <th>1990-91</th>\n",
       "      <td>77.604</td>\n",
       "      <td>27.112</td>\n",
       "      <td>4.743</td>\n",
       "      <td>9.898</td>\n",
       "      <td>0.477</td>\n",
       "      <td>0.263</td>\n",
       "      <td>0.815</td>\n",
       "      <td>0.202</td>\n",
       "      <td>2.469</td>\n",
       "      <td>3.180</td>\n",
       "      <td>0.758</td>\n",
       "      <td>4.848</td>\n",
       "      <td>2.790</td>\n",
       "      <td>0.974</td>\n",
       "      <td>0.577</td>\n",
       "      <td>1.729</td>\n",
       "      <td>12.209</td>\n",
       "      <td>13.806</td>\n",
       "      <td>0.497</td>\n",
       "      <td>0.460</td>\n",
       "    </tr>\n",
       "    <tr>\n",
       "      <th>1991-92</th>\n",
       "      <td>78.709</td>\n",
       "      <td>27.815</td>\n",
       "      <td>4.867</td>\n",
       "      <td>10.164</td>\n",
       "      <td>0.476</td>\n",
       "      <td>0.296</td>\n",
       "      <td>0.886</td>\n",
       "      <td>0.205</td>\n",
       "      <td>2.382</td>\n",
       "      <td>3.116</td>\n",
       "      <td>0.753</td>\n",
       "      <td>5.037</td>\n",
       "      <td>2.887</td>\n",
       "      <td>1.013</td>\n",
       "      <td>0.650</td>\n",
       "      <td>1.725</td>\n",
       "      <td>12.408</td>\n",
       "      <td>14.229</td>\n",
       "      <td>0.499</td>\n",
       "      <td>0.466</td>\n",
       "    </tr>\n",
       "    <tr>\n",
       "      <th>1992-93</th>\n",
       "      <td>77.521</td>\n",
       "      <td>27.158</td>\n",
       "      <td>4.667</td>\n",
       "      <td>9.732</td>\n",
       "      <td>0.478</td>\n",
       "      <td>0.340</td>\n",
       "      <td>1.004</td>\n",
       "      <td>0.216</td>\n",
       "      <td>2.424</td>\n",
       "      <td>3.206</td>\n",
       "      <td>0.749</td>\n",
       "      <td>4.965</td>\n",
       "      <td>2.845</td>\n",
       "      <td>0.963</td>\n",
       "      <td>0.597</td>\n",
       "      <td>1.722</td>\n",
       "      <td>12.106</td>\n",
       "      <td>13.914</td>\n",
       "      <td>0.512</td>\n",
       "      <td>0.485</td>\n",
       "    </tr>\n",
       "    <tr>\n",
       "      <th>1993-94</th>\n",
       "      <td>77.644</td>\n",
       "      <td>27.207</td>\n",
       "      <td>4.542</td>\n",
       "      <td>9.677</td>\n",
       "      <td>0.469</td>\n",
       "      <td>0.377</td>\n",
       "      <td>1.134</td>\n",
       "      <td>0.220</td>\n",
       "      <td>2.235</td>\n",
       "      <td>3.013</td>\n",
       "      <td>0.741</td>\n",
       "      <td>4.839</td>\n",
       "      <td>2.832</td>\n",
       "      <td>1.030</td>\n",
       "      <td>0.577</td>\n",
       "      <td>1.719</td>\n",
       "      <td>11.706</td>\n",
       "      <td>13.350</td>\n",
       "      <td>0.475</td>\n",
       "      <td>0.507</td>\n",
       "    </tr>\n",
       "    <tr>\n",
       "      <th>1994-95</th>\n",
       "      <td>78.012</td>\n",
       "      <td>28.357</td>\n",
       "      <td>4.604</td>\n",
       "      <td>9.773</td>\n",
       "      <td>0.471</td>\n",
       "      <td>0.671</td>\n",
       "      <td>1.854</td>\n",
       "      <td>0.272</td>\n",
       "      <td>2.457</td>\n",
       "      <td>3.313</td>\n",
       "      <td>0.739</td>\n",
       "      <td>4.893</td>\n",
       "      <td>2.724</td>\n",
       "      <td>0.963</td>\n",
       "      <td>0.618</td>\n",
       "      <td>1.766</td>\n",
       "      <td>12.336</td>\n",
       "      <td>13.758</td>\n",
       "      <td>0.527</td>\n",
       "      <td>0.606</td>\n",
       "    </tr>\n",
       "    <tr>\n",
       "      <th>1995-96</th>\n",
       "      <td>77.796</td>\n",
       "      <td>28.341</td>\n",
       "      <td>4.524</td>\n",
       "      <td>9.686</td>\n",
       "      <td>0.465</td>\n",
       "      <td>0.728</td>\n",
       "      <td>1.948</td>\n",
       "      <td>0.283</td>\n",
       "      <td>2.377</td>\n",
       "      <td>3.179</td>\n",
       "      <td>0.743</td>\n",
       "      <td>4.887</td>\n",
       "      <td>2.687</td>\n",
       "      <td>0.946</td>\n",
       "      <td>0.633</td>\n",
       "      <td>1.768</td>\n",
       "      <td>12.157</td>\n",
       "      <td>13.580</td>\n",
       "      <td>0.520</td>\n",
       "      <td>0.531</td>\n",
       "    </tr>\n",
       "    <tr>\n",
       "      <th>1996-97</th>\n",
       "      <td>78.058</td>\n",
       "      <td>28.376</td>\n",
       "      <td>4.364</td>\n",
       "      <td>9.473</td>\n",
       "      <td>0.460</td>\n",
       "      <td>0.709</td>\n",
       "      <td>1.950</td>\n",
       "      <td>0.259</td>\n",
       "      <td>2.308</td>\n",
       "      <td>3.075</td>\n",
       "      <td>0.734</td>\n",
       "      <td>4.761</td>\n",
       "      <td>2.632</td>\n",
       "      <td>0.975</td>\n",
       "      <td>0.563</td>\n",
       "      <td>1.768</td>\n",
       "      <td>11.740</td>\n",
       "      <td>13.024</td>\n",
       "      <td>0.501</td>\n",
       "      <td>0.528</td>\n",
       "    </tr>\n",
       "    <tr>\n",
       "      <th>1997-98</th>\n",
       "      <td>77.989</td>\n",
       "      <td>27.727</td>\n",
       "      <td>4.279</td>\n",
       "      <td>9.357</td>\n",
       "      <td>0.456</td>\n",
       "      <td>0.525</td>\n",
       "      <td>1.519</td>\n",
       "      <td>0.234</td>\n",
       "      <td>2.313</td>\n",
       "      <td>3.113</td>\n",
       "      <td>0.738</td>\n",
       "      <td>4.714</td>\n",
       "      <td>2.595</td>\n",
       "      <td>0.970</td>\n",
       "      <td>0.570</td>\n",
       "      <td>1.689</td>\n",
       "      <td>11.388</td>\n",
       "      <td>12.660</td>\n",
       "      <td>0.509</td>\n",
       "      <td>0.475</td>\n",
       "    </tr>\n",
       "    <tr>\n",
       "      <th>1998-99</th>\n",
       "      <td>48.162</td>\n",
       "      <td>26.835</td>\n",
       "      <td>3.896</td>\n",
       "      <td>8.777</td>\n",
       "      <td>0.444</td>\n",
       "      <td>0.516</td>\n",
       "      <td>1.487</td>\n",
       "      <td>0.238</td>\n",
       "      <td>2.154</td>\n",
       "      <td>2.937</td>\n",
       "      <td>0.728</td>\n",
       "      <td>4.624</td>\n",
       "      <td>2.346</td>\n",
       "      <td>0.949</td>\n",
       "      <td>0.572</td>\n",
       "      <td>1.596</td>\n",
       "      <td>10.463</td>\n",
       "      <td>11.687</td>\n",
       "      <td>0.474</td>\n",
       "      <td>0.469</td>\n",
       "    </tr>\n",
       "    <tr>\n",
       "      <th>1999-00</th>\n",
       "      <td>78.303</td>\n",
       "      <td>27.502</td>\n",
       "      <td>4.369</td>\n",
       "      <td>9.627</td>\n",
       "      <td>0.453</td>\n",
       "      <td>0.582</td>\n",
       "      <td>1.624</td>\n",
       "      <td>0.271</td>\n",
       "      <td>2.293</td>\n",
       "      <td>3.034</td>\n",
       "      <td>0.753</td>\n",
       "      <td>4.894</td>\n",
       "      <td>2.655</td>\n",
       "      <td>0.918</td>\n",
       "      <td>0.602</td>\n",
       "      <td>1.724</td>\n",
       "      <td>11.618</td>\n",
       "      <td>12.961</td>\n",
       "      <td>0.485</td>\n",
       "      <td>0.498</td>\n",
       "    </tr>\n",
       "    <tr>\n",
       "      <th>2000-01</th>\n",
       "      <td>77.856</td>\n",
       "      <td>28.531</td>\n",
       "      <td>4.480</td>\n",
       "      <td>9.989</td>\n",
       "      <td>0.448</td>\n",
       "      <td>0.619</td>\n",
       "      <td>1.730</td>\n",
       "      <td>0.259</td>\n",
       "      <td>2.402</td>\n",
       "      <td>3.188</td>\n",
       "      <td>0.747</td>\n",
       "      <td>5.059</td>\n",
       "      <td>2.721</td>\n",
       "      <td>0.919</td>\n",
       "      <td>0.629</td>\n",
       "      <td>1.734</td>\n",
       "      <td>11.979</td>\n",
       "      <td>13.264</td>\n",
       "      <td>0.525</td>\n",
       "      <td>0.495</td>\n",
       "    </tr>\n",
       "    <tr>\n",
       "      <th>2001-02</th>\n",
       "      <td>77.469</td>\n",
       "      <td>28.554</td>\n",
       "      <td>4.483</td>\n",
       "      <td>9.902</td>\n",
       "      <td>0.455</td>\n",
       "      <td>0.664</td>\n",
       "      <td>1.831</td>\n",
       "      <td>0.271</td>\n",
       "      <td>2.285</td>\n",
       "      <td>3.003</td>\n",
       "      <td>0.751</td>\n",
       "      <td>5.090</td>\n",
       "      <td>2.656</td>\n",
       "      <td>0.925</td>\n",
       "      <td>0.651</td>\n",
       "      <td>1.633</td>\n",
       "      <td>11.913</td>\n",
       "      <td>13.465</td>\n",
       "      <td>0.511</td>\n",
       "      <td>0.499</td>\n",
       "    </tr>\n",
       "    <tr>\n",
       "      <th>2002-03</th>\n",
       "      <td>78.048</td>\n",
       "      <td>27.794</td>\n",
       "      <td>4.266</td>\n",
       "      <td>9.547</td>\n",
       "      <td>0.446</td>\n",
       "      <td>0.600</td>\n",
       "      <td>1.721</td>\n",
       "      <td>0.258</td>\n",
       "      <td>2.262</td>\n",
       "      <td>2.952</td>\n",
       "      <td>0.749</td>\n",
       "      <td>4.884</td>\n",
       "      <td>2.573</td>\n",
       "      <td>0.926</td>\n",
       "      <td>0.568</td>\n",
       "      <td>1.657</td>\n",
       "      <td>11.394</td>\n",
       "      <td>12.704</td>\n",
       "      <td>0.479</td>\n",
       "      <td>0.493</td>\n",
       "    </tr>\n",
       "    <tr>\n",
       "      <th>2003-04</th>\n",
       "      <td>77.348</td>\n",
       "      <td>28.024</td>\n",
       "      <td>4.208</td>\n",
       "      <td>9.442</td>\n",
       "      <td>0.445</td>\n",
       "      <td>0.649</td>\n",
       "      <td>1.846</td>\n",
       "      <td>0.259</td>\n",
       "      <td>2.223</td>\n",
       "      <td>2.947</td>\n",
       "      <td>0.751</td>\n",
       "      <td>4.942</td>\n",
       "      <td>2.540</td>\n",
       "      <td>0.923</td>\n",
       "      <td>0.610</td>\n",
       "      <td>1.654</td>\n",
       "      <td>11.289</td>\n",
       "      <td>12.692</td>\n",
       "      <td>0.493</td>\n",
       "      <td>0.504</td>\n",
       "    </tr>\n",
       "    <tr>\n",
       "      <th>2004-05</th>\n",
       "      <td>76.961</td>\n",
       "      <td>27.192</td>\n",
       "      <td>4.181</td>\n",
       "      <td>9.234</td>\n",
       "      <td>0.453</td>\n",
       "      <td>0.672</td>\n",
       "      <td>1.866</td>\n",
       "      <td>0.253</td>\n",
       "      <td>2.351</td>\n",
       "      <td>3.083</td>\n",
       "      <td>0.754</td>\n",
       "      <td>4.658</td>\n",
       "      <td>2.490</td>\n",
       "      <td>0.843</td>\n",
       "      <td>0.541</td>\n",
       "      <td>1.555</td>\n",
       "      <td>11.386</td>\n",
       "      <td>12.577</td>\n",
       "      <td>0.493</td>\n",
       "      <td>0.506</td>\n",
       "    </tr>\n",
       "    <tr>\n",
       "      <th>2005-06</th>\n",
       "      <td>77.528</td>\n",
       "      <td>29.067</td>\n",
       "      <td>4.503</td>\n",
       "      <td>9.862</td>\n",
       "      <td>0.455</td>\n",
       "      <td>0.769</td>\n",
       "      <td>2.104</td>\n",
       "      <td>0.279</td>\n",
       "      <td>2.509</td>\n",
       "      <td>3.286</td>\n",
       "      <td>0.746</td>\n",
       "      <td>4.769</td>\n",
       "      <td>2.606</td>\n",
       "      <td>0.857</td>\n",
       "      <td>0.502</td>\n",
       "      <td>1.630</td>\n",
       "      <td>12.285</td>\n",
       "      <td>13.259</td>\n",
       "      <td>0.532</td>\n",
       "      <td>0.499</td>\n",
       "    </tr>\n",
       "    <tr>\n",
       "      <th>2006-07</th>\n",
       "      <td>76.789</td>\n",
       "      <td>28.121</td>\n",
       "      <td>4.398</td>\n",
       "      <td>9.512</td>\n",
       "      <td>0.464</td>\n",
       "      <td>0.753</td>\n",
       "      <td>2.062</td>\n",
       "      <td>0.267</td>\n",
       "      <td>2.405</td>\n",
       "      <td>3.165</td>\n",
       "      <td>0.748</td>\n",
       "      <td>4.731</td>\n",
       "      <td>2.572</td>\n",
       "      <td>0.849</td>\n",
       "      <td>0.536</td>\n",
       "      <td>1.711</td>\n",
       "      <td>11.957</td>\n",
       "      <td>13.054</td>\n",
       "      <td>0.516</td>\n",
       "      <td>0.487</td>\n",
       "    </tr>\n",
       "    <tr>\n",
       "      <th>2007-08</th>\n",
       "      <td>76.950</td>\n",
       "      <td>27.379</td>\n",
       "      <td>4.383</td>\n",
       "      <td>9.457</td>\n",
       "      <td>0.464</td>\n",
       "      <td>0.782</td>\n",
       "      <td>2.123</td>\n",
       "      <td>0.268</td>\n",
       "      <td>2.253</td>\n",
       "      <td>2.947</td>\n",
       "      <td>0.751</td>\n",
       "      <td>4.834</td>\n",
       "      <td>2.446</td>\n",
       "      <td>0.834</td>\n",
       "      <td>0.543</td>\n",
       "      <td>1.500</td>\n",
       "      <td>11.800</td>\n",
       "      <td>13.186</td>\n",
       "      <td>0.480</td>\n",
       "      <td>0.500</td>\n",
       "    </tr>\n",
       "    <tr>\n",
       "      <th>2008-09</th>\n",
       "      <td>77.348</td>\n",
       "      <td>27.812</td>\n",
       "      <td>4.445</td>\n",
       "      <td>9.567</td>\n",
       "      <td>0.465</td>\n",
       "      <td>0.813</td>\n",
       "      <td>2.166</td>\n",
       "      <td>0.285</td>\n",
       "      <td>2.350</td>\n",
       "      <td>3.013</td>\n",
       "      <td>0.773</td>\n",
       "      <td>4.704</td>\n",
       "      <td>2.533</td>\n",
       "      <td>0.841</td>\n",
       "      <td>0.514</td>\n",
       "      <td>1.563</td>\n",
       "      <td>12.059</td>\n",
       "      <td>13.306</td>\n",
       "      <td>0.497</td>\n",
       "      <td>0.507</td>\n",
       "    </tr>\n",
       "    <tr>\n",
       "      <th>2009-10</th>\n",
       "      <td>77.380</td>\n",
       "      <td>27.814</td>\n",
       "      <td>4.524</td>\n",
       "      <td>9.721</td>\n",
       "      <td>0.466</td>\n",
       "      <td>0.755</td>\n",
       "      <td>2.100</td>\n",
       "      <td>0.278</td>\n",
       "      <td>2.281</td>\n",
       "      <td>2.964</td>\n",
       "      <td>0.756</td>\n",
       "      <td>4.828</td>\n",
       "      <td>2.511</td>\n",
       "      <td>0.840</td>\n",
       "      <td>0.545</td>\n",
       "      <td>1.588</td>\n",
       "      <td>12.075</td>\n",
       "      <td>13.328</td>\n",
       "      <td>0.492</td>\n",
       "      <td>0.502</td>\n",
       "    </tr>\n",
       "    <tr>\n",
       "      <th>2010-11</th>\n",
       "      <td>77.210</td>\n",
       "      <td>27.426</td>\n",
       "      <td>4.461</td>\n",
       "      <td>9.564</td>\n",
       "      <td>0.466</td>\n",
       "      <td>0.746</td>\n",
       "      <td>2.047</td>\n",
       "      <td>0.267</td>\n",
       "      <td>2.297</td>\n",
       "      <td>2.960</td>\n",
       "      <td>0.767</td>\n",
       "      <td>4.713</td>\n",
       "      <td>2.560</td>\n",
       "      <td>0.839</td>\n",
       "      <td>0.535</td>\n",
       "      <td>1.566</td>\n",
       "      <td>11.957</td>\n",
       "      <td>13.268</td>\n",
       "      <td>0.549</td>\n",
       "      <td>0.485</td>\n",
       "    </tr>\n",
       "    <tr>\n",
       "      <th>2011-12</th>\n",
       "      <td>62.539</td>\n",
       "      <td>26.708</td>\n",
       "      <td>4.246</td>\n",
       "      <td>9.298</td>\n",
       "      <td>0.458</td>\n",
       "      <td>0.679</td>\n",
       "      <td>1.917</td>\n",
       "      <td>0.259</td>\n",
       "      <td>2.004</td>\n",
       "      <td>2.638</td>\n",
       "      <td>0.744</td>\n",
       "      <td>4.853</td>\n",
       "      <td>2.292</td>\n",
       "      <td>0.849</td>\n",
       "      <td>0.589</td>\n",
       "      <td>1.523</td>\n",
       "      <td>11.173</td>\n",
       "      <td>12.546</td>\n",
       "      <td>0.510</td>\n",
       "      <td>0.458</td>\n",
       "    </tr>\n",
       "    <tr>\n",
       "      <th>2012-13</th>\n",
       "      <td>77.503</td>\n",
       "      <td>27.027</td>\n",
       "      <td>4.337</td>\n",
       "      <td>9.457</td>\n",
       "      <td>0.458</td>\n",
       "      <td>0.831</td>\n",
       "      <td>2.263</td>\n",
       "      <td>0.272</td>\n",
       "      <td>1.972</td>\n",
       "      <td>2.596</td>\n",
       "      <td>0.757</td>\n",
       "      <td>4.765</td>\n",
       "      <td>2.509</td>\n",
       "      <td>0.878</td>\n",
       "      <td>0.574</td>\n",
       "      <td>1.579</td>\n",
       "      <td>11.475</td>\n",
       "      <td>12.893</td>\n",
       "      <td>0.497</td>\n",
       "      <td>0.510</td>\n",
       "    </tr>\n",
       "    <tr>\n",
       "      <th>2013-14</th>\n",
       "      <td>73.375</td>\n",
       "      <td>25.708</td>\n",
       "      <td>4.088</td>\n",
       "      <td>8.939</td>\n",
       "      <td>0.459</td>\n",
       "      <td>0.837</td>\n",
       "      <td>2.308</td>\n",
       "      <td>0.280</td>\n",
       "      <td>1.975</td>\n",
       "      <td>2.594</td>\n",
       "      <td>0.749</td>\n",
       "      <td>4.512</td>\n",
       "      <td>2.389</td>\n",
       "      <td>0.824</td>\n",
       "      <td>0.496</td>\n",
       "      <td>1.483</td>\n",
       "      <td>10.981</td>\n",
       "      <td>12.245</td>\n",
       "      <td>0.489</td>\n",
       "      <td>0.518</td>\n",
       "    </tr>\n",
       "    <tr>\n",
       "      <th>2014-15</th>\n",
       "      <td>71.940</td>\n",
       "      <td>25.196</td>\n",
       "      <td>3.993</td>\n",
       "      <td>8.790</td>\n",
       "      <td>0.456</td>\n",
       "      <td>0.813</td>\n",
       "      <td>2.282</td>\n",
       "      <td>0.279</td>\n",
       "      <td>1.835</td>\n",
       "      <td>2.432</td>\n",
       "      <td>0.740</td>\n",
       "      <td>4.565</td>\n",
       "      <td>2.311</td>\n",
       "      <td>0.806</td>\n",
       "      <td>0.509</td>\n",
       "      <td>1.430</td>\n",
       "      <td>10.630</td>\n",
       "      <td>11.996</td>\n",
       "      <td>0.472</td>\n",
       "      <td>0.511</td>\n",
       "    </tr>\n",
       "    <tr>\n",
       "      <th>2015-16</th>\n",
       "      <td>72.841</td>\n",
       "      <td>24.828</td>\n",
       "      <td>3.975</td>\n",
       "      <td>8.746</td>\n",
       "      <td>0.457</td>\n",
       "      <td>0.892</td>\n",
       "      <td>2.503</td>\n",
       "      <td>0.297</td>\n",
       "      <td>1.833</td>\n",
       "      <td>2.408</td>\n",
       "      <td>0.755</td>\n",
       "      <td>4.565</td>\n",
       "      <td>2.280</td>\n",
       "      <td>0.818</td>\n",
       "      <td>0.514</td>\n",
       "      <td>1.418</td>\n",
       "      <td>10.677</td>\n",
       "      <td>12.094</td>\n",
       "      <td>0.507</td>\n",
       "      <td>0.419</td>\n",
       "    </tr>\n",
       "    <tr>\n",
       "      <th>2016-17</th>\n",
       "      <td>72.745</td>\n",
       "      <td>24.938</td>\n",
       "      <td>4.106</td>\n",
       "      <td>8.932</td>\n",
       "      <td>0.459</td>\n",
       "      <td>1.029</td>\n",
       "      <td>2.855</td>\n",
       "      <td>0.310</td>\n",
       "      <td>1.906</td>\n",
       "      <td>2.448</td>\n",
       "      <td>0.763</td>\n",
       "      <td>4.496</td>\n",
       "      <td>2.411</td>\n",
       "      <td>0.800</td>\n",
       "      <td>0.487</td>\n",
       "      <td>1.388</td>\n",
       "      <td>11.146</td>\n",
       "      <td>12.577</td>\n",
       "      <td>0.493</td>\n",
       "      <td>0.466</td>\n",
       "    </tr>\n",
       "    <tr>\n",
       "      <th>2017-18</th>\n",
       "      <td>72.838</td>\n",
       "      <td>24.855</td>\n",
       "      <td>4.138</td>\n",
       "      <td>8.917</td>\n",
       "      <td>0.466</td>\n",
       "      <td>1.097</td>\n",
       "      <td>3.002</td>\n",
       "      <td>0.319</td>\n",
       "      <td>1.747</td>\n",
       "      <td>2.265</td>\n",
       "      <td>0.759</td>\n",
       "      <td>4.476</td>\n",
       "      <td>2.410</td>\n",
       "      <td>0.804</td>\n",
       "      <td>0.496</td>\n",
       "      <td>1.395</td>\n",
       "      <td>11.122</td>\n",
       "      <td>12.610</td>\n",
       "      <td>0.481</td>\n",
       "      <td>0.493</td>\n",
       "    </tr>\n",
       "    <tr>\n",
       "      <th>2018-19</th>\n",
       "      <td>71.814</td>\n",
       "      <td>24.886</td>\n",
       "      <td>4.348</td>\n",
       "      <td>9.331</td>\n",
       "      <td>0.468</td>\n",
       "      <td>1.192</td>\n",
       "      <td>3.319</td>\n",
       "      <td>0.319</td>\n",
       "      <td>1.911</td>\n",
       "      <td>2.468</td>\n",
       "      <td>0.767</td>\n",
       "      <td>4.706</td>\n",
       "      <td>2.541</td>\n",
       "      <td>0.787</td>\n",
       "      <td>0.513</td>\n",
       "      <td>1.411</td>\n",
       "      <td>11.797</td>\n",
       "      <td>13.392</td>\n",
       "      <td>0.513</td>\n",
       "      <td>0.534</td>\n",
       "    </tr>\n",
       "    <tr>\n",
       "      <th>2019-20</th>\n",
       "      <td>61.931</td>\n",
       "      <td>25.262</td>\n",
       "      <td>4.368</td>\n",
       "      <td>9.481</td>\n",
       "      <td>0.463</td>\n",
       "      <td>1.338</td>\n",
       "      <td>3.685</td>\n",
       "      <td>0.339</td>\n",
       "      <td>1.947</td>\n",
       "      <td>2.500</td>\n",
       "      <td>0.771</td>\n",
       "      <td>4.616</td>\n",
       "      <td>2.633</td>\n",
       "      <td>0.800</td>\n",
       "      <td>0.498</td>\n",
       "      <td>1.469</td>\n",
       "      <td>12.017</td>\n",
       "      <td>13.432</td>\n",
       "      <td>0.508</td>\n",
       "      <td>0.578</td>\n",
       "    </tr>\n",
       "  </tbody>\n",
       "</table>\n",
       "</div>"
      ],
      "text/plain": [
       "             GP     MIN    FGM     FGA  FG_PCT   FG3M   FG3A  FG3_PCT    FTM  \\\n",
       "SEASON                                                                         \n",
       "1980-81  78.963  27.144  5.011  10.167   0.489  0.048  0.217    0.138  2.554   \n",
       "1981-82  78.347  26.443  4.831   9.733   0.491  0.052  0.219    0.165  2.389   \n",
       "1982-83  78.375  26.568  4.960  10.082   0.488  0.053  0.232    0.144  2.384   \n",
       "1983-84  78.556  26.414  4.893   9.856   0.493  0.057  0.248    0.152  2.573   \n",
       "1984-85  78.071  26.981  5.046  10.190   0.494  0.107  0.362    0.165  2.604   \n",
       "1985-86  78.120  26.517  4.874   9.879   0.492  0.094  0.346    0.155  2.557   \n",
       "1986-87  78.327  27.584  5.008  10.269   0.485  0.175  0.555    0.170  2.750   \n",
       "1987-88  78.110  26.257  4.697   9.638   0.484  0.163  0.523    0.173  2.515   \n",
       "1988-89  78.167  27.358  4.961  10.272   0.479  0.252  0.781    0.189  2.619   \n",
       "1989-90  78.508  27.439  4.792   9.944   0.478  0.248  0.750    0.219  2.534   \n",
       "1990-91  77.604  27.112  4.743   9.898   0.477  0.263  0.815    0.202  2.469   \n",
       "1991-92  78.709  27.815  4.867  10.164   0.476  0.296  0.886    0.205  2.382   \n",
       "1992-93  77.521  27.158  4.667   9.732   0.478  0.340  1.004    0.216  2.424   \n",
       "1993-94  77.644  27.207  4.542   9.677   0.469  0.377  1.134    0.220  2.235   \n",
       "1994-95  78.012  28.357  4.604   9.773   0.471  0.671  1.854    0.272  2.457   \n",
       "1995-96  77.796  28.341  4.524   9.686   0.465  0.728  1.948    0.283  2.377   \n",
       "1996-97  78.058  28.376  4.364   9.473   0.460  0.709  1.950    0.259  2.308   \n",
       "1997-98  77.989  27.727  4.279   9.357   0.456  0.525  1.519    0.234  2.313   \n",
       "1998-99  48.162  26.835  3.896   8.777   0.444  0.516  1.487    0.238  2.154   \n",
       "1999-00  78.303  27.502  4.369   9.627   0.453  0.582  1.624    0.271  2.293   \n",
       "2000-01  77.856  28.531  4.480   9.989   0.448  0.619  1.730    0.259  2.402   \n",
       "2001-02  77.469  28.554  4.483   9.902   0.455  0.664  1.831    0.271  2.285   \n",
       "2002-03  78.048  27.794  4.266   9.547   0.446  0.600  1.721    0.258  2.262   \n",
       "2003-04  77.348  28.024  4.208   9.442   0.445  0.649  1.846    0.259  2.223   \n",
       "2004-05  76.961  27.192  4.181   9.234   0.453  0.672  1.866    0.253  2.351   \n",
       "2005-06  77.528  29.067  4.503   9.862   0.455  0.769  2.104    0.279  2.509   \n",
       "2006-07  76.789  28.121  4.398   9.512   0.464  0.753  2.062    0.267  2.405   \n",
       "2007-08  76.950  27.379  4.383   9.457   0.464  0.782  2.123    0.268  2.253   \n",
       "2008-09  77.348  27.812  4.445   9.567   0.465  0.813  2.166    0.285  2.350   \n",
       "2009-10  77.380  27.814  4.524   9.721   0.466  0.755  2.100    0.278  2.281   \n",
       "2010-11  77.210  27.426  4.461   9.564   0.466  0.746  2.047    0.267  2.297   \n",
       "2011-12  62.539  26.708  4.246   9.298   0.458  0.679  1.917    0.259  2.004   \n",
       "2012-13  77.503  27.027  4.337   9.457   0.458  0.831  2.263    0.272  1.972   \n",
       "2013-14  73.375  25.708  4.088   8.939   0.459  0.837  2.308    0.280  1.975   \n",
       "2014-15  71.940  25.196  3.993   8.790   0.456  0.813  2.282    0.279  1.835   \n",
       "2015-16  72.841  24.828  3.975   8.746   0.457  0.892  2.503    0.297  1.833   \n",
       "2016-17  72.745  24.938  4.106   8.932   0.459  1.029  2.855    0.310  1.906   \n",
       "2017-18  72.838  24.855  4.138   8.917   0.466  1.097  3.002    0.319  1.747   \n",
       "2018-19  71.814  24.886  4.348   9.331   0.468  1.192  3.319    0.319  1.911   \n",
       "2019-20  61.931  25.262  4.368   9.481   0.463  1.338  3.685    0.339  1.947   \n",
       "\n",
       "           FTA  FT_PCT    REB    AST    STL    BLK    TOV     PTS     EFF  \\\n",
       "SEASON                                                                      \n",
       "1980-81  3.372   0.750  4.919  2.837  1.011  0.623  2.060  12.639  13.984   \n",
       "1981-82  3.183   0.739  4.842  2.843  0.942  0.596  1.925  12.104  13.700   \n",
       "1982-83  3.188   0.735  5.044  2.810  0.973  0.663  2.073  12.359  13.841   \n",
       "1983-84  3.358   0.756  4.749  2.819  0.931  0.596  1.920  12.417  13.832   \n",
       "1984-85  3.382   0.762  4.793  3.073  0.969  0.586  1.978  12.805  14.322   \n",
       "1985-86  3.351   0.753  4.797  2.923  0.983  0.590  1.914  12.401  13.971   \n",
       "1986-87  3.571   0.759  5.122  3.031  0.977  0.661  1.881  12.940  14.781   \n",
       "1987-88  3.269   0.764  4.916  2.863  0.929  0.597  1.770  12.079  13.918   \n",
       "1988-89  3.372   0.763  5.079  2.957  1.023  0.635  1.905  12.800  14.513   \n",
       "1989-90  3.290   0.754  4.950  2.903  0.961  0.590  1.758  12.370  14.105   \n",
       "1990-91  3.180   0.758  4.848  2.790  0.974  0.577  1.729  12.209  13.806   \n",
       "1991-92  3.116   0.753  5.037  2.887  1.013  0.650  1.725  12.408  14.229   \n",
       "1992-93  3.206   0.749  4.965  2.845  0.963  0.597  1.722  12.106  13.914   \n",
       "1993-94  3.013   0.741  4.839  2.832  1.030  0.577  1.719  11.706  13.350   \n",
       "1994-95  3.313   0.739  4.893  2.724  0.963  0.618  1.766  12.336  13.758   \n",
       "1995-96  3.179   0.743  4.887  2.687  0.946  0.633  1.768  12.157  13.580   \n",
       "1996-97  3.075   0.734  4.761  2.632  0.975  0.563  1.768  11.740  13.024   \n",
       "1997-98  3.113   0.738  4.714  2.595  0.970  0.570  1.689  11.388  12.660   \n",
       "1998-99  2.937   0.728  4.624  2.346  0.949  0.572  1.596  10.463  11.687   \n",
       "1999-00  3.034   0.753  4.894  2.655  0.918  0.602  1.724  11.618  12.961   \n",
       "2000-01  3.188   0.747  5.059  2.721  0.919  0.629  1.734  11.979  13.264   \n",
       "2001-02  3.003   0.751  5.090  2.656  0.925  0.651  1.633  11.913  13.465   \n",
       "2002-03  2.952   0.749  4.884  2.573  0.926  0.568  1.657  11.394  12.704   \n",
       "2003-04  2.947   0.751  4.942  2.540  0.923  0.610  1.654  11.289  12.692   \n",
       "2004-05  3.083   0.754  4.658  2.490  0.843  0.541  1.555  11.386  12.577   \n",
       "2005-06  3.286   0.746  4.769  2.606  0.857  0.502  1.630  12.285  13.259   \n",
       "2006-07  3.165   0.748  4.731  2.572  0.849  0.536  1.711  11.957  13.054   \n",
       "2007-08  2.947   0.751  4.834  2.446  0.834  0.543  1.500  11.800  13.186   \n",
       "2008-09  3.013   0.773  4.704  2.533  0.841  0.514  1.563  12.059  13.306   \n",
       "2009-10  2.964   0.756  4.828  2.511  0.840  0.545  1.588  12.075  13.328   \n",
       "2010-11  2.960   0.767  4.713  2.560  0.839  0.535  1.566  11.957  13.268   \n",
       "2011-12  2.638   0.744  4.853  2.292  0.849  0.589  1.523  11.173  12.546   \n",
       "2012-13  2.596   0.757  4.765  2.509  0.878  0.574  1.579  11.475  12.893   \n",
       "2013-14  2.594   0.749  4.512  2.389  0.824  0.496  1.483  10.981  12.245   \n",
       "2014-15  2.432   0.740  4.565  2.311  0.806  0.509  1.430  10.630  11.996   \n",
       "2015-16  2.408   0.755  4.565  2.280  0.818  0.514  1.418  10.677  12.094   \n",
       "2016-17  2.448   0.763  4.496  2.411  0.800  0.487  1.388  11.146  12.577   \n",
       "2017-18  2.265   0.759  4.476  2.410  0.804  0.496  1.395  11.122  12.610   \n",
       "2018-19  2.468   0.767  4.706  2.541  0.787  0.513  1.411  11.797  13.392   \n",
       "2019-20  2.500   0.771  4.616  2.633  0.800  0.498  1.469  12.017  13.432   \n",
       "\n",
       "         FTA PCTL  FG3A PCTL  \n",
       "SEASON                        \n",
       "1980-81     0.519      0.478  \n",
       "1981-82     0.492      0.479  \n",
       "1982-83     0.485      0.502  \n",
       "1983-84     0.508      0.514  \n",
       "1984-85     0.503      0.547  \n",
       "1985-86     0.501      0.442  \n",
       "1986-87     0.527      0.472  \n",
       "1987-88     0.485      0.453  \n",
       "1988-89     0.501      0.538  \n",
       "1989-90     0.491      0.551  \n",
       "1990-91     0.497      0.460  \n",
       "1991-92     0.499      0.466  \n",
       "1992-93     0.512      0.485  \n",
       "1993-94     0.475      0.507  \n",
       "1994-95     0.527      0.606  \n",
       "1995-96     0.520      0.531  \n",
       "1996-97     0.501      0.528  \n",
       "1997-98     0.509      0.475  \n",
       "1998-99     0.474      0.469  \n",
       "1999-00     0.485      0.498  \n",
       "2000-01     0.525      0.495  \n",
       "2001-02     0.511      0.499  \n",
       "2002-03     0.479      0.493  \n",
       "2003-04     0.493      0.504  \n",
       "2004-05     0.493      0.506  \n",
       "2005-06     0.532      0.499  \n",
       "2006-07     0.516      0.487  \n",
       "2007-08     0.480      0.500  \n",
       "2008-09     0.497      0.507  \n",
       "2009-10     0.492      0.502  \n",
       "2010-11     0.549      0.485  \n",
       "2011-12     0.510      0.458  \n",
       "2012-13     0.497      0.510  \n",
       "2013-14     0.489      0.518  \n",
       "2014-15     0.472      0.511  \n",
       "2015-16     0.507      0.419  \n",
       "2016-17     0.493      0.466  \n",
       "2017-18     0.481      0.493  \n",
       "2018-19     0.513      0.534  \n",
       "2019-20     0.508      0.578  "
      ]
     },
     "execution_count": 64,
     "metadata": {},
     "output_type": "execute_result"
    }
   ],
   "source": [
    "averages_df"
   ]
  },
  {
   "cell_type": "markdown",
   "metadata": {},
   "source": [
    "## Scale percentage of threes and free throws to percentile of era"
   ]
  },
  {
   "cell_type": "code",
   "execution_count": 65,
   "metadata": {},
   "outputs": [],
   "source": [
    "yr80_FG3A = years80_85[['FG3A', 'FG3A PCTL']].groupby(by=['FG3A PCTL']).mean()\n",
    "yr80_FG3A = years85_90[['FG3A', 'FG3A PCTL']].groupby(by=['FG3A PCTL']).mean()\n",
    "\n",
    "yr90_FG3A = years90_95[['FG3A', 'FG3A PCTL']].groupby(by=['FG3A PCTL']).mean()\n",
    "yr95_FG3A = years95_00[['FG3A', 'FG3A PCTL']].groupby(by=['FG3A PCTL']).mean()\n",
    "\n",
    "yr00_FG3A = years00_05[['FG3A', 'FG3A PCTL']].groupby(by=['FG3A PCTL']).mean()\n",
    "yr05_FG3A = years05_10[['FG3A', 'FG3A PCTL']].groupby(by=['FG3A PCTL']).mean()\n",
    "\n",
    "yr10_FG3A = years10_15[['FG3A', 'FG3A PCTL']].groupby(by=['FG3A PCTL']).mean()\n",
    "yr15_FG3A = years15_20[['FG3A', 'FG3A PCTL']].groupby(by=['FG3A PCTL']).mean()\n",
    "\n",
    "\n",
    "\n",
    "combined_FG3A = pd.concat([yr80_FG3A, yr80_FG3A, yr90_FG3A, yr95_FG3A,\n",
    "                          yr00_FG3A, yr05_FG3A, yr10_FG3A, yr15_FG3A], axis=1).round(2)\n",
    "combined_FG3A.columns = ['80s', '85s', '90s', '95s', '00s', '05s', '10s', '15s']"
   ]
  },
  {
   "cell_type": "code",
   "execution_count": 66,
   "metadata": {},
   "outputs": [
    {
     "data": {
      "text/html": [
       "<div>\n",
       "<style scoped>\n",
       "    .dataframe tbody tr th:only-of-type {\n",
       "        vertical-align: middle;\n",
       "    }\n",
       "\n",
       "    .dataframe tbody tr th {\n",
       "        vertical-align: top;\n",
       "    }\n",
       "\n",
       "    .dataframe thead th {\n",
       "        text-align: right;\n",
       "    }\n",
       "</style>\n",
       "<table border=\"1\" class=\"dataframe\">\n",
       "  <thead>\n",
       "    <tr style=\"text-align: right;\">\n",
       "      <th></th>\n",
       "      <th>80s</th>\n",
       "      <th>85s</th>\n",
       "      <th>90s</th>\n",
       "      <th>95s</th>\n",
       "      <th>00s</th>\n",
       "      <th>05s</th>\n",
       "      <th>10s</th>\n",
       "      <th>15s</th>\n",
       "    </tr>\n",
       "    <tr>\n",
       "      <th>FG3A PCTL</th>\n",
       "      <th></th>\n",
       "      <th></th>\n",
       "      <th></th>\n",
       "      <th></th>\n",
       "      <th></th>\n",
       "      <th></th>\n",
       "      <th></th>\n",
       "      <th></th>\n",
       "    </tr>\n",
       "  </thead>\n",
       "  <tbody>\n",
       "    <tr>\n",
       "      <th>0.0</th>\n",
       "      <td>NaN</td>\n",
       "      <td>NaN</td>\n",
       "      <td>NaN</td>\n",
       "      <td>NaN</td>\n",
       "      <td>NaN</td>\n",
       "      <td>NaN</td>\n",
       "      <td>NaN</td>\n",
       "      <td>0.00</td>\n",
       "    </tr>\n",
       "    <tr>\n",
       "      <th>0.1</th>\n",
       "      <td>0.00</td>\n",
       "      <td>0.00</td>\n",
       "      <td>0.00</td>\n",
       "      <td>0.00</td>\n",
       "      <td>0.00</td>\n",
       "      <td>0.00</td>\n",
       "      <td>0.00</td>\n",
       "      <td>0.18</td>\n",
       "    </tr>\n",
       "    <tr>\n",
       "      <th>0.2</th>\n",
       "      <td>NaN</td>\n",
       "      <td>NaN</td>\n",
       "      <td>NaN</td>\n",
       "      <td>NaN</td>\n",
       "      <td>NaN</td>\n",
       "      <td>0.10</td>\n",
       "      <td>0.10</td>\n",
       "      <td>0.97</td>\n",
       "    </tr>\n",
       "    <tr>\n",
       "      <th>0.3</th>\n",
       "      <td>NaN</td>\n",
       "      <td>NaN</td>\n",
       "      <td>0.10</td>\n",
       "      <td>0.13</td>\n",
       "      <td>0.16</td>\n",
       "      <td>0.36</td>\n",
       "      <td>0.37</td>\n",
       "      <td>1.74</td>\n",
       "    </tr>\n",
       "    <tr>\n",
       "      <th>0.4</th>\n",
       "      <td>0.10</td>\n",
       "      <td>0.10</td>\n",
       "      <td>0.25</td>\n",
       "      <td>0.47</td>\n",
       "      <td>0.70</td>\n",
       "      <td>1.10</td>\n",
       "      <td>1.29</td>\n",
       "      <td>2.36</td>\n",
       "    </tr>\n",
       "    <tr>\n",
       "      <th>0.5</th>\n",
       "      <td>0.20</td>\n",
       "      <td>0.20</td>\n",
       "      <td>0.44</td>\n",
       "      <td>1.11</td>\n",
       "      <td>1.44</td>\n",
       "      <td>1.92</td>\n",
       "      <td>2.12</td>\n",
       "      <td>2.87</td>\n",
       "    </tr>\n",
       "    <tr>\n",
       "      <th>0.6</th>\n",
       "      <td>0.34</td>\n",
       "      <td>0.34</td>\n",
       "      <td>0.77</td>\n",
       "      <td>1.87</td>\n",
       "      <td>2.07</td>\n",
       "      <td>2.59</td>\n",
       "      <td>2.74</td>\n",
       "      <td>3.46</td>\n",
       "    </tr>\n",
       "    <tr>\n",
       "      <th>0.7</th>\n",
       "      <td>0.58</td>\n",
       "      <td>0.58</td>\n",
       "      <td>1.38</td>\n",
       "      <td>2.62</td>\n",
       "      <td>2.71</td>\n",
       "      <td>3.29</td>\n",
       "      <td>3.34</td>\n",
       "      <td>4.12</td>\n",
       "    </tr>\n",
       "    <tr>\n",
       "      <th>0.8</th>\n",
       "      <td>1.03</td>\n",
       "      <td>1.03</td>\n",
       "      <td>2.19</td>\n",
       "      <td>3.36</td>\n",
       "      <td>3.41</td>\n",
       "      <td>3.94</td>\n",
       "      <td>4.02</td>\n",
       "      <td>4.87</td>\n",
       "    </tr>\n",
       "    <tr>\n",
       "      <th>0.9</th>\n",
       "      <td>1.96</td>\n",
       "      <td>1.96</td>\n",
       "      <td>3.36</td>\n",
       "      <td>4.43</td>\n",
       "      <td>4.48</td>\n",
       "      <td>4.82</td>\n",
       "      <td>4.88</td>\n",
       "      <td>6.01</td>\n",
       "    </tr>\n",
       "    <tr>\n",
       "      <th>1.0</th>\n",
       "      <td>3.44</td>\n",
       "      <td>3.44</td>\n",
       "      <td>5.21</td>\n",
       "      <td>5.96</td>\n",
       "      <td>6.20</td>\n",
       "      <td>6.23</td>\n",
       "      <td>6.28</td>\n",
       "      <td>8.20</td>\n",
       "    </tr>\n",
       "  </tbody>\n",
       "</table>\n",
       "</div>"
      ],
      "text/plain": [
       "            80s   85s   90s   95s   00s   05s   10s   15s\n",
       "FG3A PCTL                                                \n",
       "0.0         NaN   NaN   NaN   NaN   NaN   NaN   NaN  0.00\n",
       "0.1        0.00  0.00  0.00  0.00  0.00  0.00  0.00  0.18\n",
       "0.2         NaN   NaN   NaN   NaN   NaN  0.10  0.10  0.97\n",
       "0.3         NaN   NaN  0.10  0.13  0.16  0.36  0.37  1.74\n",
       "0.4        0.10  0.10  0.25  0.47  0.70  1.10  1.29  2.36\n",
       "0.5        0.20  0.20  0.44  1.11  1.44  1.92  2.12  2.87\n",
       "0.6        0.34  0.34  0.77  1.87  2.07  2.59  2.74  3.46\n",
       "0.7        0.58  0.58  1.38  2.62  2.71  3.29  3.34  4.12\n",
       "0.8        1.03  1.03  2.19  3.36  3.41  3.94  4.02  4.87\n",
       "0.9        1.96  1.96  3.36  4.43  4.48  4.82  4.88  6.01\n",
       "1.0        3.44  3.44  5.21  5.96  6.20  6.23  6.28  8.20"
      ]
     },
     "execution_count": 66,
     "metadata": {},
     "output_type": "execute_result"
    }
   ],
   "source": [
    "combined_FG3A"
   ]
  },
  {
   "cell_type": "code",
   "execution_count": 67,
   "metadata": {},
   "outputs": [],
   "source": [
    "yr80_FTA = years80_85[['FTA', 'FTA PCTL']].groupby(by=['FTA PCTL']).mean()\n",
    "yr80_FTA = years85_90[['FTA', 'FTA PCTL']].groupby(by=['FTA PCTL']).mean()\n",
    "\n",
    "yr90_FTA = years90_95[['FTA', 'FTA PCTL']].groupby(by=['FTA PCTL']).mean()\n",
    "yr95_FTA = years95_00[['FTA', 'FTA PCTL']].groupby(by=['FTA PCTL']).mean()\n",
    "\n",
    "yr00_FTA = years00_05[['FTA', 'FTA PCTL']].groupby(by=['FTA PCTL']).mean()\n",
    "yr05_FTA = years05_10[['FTA', 'FTA PCTL']].groupby(by=['FTA PCTL']).mean()\n",
    "\n",
    "yr10_FTA = years10_15[['FTA', 'FTA PCTL']].groupby(by=['FTA PCTL']).mean()\n",
    "yr15_FTA = years15_20[['FTA', 'FTA PCTL']].groupby(by=['FTA PCTL']).mean()\n",
    "\n",
    "\n",
    "\n",
    "combined_FTA = pd.concat([yr80_FTA, yr80_FTA, yr90_FTA, yr95_FTA,\n",
    "                          yr00_FTA, yr05_FTA, yr10_FTA, yr15_FTA], axis=1).round(2)\n",
    "combined_FTA.columns = ['80s', '85s', '90s', '95s', '00s', '05s', '10s', '15s']"
   ]
  },
  {
   "cell_type": "code",
   "execution_count": 68,
   "metadata": {},
   "outputs": [
    {
     "data": {
      "text/html": [
       "<div>\n",
       "<style scoped>\n",
       "    .dataframe tbody tr th:only-of-type {\n",
       "        vertical-align: middle;\n",
       "    }\n",
       "\n",
       "    .dataframe tbody tr th {\n",
       "        vertical-align: top;\n",
       "    }\n",
       "\n",
       "    .dataframe thead th {\n",
       "        text-align: right;\n",
       "    }\n",
       "</style>\n",
       "<table border=\"1\" class=\"dataframe\">\n",
       "  <thead>\n",
       "    <tr style=\"text-align: right;\">\n",
       "      <th></th>\n",
       "      <th>80s</th>\n",
       "      <th>85s</th>\n",
       "      <th>90s</th>\n",
       "      <th>95s</th>\n",
       "      <th>00s</th>\n",
       "      <th>05s</th>\n",
       "      <th>10s</th>\n",
       "      <th>15s</th>\n",
       "    </tr>\n",
       "    <tr>\n",
       "      <th>FTA PCTL</th>\n",
       "      <th></th>\n",
       "      <th></th>\n",
       "      <th></th>\n",
       "      <th></th>\n",
       "      <th></th>\n",
       "      <th></th>\n",
       "      <th></th>\n",
       "      <th></th>\n",
       "    </tr>\n",
       "  </thead>\n",
       "  <tbody>\n",
       "    <tr>\n",
       "      <th>0.0</th>\n",
       "      <td>0.68</td>\n",
       "      <td>0.68</td>\n",
       "      <td>0.61</td>\n",
       "      <td>0.63</td>\n",
       "      <td>0.63</td>\n",
       "      <td>0.54</td>\n",
       "      <td>0.47</td>\n",
       "      <td>0.42</td>\n",
       "    </tr>\n",
       "    <tr>\n",
       "      <th>0.1</th>\n",
       "      <td>1.12</td>\n",
       "      <td>1.12</td>\n",
       "      <td>1.19</td>\n",
       "      <td>1.13</td>\n",
       "      <td>1.07</td>\n",
       "      <td>0.97</td>\n",
       "      <td>0.88</td>\n",
       "      <td>0.71</td>\n",
       "    </tr>\n",
       "    <tr>\n",
       "      <th>0.2</th>\n",
       "      <td>1.59</td>\n",
       "      <td>1.59</td>\n",
       "      <td>1.60</td>\n",
       "      <td>1.51</td>\n",
       "      <td>1.41</td>\n",
       "      <td>1.34</td>\n",
       "      <td>1.20</td>\n",
       "      <td>0.99</td>\n",
       "    </tr>\n",
       "    <tr>\n",
       "      <th>0.3</th>\n",
       "      <td>2.05</td>\n",
       "      <td>2.05</td>\n",
       "      <td>1.95</td>\n",
       "      <td>1.86</td>\n",
       "      <td>1.74</td>\n",
       "      <td>1.74</td>\n",
       "      <td>1.51</td>\n",
       "      <td>1.30</td>\n",
       "    </tr>\n",
       "    <tr>\n",
       "      <th>0.4</th>\n",
       "      <td>2.48</td>\n",
       "      <td>2.48</td>\n",
       "      <td>2.33</td>\n",
       "      <td>2.24</td>\n",
       "      <td>2.14</td>\n",
       "      <td>2.16</td>\n",
       "      <td>1.80</td>\n",
       "      <td>1.59</td>\n",
       "    </tr>\n",
       "    <tr>\n",
       "      <th>0.5</th>\n",
       "      <td>3.01</td>\n",
       "      <td>3.01</td>\n",
       "      <td>2.75</td>\n",
       "      <td>2.65</td>\n",
       "      <td>2.54</td>\n",
       "      <td>2.55</td>\n",
       "      <td>2.20</td>\n",
       "      <td>1.91</td>\n",
       "    </tr>\n",
       "    <tr>\n",
       "      <th>0.6</th>\n",
       "      <td>3.53</td>\n",
       "      <td>3.53</td>\n",
       "      <td>3.26</td>\n",
       "      <td>3.08</td>\n",
       "      <td>3.00</td>\n",
       "      <td>3.01</td>\n",
       "      <td>2.65</td>\n",
       "      <td>2.29</td>\n",
       "    </tr>\n",
       "    <tr>\n",
       "      <th>0.7</th>\n",
       "      <td>4.14</td>\n",
       "      <td>4.14</td>\n",
       "      <td>3.81</td>\n",
       "      <td>3.63</td>\n",
       "      <td>3.60</td>\n",
       "      <td>3.55</td>\n",
       "      <td>3.15</td>\n",
       "      <td>2.78</td>\n",
       "    </tr>\n",
       "    <tr>\n",
       "      <th>0.8</th>\n",
       "      <td>4.88</td>\n",
       "      <td>4.88</td>\n",
       "      <td>4.46</td>\n",
       "      <td>4.43</td>\n",
       "      <td>4.36</td>\n",
       "      <td>4.43</td>\n",
       "      <td>3.83</td>\n",
       "      <td>3.47</td>\n",
       "    </tr>\n",
       "    <tr>\n",
       "      <th>0.9</th>\n",
       "      <td>6.16</td>\n",
       "      <td>6.16</td>\n",
       "      <td>5.75</td>\n",
       "      <td>5.75</td>\n",
       "      <td>5.76</td>\n",
       "      <td>6.00</td>\n",
       "      <td>4.94</td>\n",
       "      <td>4.98</td>\n",
       "    </tr>\n",
       "    <tr>\n",
       "      <th>1.0</th>\n",
       "      <td>8.68</td>\n",
       "      <td>8.68</td>\n",
       "      <td>8.25</td>\n",
       "      <td>8.33</td>\n",
       "      <td>8.71</td>\n",
       "      <td>9.06</td>\n",
       "      <td>7.71</td>\n",
       "      <td>7.81</td>\n",
       "    </tr>\n",
       "  </tbody>\n",
       "</table>\n",
       "</div>"
      ],
      "text/plain": [
       "           80s   85s   90s   95s   00s   05s   10s   15s\n",
       "FTA PCTL                                                \n",
       "0.0       0.68  0.68  0.61  0.63  0.63  0.54  0.47  0.42\n",
       "0.1       1.12  1.12  1.19  1.13  1.07  0.97  0.88  0.71\n",
       "0.2       1.59  1.59  1.60  1.51  1.41  1.34  1.20  0.99\n",
       "0.3       2.05  2.05  1.95  1.86  1.74  1.74  1.51  1.30\n",
       "0.4       2.48  2.48  2.33  2.24  2.14  2.16  1.80  1.59\n",
       "0.5       3.01  3.01  2.75  2.65  2.54  2.55  2.20  1.91\n",
       "0.6       3.53  3.53  3.26  3.08  3.00  3.01  2.65  2.29\n",
       "0.7       4.14  4.14  3.81  3.63  3.60  3.55  3.15  2.78\n",
       "0.8       4.88  4.88  4.46  4.43  4.36  4.43  3.83  3.47\n",
       "0.9       6.16  6.16  5.75  5.75  5.76  6.00  4.94  4.98\n",
       "1.0       8.68  8.68  8.25  8.33  8.71  9.06  7.71  7.81"
      ]
     },
     "execution_count": 68,
     "metadata": {},
     "output_type": "execute_result"
    }
   ],
   "source": [
    "combined_FTA"
   ]
  },
  {
   "cell_type": "code",
   "execution_count": 119,
   "metadata": {},
   "outputs": [],
   "source": [
    "# Adjust FTA to 80s and FG3A to 15s\n",
    "def adjust_FTA(row):\n",
    "    percentile = row['FTA PCTL']\n",
    "    adjusted_FTA = combined_FTA.loc[percentile][0]\n",
    "    actual_FTA = row['FTA']\n",
    "    if actual_FTA > adjusted_FTA:\n",
    "        FTA = actual_FTA\n",
    "    else:\n",
    "        FTA = adjusted_FTA\n",
    "    return FTA\n",
    "\n",
    "def adjust_FG3A(row):\n",
    "    percentile = row['FG3A PCTL']\n",
    "    adjusted_FG3A = combined_FG3A.loc[percentile][7]\n",
    "    actual_FG3A = row['FG3A']\n",
    "    if actual_FG3A > adjusted_FG3A:\n",
    "        FG3A = actual_FG3A\n",
    "    else:\n",
    "        FG3A = adjusted_FG3A\n",
    "    return FG3A\n"
   ]
  },
  {
   "cell_type": "code",
   "execution_count": 131,
   "metadata": {},
   "outputs": [],
   "source": [
    "def adjust_stats(df):\n",
    "    # Pull players from season\n",
    "    players = df.copy()\n",
    "    # Make adjustments\n",
    "    players['FTA'] = players.apply(adjust_FTA, axis=1)\n",
    "    players['FG3A'] = players.apply(adjust_FG3A, axis=1)\n",
    "    players['FGM'] = (players['FGA']*players['FG_PCT'])\n",
    "    players['FTM'] = (players['FTA']*players['FT_PCT'])\n",
    "    players['FG3M'] = players['FG3A'] * players['FG3_PCT']\n",
    "    players['PTS'] = (2*(players['FGM']-players['FG3M']) + 3*players['FG3M'] + players['FTM']).round(2)\n",
    "    players['TS_PCT'] = players['PTS'] / (2*(players['FGA'] + .44*players['FTA']))\n",
    "    return players.round(3)"
   ]
  },
  {
   "cell_type": "code",
   "execution_count": 132,
   "metadata": {},
   "outputs": [],
   "source": [
    "all_adjusted = adjust_stats(all_data).reset_index(drop=True)"
   ]
  },
  {
   "cell_type": "code",
   "execution_count": 134,
   "metadata": {},
   "outputs": [
    {
     "data": {
      "text/html": [
       "<div>\n",
       "<style scoped>\n",
       "    .dataframe tbody tr th:only-of-type {\n",
       "        vertical-align: middle;\n",
       "    }\n",
       "\n",
       "    .dataframe tbody tr th {\n",
       "        vertical-align: top;\n",
       "    }\n",
       "\n",
       "    .dataframe thead th {\n",
       "        text-align: right;\n",
       "    }\n",
       "</style>\n",
       "<table border=\"1\" class=\"dataframe\">\n",
       "  <thead>\n",
       "    <tr style=\"text-align: right;\">\n",
       "      <th></th>\n",
       "      <th>PLAYER</th>\n",
       "      <th>TEAM</th>\n",
       "      <th>SEASON</th>\n",
       "      <th>FGM</th>\n",
       "      <th>FG3M</th>\n",
       "      <th>FG3_PCT</th>\n",
       "      <th>FG3A PCTL</th>\n",
       "      <th>FTM</th>\n",
       "      <th>FTA PCTL</th>\n",
       "      <th>TS_PCT</th>\n",
       "      <th>AST</th>\n",
       "      <th>REB</th>\n",
       "      <th>STL</th>\n",
       "      <th>BLK</th>\n",
       "      <th>TOV</th>\n",
       "      <th>PTS</th>\n",
       "      <th>EFF</th>\n",
       "    </tr>\n",
       "  </thead>\n",
       "  <tbody>\n",
       "    <tr>\n",
       "      <th>1032</th>\n",
       "      <td>Michael Jordan</td>\n",
       "      <td>CHI</td>\n",
       "      <td>1986-87</td>\n",
       "      <td>13.400</td>\n",
       "      <td>0.886</td>\n",
       "      <td>0.182</td>\n",
       "      <td>0.8</td>\n",
       "      <td>10.198</td>\n",
       "      <td>1.0</td>\n",
       "      <td>0.573</td>\n",
       "      <td>4.6</td>\n",
       "      <td>5.2</td>\n",
       "      <td>2.9</td>\n",
       "      <td>1.5</td>\n",
       "      <td>3.3</td>\n",
       "      <td>37.88</td>\n",
       "      <td>31.9</td>\n",
       "    </tr>\n",
       "    <tr>\n",
       "      <th>7287</th>\n",
       "      <td>James Harden</td>\n",
       "      <td>HOU</td>\n",
       "      <td>2018-19</td>\n",
       "      <td>10.829</td>\n",
       "      <td>4.858</td>\n",
       "      <td>0.368</td>\n",
       "      <td>1.0</td>\n",
       "      <td>9.669</td>\n",
       "      <td>1.0</td>\n",
       "      <td>0.617</td>\n",
       "      <td>7.5</td>\n",
       "      <td>6.6</td>\n",
       "      <td>2.0</td>\n",
       "      <td>0.7</td>\n",
       "      <td>5.0</td>\n",
       "      <td>36.18</td>\n",
       "      <td>33.1</td>\n",
       "    </tr>\n",
       "    <tr>\n",
       "      <th>4486</th>\n",
       "      <td>Kobe Bryant</td>\n",
       "      <td>LAL</td>\n",
       "      <td>2005-06</td>\n",
       "      <td>12.240</td>\n",
       "      <td>2.845</td>\n",
       "      <td>0.347</td>\n",
       "      <td>1.0</td>\n",
       "      <td>8.670</td>\n",
       "      <td>1.0</td>\n",
       "      <td>0.568</td>\n",
       "      <td>4.5</td>\n",
       "      <td>5.3</td>\n",
       "      <td>1.8</td>\n",
       "      <td>0.4</td>\n",
       "      <td>3.1</td>\n",
       "      <td>36.00</td>\n",
       "      <td>27.8</td>\n",
       "    </tr>\n",
       "    <tr>\n",
       "      <th>1535</th>\n",
       "      <td>Michael Jordan</td>\n",
       "      <td>CHI</td>\n",
       "      <td>1989-90</td>\n",
       "      <td>12.624</td>\n",
       "      <td>3.083</td>\n",
       "      <td>0.376</td>\n",
       "      <td>1.0</td>\n",
       "      <td>7.361</td>\n",
       "      <td>1.0</td>\n",
       "      <td>0.641</td>\n",
       "      <td>6.3</td>\n",
       "      <td>6.9</td>\n",
       "      <td>2.8</td>\n",
       "      <td>0.7</td>\n",
       "      <td>3.0</td>\n",
       "      <td>35.69</td>\n",
       "      <td>34.6</td>\n",
       "    </tr>\n",
       "    <tr>\n",
       "      <th>1191</th>\n",
       "      <td>Michael Jordan</td>\n",
       "      <td>CHI</td>\n",
       "      <td>1987-88</td>\n",
       "      <td>13.054</td>\n",
       "      <td>0.544</td>\n",
       "      <td>0.132</td>\n",
       "      <td>0.7</td>\n",
       "      <td>8.830</td>\n",
       "      <td>1.0</td>\n",
       "      <td>0.611</td>\n",
       "      <td>5.9</td>\n",
       "      <td>5.5</td>\n",
       "      <td>3.2</td>\n",
       "      <td>1.6</td>\n",
       "      <td>3.1</td>\n",
       "      <td>35.48</td>\n",
       "      <td>35.0</td>\n",
       "    </tr>\n",
       "    <tr>\n",
       "      <th>2111</th>\n",
       "      <td>Michael Jordan</td>\n",
       "      <td>CHI</td>\n",
       "      <td>1992-93</td>\n",
       "      <td>12.721</td>\n",
       "      <td>2.116</td>\n",
       "      <td>0.352</td>\n",
       "      <td>0.9</td>\n",
       "      <td>7.265</td>\n",
       "      <td>1.0</td>\n",
       "      <td>0.590</td>\n",
       "      <td>5.5</td>\n",
       "      <td>6.7</td>\n",
       "      <td>2.8</td>\n",
       "      <td>0.8</td>\n",
       "      <td>2.7</td>\n",
       "      <td>34.82</td>\n",
       "      <td>31.6</td>\n",
       "    </tr>\n",
       "    <tr>\n",
       "      <th>7545</th>\n",
       "      <td>James Harden</td>\n",
       "      <td>HOU</td>\n",
       "      <td>2019-20</td>\n",
       "      <td>9.901</td>\n",
       "      <td>4.402</td>\n",
       "      <td>0.355</td>\n",
       "      <td>1.0</td>\n",
       "      <td>10.207</td>\n",
       "      <td>1.0</td>\n",
       "      <td>0.626</td>\n",
       "      <td>7.5</td>\n",
       "      <td>6.6</td>\n",
       "      <td>1.8</td>\n",
       "      <td>0.9</td>\n",
       "      <td>4.5</td>\n",
       "      <td>34.41</td>\n",
       "      <td>32.6</td>\n",
       "    </tr>\n",
       "    <tr>\n",
       "      <th>162</th>\n",
       "      <td>George Gervin</td>\n",
       "      <td>LAC</td>\n",
       "      <td>1981-82</td>\n",
       "      <td>12.600</td>\n",
       "      <td>1.354</td>\n",
       "      <td>0.278</td>\n",
       "      <td>0.8</td>\n",
       "      <td>7.500</td>\n",
       "      <td>1.0</td>\n",
       "      <td>0.587</td>\n",
       "      <td>2.4</td>\n",
       "      <td>5.0</td>\n",
       "      <td>1.0</td>\n",
       "      <td>0.6</td>\n",
       "      <td>2.7</td>\n",
       "      <td>34.05</td>\n",
       "      <td>24.8</td>\n",
       "    </tr>\n",
       "    <tr>\n",
       "      <th>1355</th>\n",
       "      <td>Michael Jordan</td>\n",
       "      <td>CHI</td>\n",
       "      <td>1988-89</td>\n",
       "      <td>11.944</td>\n",
       "      <td>1.344</td>\n",
       "      <td>0.276</td>\n",
       "      <td>0.8</td>\n",
       "      <td>8.330</td>\n",
       "      <td>1.0</td>\n",
       "      <td>0.633</td>\n",
       "      <td>8.0</td>\n",
       "      <td>8.0</td>\n",
       "      <td>2.9</td>\n",
       "      <td>0.8</td>\n",
       "      <td>3.6</td>\n",
       "      <td>33.56</td>\n",
       "      <td>37.0</td>\n",
       "    </tr>\n",
       "    <tr>\n",
       "      <th>4487</th>\n",
       "      <td>Allen Iverson</td>\n",
       "      <td>PHI</td>\n",
       "      <td>2005-06</td>\n",
       "      <td>11.309</td>\n",
       "      <td>1.331</td>\n",
       "      <td>0.323</td>\n",
       "      <td>0.7</td>\n",
       "      <td>9.361</td>\n",
       "      <td>1.0</td>\n",
       "      <td>0.549</td>\n",
       "      <td>7.4</td>\n",
       "      <td>3.2</td>\n",
       "      <td>1.9</td>\n",
       "      <td>0.1</td>\n",
       "      <td>3.4</td>\n",
       "      <td>33.31</td>\n",
       "      <td>26.1</td>\n",
       "    </tr>\n",
       "  </tbody>\n",
       "</table>\n",
       "</div>"
      ],
      "text/plain": [
       "              PLAYER TEAM   SEASON     FGM   FG3M  FG3_PCT  FG3A PCTL     FTM  \\\n",
       "1032  Michael Jordan  CHI  1986-87  13.400  0.886    0.182        0.8  10.198   \n",
       "7287    James Harden  HOU  2018-19  10.829  4.858    0.368        1.0   9.669   \n",
       "4486     Kobe Bryant  LAL  2005-06  12.240  2.845    0.347        1.0   8.670   \n",
       "1535  Michael Jordan  CHI  1989-90  12.624  3.083    0.376        1.0   7.361   \n",
       "1191  Michael Jordan  CHI  1987-88  13.054  0.544    0.132        0.7   8.830   \n",
       "2111  Michael Jordan  CHI  1992-93  12.721  2.116    0.352        0.9   7.265   \n",
       "7545    James Harden  HOU  2019-20   9.901  4.402    0.355        1.0  10.207   \n",
       "162    George Gervin  LAC  1981-82  12.600  1.354    0.278        0.8   7.500   \n",
       "1355  Michael Jordan  CHI  1988-89  11.944  1.344    0.276        0.8   8.330   \n",
       "4487   Allen Iverson  PHI  2005-06  11.309  1.331    0.323        0.7   9.361   \n",
       "\n",
       "      FTA PCTL  TS_PCT  AST  REB  STL  BLK  TOV    PTS   EFF  \n",
       "1032       1.0   0.573  4.6  5.2  2.9  1.5  3.3  37.88  31.9  \n",
       "7287       1.0   0.617  7.5  6.6  2.0  0.7  5.0  36.18  33.1  \n",
       "4486       1.0   0.568  4.5  5.3  1.8  0.4  3.1  36.00  27.8  \n",
       "1535       1.0   0.641  6.3  6.9  2.8  0.7  3.0  35.69  34.6  \n",
       "1191       1.0   0.611  5.9  5.5  3.2  1.6  3.1  35.48  35.0  \n",
       "2111       1.0   0.590  5.5  6.7  2.8  0.8  2.7  34.82  31.6  \n",
       "7545       1.0   0.626  7.5  6.6  1.8  0.9  4.5  34.41  32.6  \n",
       "162        1.0   0.587  2.4  5.0  1.0  0.6  2.7  34.05  24.8  \n",
       "1355       1.0   0.633  8.0  8.0  2.9  0.8  3.6  33.56  37.0  \n",
       "4487       1.0   0.549  7.4  3.2  1.9  0.1  3.4  33.31  26.1  "
      ]
     },
     "execution_count": 134,
     "metadata": {},
     "output_type": "execute_result"
    }
   ],
   "source": [
    "all_adjusted[['PLAYER', 'TEAM', 'SEASON', 'FGM', 'FG3M', 'FG3_PCT', 'FG3A PCTL', 'FTM', 'FTA PCTL',\n",
    "                      'TS_PCT', 'AST', 'REB', 'STL', 'BLK', 'TOV', 'PTS', 'EFF']].sort_values(by=['PTS'], ascending=False).head(10)"
   ]
  },
  {
   "cell_type": "code",
   "execution_count": 135,
   "metadata": {},
   "outputs": [
    {
     "data": {
      "text/html": [
       "<div>\n",
       "<style scoped>\n",
       "    .dataframe tbody tr th:only-of-type {\n",
       "        vertical-align: middle;\n",
       "    }\n",
       "\n",
       "    .dataframe tbody tr th {\n",
       "        vertical-align: top;\n",
       "    }\n",
       "\n",
       "    .dataframe thead th {\n",
       "        text-align: right;\n",
       "    }\n",
       "</style>\n",
       "<table border=\"1\" class=\"dataframe\">\n",
       "  <thead>\n",
       "    <tr style=\"text-align: right;\">\n",
       "      <th></th>\n",
       "      <th>PLAYER</th>\n",
       "      <th>TEAM</th>\n",
       "      <th>SEASON</th>\n",
       "      <th>FGM</th>\n",
       "      <th>FG3M</th>\n",
       "      <th>FG3_PCT</th>\n",
       "      <th>FG3A PCTL</th>\n",
       "      <th>FTM</th>\n",
       "      <th>FTA PCTL</th>\n",
       "      <th>TS_PCT</th>\n",
       "      <th>AST</th>\n",
       "      <th>REB</th>\n",
       "      <th>STL</th>\n",
       "      <th>BLK</th>\n",
       "      <th>TOV</th>\n",
       "      <th>PTS</th>\n",
       "      <th>EFF</th>\n",
       "    </tr>\n",
       "  </thead>\n",
       "  <tbody>\n",
       "    <tr>\n",
       "      <th>1032</th>\n",
       "      <td>Michael Jordan</td>\n",
       "      <td>CHI</td>\n",
       "      <td>1986-87</td>\n",
       "      <td>13.4</td>\n",
       "      <td>0.1</td>\n",
       "      <td>0.182</td>\n",
       "      <td>0.8</td>\n",
       "      <td>10.2</td>\n",
       "      <td>1.0</td>\n",
       "      <td>0.562</td>\n",
       "      <td>4.6</td>\n",
       "      <td>5.2</td>\n",
       "      <td>2.9</td>\n",
       "      <td>1.5</td>\n",
       "      <td>3.3</td>\n",
       "      <td>37.1</td>\n",
       "      <td>31.9</td>\n",
       "    </tr>\n",
       "    <tr>\n",
       "      <th>7287</th>\n",
       "      <td>James Harden</td>\n",
       "      <td>HOU</td>\n",
       "      <td>2018-19</td>\n",
       "      <td>10.8</td>\n",
       "      <td>4.8</td>\n",
       "      <td>0.368</td>\n",
       "      <td>1.0</td>\n",
       "      <td>9.7</td>\n",
       "      <td>1.0</td>\n",
       "      <td>0.615</td>\n",
       "      <td>7.5</td>\n",
       "      <td>6.6</td>\n",
       "      <td>2.0</td>\n",
       "      <td>0.7</td>\n",
       "      <td>5.0</td>\n",
       "      <td>36.1</td>\n",
       "      <td>33.1</td>\n",
       "    </tr>\n",
       "    <tr>\n",
       "      <th>4486</th>\n",
       "      <td>Kobe Bryant</td>\n",
       "      <td>LAL</td>\n",
       "      <td>2005-06</td>\n",
       "      <td>12.2</td>\n",
       "      <td>2.3</td>\n",
       "      <td>0.347</td>\n",
       "      <td>1.0</td>\n",
       "      <td>8.7</td>\n",
       "      <td>1.0</td>\n",
       "      <td>0.559</td>\n",
       "      <td>4.5</td>\n",
       "      <td>5.3</td>\n",
       "      <td>1.8</td>\n",
       "      <td>0.4</td>\n",
       "      <td>3.1</td>\n",
       "      <td>35.4</td>\n",
       "      <td>27.8</td>\n",
       "    </tr>\n",
       "    <tr>\n",
       "      <th>1191</th>\n",
       "      <td>Michael Jordan</td>\n",
       "      <td>CHI</td>\n",
       "      <td>1987-88</td>\n",
       "      <td>13.0</td>\n",
       "      <td>0.1</td>\n",
       "      <td>0.132</td>\n",
       "      <td>0.7</td>\n",
       "      <td>8.8</td>\n",
       "      <td>1.0</td>\n",
       "      <td>0.603</td>\n",
       "      <td>5.9</td>\n",
       "      <td>5.5</td>\n",
       "      <td>3.2</td>\n",
       "      <td>1.6</td>\n",
       "      <td>3.1</td>\n",
       "      <td>35.0</td>\n",
       "      <td>35.0</td>\n",
       "    </tr>\n",
       "    <tr>\n",
       "      <th>7545</th>\n",
       "      <td>James Harden</td>\n",
       "      <td>HOU</td>\n",
       "      <td>2019-20</td>\n",
       "      <td>9.9</td>\n",
       "      <td>4.4</td>\n",
       "      <td>0.355</td>\n",
       "      <td>1.0</td>\n",
       "      <td>10.2</td>\n",
       "      <td>1.0</td>\n",
       "      <td>0.624</td>\n",
       "      <td>7.5</td>\n",
       "      <td>6.6</td>\n",
       "      <td>1.8</td>\n",
       "      <td>0.9</td>\n",
       "      <td>4.5</td>\n",
       "      <td>34.3</td>\n",
       "      <td>32.6</td>\n",
       "    </tr>\n",
       "    <tr>\n",
       "      <th>1535</th>\n",
       "      <td>Michael Jordan</td>\n",
       "      <td>CHI</td>\n",
       "      <td>1989-90</td>\n",
       "      <td>12.6</td>\n",
       "      <td>1.1</td>\n",
       "      <td>0.376</td>\n",
       "      <td>1.0</td>\n",
       "      <td>7.2</td>\n",
       "      <td>1.0</td>\n",
       "      <td>0.606</td>\n",
       "      <td>6.3</td>\n",
       "      <td>6.9</td>\n",
       "      <td>2.8</td>\n",
       "      <td>0.7</td>\n",
       "      <td>3.0</td>\n",
       "      <td>33.6</td>\n",
       "      <td>34.6</td>\n",
       "    </tr>\n",
       "    <tr>\n",
       "      <th>4487</th>\n",
       "      <td>Allen Iverson</td>\n",
       "      <td>PHI</td>\n",
       "      <td>2005-06</td>\n",
       "      <td>11.3</td>\n",
       "      <td>1.0</td>\n",
       "      <td>0.323</td>\n",
       "      <td>0.7</td>\n",
       "      <td>9.4</td>\n",
       "      <td>1.0</td>\n",
       "      <td>0.543</td>\n",
       "      <td>7.4</td>\n",
       "      <td>3.2</td>\n",
       "      <td>1.9</td>\n",
       "      <td>0.1</td>\n",
       "      <td>3.4</td>\n",
       "      <td>33.0</td>\n",
       "      <td>26.1</td>\n",
       "    </tr>\n",
       "    <tr>\n",
       "      <th>688</th>\n",
       "      <td>Bernard King</td>\n",
       "      <td>NYK</td>\n",
       "      <td>1984-85</td>\n",
       "      <td>12.6</td>\n",
       "      <td>0.0</td>\n",
       "      <td>0.100</td>\n",
       "      <td>0.6</td>\n",
       "      <td>7.7</td>\n",
       "      <td>1.0</td>\n",
       "      <td>0.585</td>\n",
       "      <td>3.7</td>\n",
       "      <td>5.8</td>\n",
       "      <td>1.3</td>\n",
       "      <td>0.3</td>\n",
       "      <td>3.7</td>\n",
       "      <td>32.9</td>\n",
       "      <td>26.8</td>\n",
       "    </tr>\n",
       "    <tr>\n",
       "      <th>2111</th>\n",
       "      <td>Michael Jordan</td>\n",
       "      <td>CHI</td>\n",
       "      <td>1992-93</td>\n",
       "      <td>12.7</td>\n",
       "      <td>1.0</td>\n",
       "      <td>0.352</td>\n",
       "      <td>0.9</td>\n",
       "      <td>6.1</td>\n",
       "      <td>1.0</td>\n",
       "      <td>0.564</td>\n",
       "      <td>5.5</td>\n",
       "      <td>6.7</td>\n",
       "      <td>2.8</td>\n",
       "      <td>0.8</td>\n",
       "      <td>2.7</td>\n",
       "      <td>32.6</td>\n",
       "      <td>31.6</td>\n",
       "    </tr>\n",
       "    <tr>\n",
       "      <th>1355</th>\n",
       "      <td>Michael Jordan</td>\n",
       "      <td>CHI</td>\n",
       "      <td>1988-89</td>\n",
       "      <td>11.9</td>\n",
       "      <td>0.3</td>\n",
       "      <td>0.276</td>\n",
       "      <td>0.8</td>\n",
       "      <td>8.3</td>\n",
       "      <td>1.0</td>\n",
       "      <td>0.613</td>\n",
       "      <td>8.0</td>\n",
       "      <td>8.0</td>\n",
       "      <td>2.9</td>\n",
       "      <td>0.8</td>\n",
       "      <td>3.6</td>\n",
       "      <td>32.5</td>\n",
       "      <td>37.0</td>\n",
       "    </tr>\n",
       "  </tbody>\n",
       "</table>\n",
       "</div>"
      ],
      "text/plain": [
       "              PLAYER TEAM   SEASON   FGM  FG3M  FG3_PCT  FG3A PCTL   FTM  \\\n",
       "1032  Michael Jordan  CHI  1986-87  13.4   0.1    0.182        0.8  10.2   \n",
       "7287    James Harden  HOU  2018-19  10.8   4.8    0.368        1.0   9.7   \n",
       "4486     Kobe Bryant  LAL  2005-06  12.2   2.3    0.347        1.0   8.7   \n",
       "1191  Michael Jordan  CHI  1987-88  13.0   0.1    0.132        0.7   8.8   \n",
       "7545    James Harden  HOU  2019-20   9.9   4.4    0.355        1.0  10.2   \n",
       "1535  Michael Jordan  CHI  1989-90  12.6   1.1    0.376        1.0   7.2   \n",
       "4487   Allen Iverson  PHI  2005-06  11.3   1.0    0.323        0.7   9.4   \n",
       "688     Bernard King  NYK  1984-85  12.6   0.0    0.100        0.6   7.7   \n",
       "2111  Michael Jordan  CHI  1992-93  12.7   1.0    0.352        0.9   6.1   \n",
       "1355  Michael Jordan  CHI  1988-89  11.9   0.3    0.276        0.8   8.3   \n",
       "\n",
       "      FTA PCTL  TS_PCT  AST  REB  STL  BLK  TOV   PTS   EFF  \n",
       "1032       1.0   0.562  4.6  5.2  2.9  1.5  3.3  37.1  31.9  \n",
       "7287       1.0   0.615  7.5  6.6  2.0  0.7  5.0  36.1  33.1  \n",
       "4486       1.0   0.559  4.5  5.3  1.8  0.4  3.1  35.4  27.8  \n",
       "1191       1.0   0.603  5.9  5.5  3.2  1.6  3.1  35.0  35.0  \n",
       "7545       1.0   0.624  7.5  6.6  1.8  0.9  4.5  34.3  32.6  \n",
       "1535       1.0   0.606  6.3  6.9  2.8  0.7  3.0  33.6  34.6  \n",
       "4487       1.0   0.543  7.4  3.2  1.9  0.1  3.4  33.0  26.1  \n",
       "688        1.0   0.585  3.7  5.8  1.3  0.3  3.7  32.9  26.8  \n",
       "2111       1.0   0.564  5.5  6.7  2.8  0.8  2.7  32.6  31.6  \n",
       "1355       1.0   0.613  8.0  8.0  2.9  0.8  3.6  32.5  37.0  "
      ]
     },
     "execution_count": 135,
     "metadata": {},
     "output_type": "execute_result"
    }
   ],
   "source": [
    "all_data[['PLAYER', 'TEAM', 'SEASON', 'FGM', 'FG3M', 'FG3_PCT', 'FG3A PCTL', 'FTM', 'FTA PCTL',\n",
    "                'TS_PCT', 'AST', 'REB', 'STL', 'BLK', 'TOV', 'PTS', 'EFF']].reset_index(drop=True).sort_values(by=['PTS'], ascending=False).head(10)"
   ]
  },
  {
   "cell_type": "markdown",
   "metadata": {},
   "source": [
    "### Get summary of adjusted ppg leaders comparing to actual ppg"
   ]
  },
  {
   "cell_type": "code",
   "execution_count": 138,
   "metadata": {},
   "outputs": [],
   "source": [
    "differential = pd.DataFrame(columns= ['PLAYER', 'SEASON','EFF', 'TS_PCT', 'OldPTS','NewPTS', 'PTSDiff'])\n",
    "differential['PLAYER'] = all_adjusted.sort_values(by=['PLAYER','SEASON']).reset_index(drop=True)['PLAYER']\n",
    "differential['SEASON'] = all_adjusted.sort_values(by=['PLAYER','SEASON']).reset_index(drop=True)['SEASON']\n",
    "differential['TS_PCT'] = all_adjusted.sort_values(by=['PLAYER','SEASON']).reset_index(drop=True)['TS_PCT']\n",
    "differential['EFF']= all_adjusted.sort_values(by=['PLAYER','SEASON']).reset_index(drop=True)['EFF'].round(1)\n",
    "differential['NewPTS'] = all_adjusted.sort_values(by=['PLAYER','SEASON']).reset_index(drop=True)['PTS'].round(1)\n",
    "differential['OldPTS'] = all_data.sort_values(by=['PLAYER','SEASON']).reset_index(drop=True)['PTS']\n",
    "differential['PTSDiff'] = differential['NewPTS'] - differential['OldPTS']"
   ]
  },
  {
   "cell_type": "code",
   "execution_count": 139,
   "metadata": {},
   "outputs": [
    {
     "data": {
      "text/html": [
       "<div>\n",
       "<style scoped>\n",
       "    .dataframe tbody tr th:only-of-type {\n",
       "        vertical-align: middle;\n",
       "    }\n",
       "\n",
       "    .dataframe tbody tr th {\n",
       "        vertical-align: top;\n",
       "    }\n",
       "\n",
       "    .dataframe thead th {\n",
       "        text-align: right;\n",
       "    }\n",
       "</style>\n",
       "<table border=\"1\" class=\"dataframe\">\n",
       "  <thead>\n",
       "    <tr style=\"text-align: right;\">\n",
       "      <th></th>\n",
       "      <th>PLAYER</th>\n",
       "      <th>SEASON</th>\n",
       "      <th>EFF</th>\n",
       "      <th>TS_PCT</th>\n",
       "      <th>OldPTS</th>\n",
       "      <th>NewPTS</th>\n",
       "      <th>PTSDiff</th>\n",
       "    </tr>\n",
       "  </thead>\n",
       "  <tbody>\n",
       "    <tr>\n",
       "      <th>5252</th>\n",
       "      <td>Michael Jordan</td>\n",
       "      <td>1986-87</td>\n",
       "      <td>31.9</td>\n",
       "      <td>0.573</td>\n",
       "      <td>37.1</td>\n",
       "      <td>37.9</td>\n",
       "      <td>0.8</td>\n",
       "    </tr>\n",
       "    <tr>\n",
       "      <th>3239</th>\n",
       "      <td>James Harden</td>\n",
       "      <td>2018-19</td>\n",
       "      <td>33.1</td>\n",
       "      <td>0.617</td>\n",
       "      <td>36.1</td>\n",
       "      <td>36.2</td>\n",
       "      <td>0.1</td>\n",
       "    </tr>\n",
       "    <tr>\n",
       "      <th>4371</th>\n",
       "      <td>Kobe Bryant</td>\n",
       "      <td>2005-06</td>\n",
       "      <td>27.8</td>\n",
       "      <td>0.568</td>\n",
       "      <td>35.4</td>\n",
       "      <td>36.0</td>\n",
       "      <td>0.6</td>\n",
       "    </tr>\n",
       "    <tr>\n",
       "      <th>5255</th>\n",
       "      <td>Michael Jordan</td>\n",
       "      <td>1989-90</td>\n",
       "      <td>34.6</td>\n",
       "      <td>0.641</td>\n",
       "      <td>33.6</td>\n",
       "      <td>35.7</td>\n",
       "      <td>2.1</td>\n",
       "    </tr>\n",
       "    <tr>\n",
       "      <th>5253</th>\n",
       "      <td>Michael Jordan</td>\n",
       "      <td>1987-88</td>\n",
       "      <td>35.0</td>\n",
       "      <td>0.611</td>\n",
       "      <td>35.0</td>\n",
       "      <td>35.5</td>\n",
       "      <td>0.5</td>\n",
       "    </tr>\n",
       "    <tr>\n",
       "      <th>5258</th>\n",
       "      <td>Michael Jordan</td>\n",
       "      <td>1992-93</td>\n",
       "      <td>31.6</td>\n",
       "      <td>0.590</td>\n",
       "      <td>32.6</td>\n",
       "      <td>34.8</td>\n",
       "      <td>2.2</td>\n",
       "    </tr>\n",
       "    <tr>\n",
       "      <th>3240</th>\n",
       "      <td>James Harden</td>\n",
       "      <td>2019-20</td>\n",
       "      <td>32.6</td>\n",
       "      <td>0.626</td>\n",
       "      <td>34.3</td>\n",
       "      <td>34.4</td>\n",
       "      <td>0.1</td>\n",
       "    </tr>\n",
       "    <tr>\n",
       "      <th>2646</th>\n",
       "      <td>George Gervin</td>\n",
       "      <td>1981-82</td>\n",
       "      <td>24.8</td>\n",
       "      <td>0.587</td>\n",
       "      <td>32.3</td>\n",
       "      <td>34.0</td>\n",
       "      <td>1.7</td>\n",
       "    </tr>\n",
       "    <tr>\n",
       "      <th>5254</th>\n",
       "      <td>Michael Jordan</td>\n",
       "      <td>1988-89</td>\n",
       "      <td>37.0</td>\n",
       "      <td>0.633</td>\n",
       "      <td>32.5</td>\n",
       "      <td>33.6</td>\n",
       "      <td>1.1</td>\n",
       "    </tr>\n",
       "    <tr>\n",
       "      <th>185</th>\n",
       "      <td>Allen Iverson</td>\n",
       "      <td>2005-06</td>\n",
       "      <td>26.1</td>\n",
       "      <td>0.549</td>\n",
       "      <td>33.0</td>\n",
       "      <td>33.3</td>\n",
       "      <td>0.3</td>\n",
       "    </tr>\n",
       "    <tr>\n",
       "      <th>615</th>\n",
       "      <td>Bernard King</td>\n",
       "      <td>1984-85</td>\n",
       "      <td>26.8</td>\n",
       "      <td>0.591</td>\n",
       "      <td>32.9</td>\n",
       "      <td>33.2</td>\n",
       "      <td>0.3</td>\n",
       "    </tr>\n",
       "    <tr>\n",
       "      <th>7334</th>\n",
       "      <td>Tracy McGrady</td>\n",
       "      <td>2002-03</td>\n",
       "      <td>28.8</td>\n",
       "      <td>0.579</td>\n",
       "      <td>32.1</td>\n",
       "      <td>33.0</td>\n",
       "      <td>0.9</td>\n",
       "    </tr>\n",
       "    <tr>\n",
       "      <th>4227</th>\n",
       "      <td>Kevin Durant</td>\n",
       "      <td>2013-14</td>\n",
       "      <td>31.8</td>\n",
       "      <td>0.651</td>\n",
       "      <td>32.0</td>\n",
       "      <td>32.8</td>\n",
       "      <td>0.8</td>\n",
       "    </tr>\n",
       "    <tr>\n",
       "      <th>5256</th>\n",
       "      <td>Michael Jordan</td>\n",
       "      <td>1990-91</td>\n",
       "      <td>32.7</td>\n",
       "      <td>0.626</td>\n",
       "      <td>31.5</td>\n",
       "      <td>32.8</td>\n",
       "      <td>1.3</td>\n",
       "    </tr>\n",
       "    <tr>\n",
       "      <th>4340</th>\n",
       "      <td>Kiki Vandeweghe</td>\n",
       "      <td>1983-84</td>\n",
       "      <td>26.4</td>\n",
       "      <td>0.659</td>\n",
       "      <td>29.4</td>\n",
       "      <td>32.2</td>\n",
       "      <td>2.8</td>\n",
       "    </tr>\n",
       "    <tr>\n",
       "      <th>2164</th>\n",
       "      <td>Dominique Wilkins</td>\n",
       "      <td>1987-88</td>\n",
       "      <td>24.3</td>\n",
       "      <td>0.557</td>\n",
       "      <td>30.7</td>\n",
       "      <td>32.2</td>\n",
       "      <td>1.5</td>\n",
       "    </tr>\n",
       "    <tr>\n",
       "      <th>4553</th>\n",
       "      <td>Larry Bird</td>\n",
       "      <td>1987-88</td>\n",
       "      <td>34.0</td>\n",
       "      <td>0.652</td>\n",
       "      <td>29.9</td>\n",
       "      <td>32.2</td>\n",
       "      <td>2.3</td>\n",
       "    </tr>\n",
       "    <tr>\n",
       "      <th>4033</th>\n",
       "      <td>Karl Malone</td>\n",
       "      <td>1989-90</td>\n",
       "      <td>31.9</td>\n",
       "      <td>0.653</td>\n",
       "      <td>31.0</td>\n",
       "      <td>32.2</td>\n",
       "      <td>1.2</td>\n",
       "    </tr>\n",
       "    <tr>\n",
       "      <th>6491</th>\n",
       "      <td>Russell Westbrook</td>\n",
       "      <td>2016-17</td>\n",
       "      <td>33.8</td>\n",
       "      <td>0.560</td>\n",
       "      <td>31.6</td>\n",
       "      <td>32.0</td>\n",
       "      <td>0.4</td>\n",
       "    </tr>\n",
       "    <tr>\n",
       "      <th>5257</th>\n",
       "      <td>Michael Jordan</td>\n",
       "      <td>1991-92</td>\n",
       "      <td>31.1</td>\n",
       "      <td>0.601</td>\n",
       "      <td>30.1</td>\n",
       "      <td>31.9</td>\n",
       "      <td>1.8</td>\n",
       "    </tr>\n",
       "    <tr>\n",
       "      <th>4372</th>\n",
       "      <td>Kobe Bryant</td>\n",
       "      <td>2006-07</td>\n",
       "      <td>27.6</td>\n",
       "      <td>0.586</td>\n",
       "      <td>31.6</td>\n",
       "      <td>31.9</td>\n",
       "      <td>0.3</td>\n",
       "    </tr>\n",
       "    <tr>\n",
       "      <th>4550</th>\n",
       "      <td>Larry Bird</td>\n",
       "      <td>1984-85</td>\n",
       "      <td>34.4</td>\n",
       "      <td>0.645</td>\n",
       "      <td>28.7</td>\n",
       "      <td>31.9</td>\n",
       "      <td>3.2</td>\n",
       "    </tr>\n",
       "    <tr>\n",
       "      <th>4630</th>\n",
       "      <td>LeBron James</td>\n",
       "      <td>2005-06</td>\n",
       "      <td>29.4</td>\n",
       "      <td>0.575</td>\n",
       "      <td>31.4</td>\n",
       "      <td>31.8</td>\n",
       "      <td>0.4</td>\n",
       "    </tr>\n",
       "    <tr>\n",
       "      <th>182</th>\n",
       "      <td>Allen Iverson</td>\n",
       "      <td>2001-02</td>\n",
       "      <td>21.9</td>\n",
       "      <td>0.496</td>\n",
       "      <td>31.4</td>\n",
       "      <td>31.8</td>\n",
       "      <td>0.4</td>\n",
       "    </tr>\n",
       "    <tr>\n",
       "      <th>5259</th>\n",
       "      <td>Michael Jordan</td>\n",
       "      <td>1995-96</td>\n",
       "      <td>28.9</td>\n",
       "      <td>0.600</td>\n",
       "      <td>30.4</td>\n",
       "      <td>31.7</td>\n",
       "      <td>1.3</td>\n",
       "    </tr>\n",
       "  </tbody>\n",
       "</table>\n",
       "</div>"
      ],
      "text/plain": [
       "                 PLAYER   SEASON   EFF  TS_PCT  OldPTS  NewPTS  PTSDiff\n",
       "5252     Michael Jordan  1986-87  31.9   0.573    37.1    37.9      0.8\n",
       "3239       James Harden  2018-19  33.1   0.617    36.1    36.2      0.1\n",
       "4371        Kobe Bryant  2005-06  27.8   0.568    35.4    36.0      0.6\n",
       "5255     Michael Jordan  1989-90  34.6   0.641    33.6    35.7      2.1\n",
       "5253     Michael Jordan  1987-88  35.0   0.611    35.0    35.5      0.5\n",
       "5258     Michael Jordan  1992-93  31.6   0.590    32.6    34.8      2.2\n",
       "3240       James Harden  2019-20  32.6   0.626    34.3    34.4      0.1\n",
       "2646      George Gervin  1981-82  24.8   0.587    32.3    34.0      1.7\n",
       "5254     Michael Jordan  1988-89  37.0   0.633    32.5    33.6      1.1\n",
       "185       Allen Iverson  2005-06  26.1   0.549    33.0    33.3      0.3\n",
       "615        Bernard King  1984-85  26.8   0.591    32.9    33.2      0.3\n",
       "7334      Tracy McGrady  2002-03  28.8   0.579    32.1    33.0      0.9\n",
       "4227       Kevin Durant  2013-14  31.8   0.651    32.0    32.8      0.8\n",
       "5256     Michael Jordan  1990-91  32.7   0.626    31.5    32.8      1.3\n",
       "4340    Kiki Vandeweghe  1983-84  26.4   0.659    29.4    32.2      2.8\n",
       "2164  Dominique Wilkins  1987-88  24.3   0.557    30.7    32.2      1.5\n",
       "4553         Larry Bird  1987-88  34.0   0.652    29.9    32.2      2.3\n",
       "4033        Karl Malone  1989-90  31.9   0.653    31.0    32.2      1.2\n",
       "6491  Russell Westbrook  2016-17  33.8   0.560    31.6    32.0      0.4\n",
       "5257     Michael Jordan  1991-92  31.1   0.601    30.1    31.9      1.8\n",
       "4372        Kobe Bryant  2006-07  27.6   0.586    31.6    31.9      0.3\n",
       "4550         Larry Bird  1984-85  34.4   0.645    28.7    31.9      3.2\n",
       "4630       LeBron James  2005-06  29.4   0.575    31.4    31.8      0.4\n",
       "182       Allen Iverson  2001-02  21.9   0.496    31.4    31.8      0.4\n",
       "5259     Michael Jordan  1995-96  28.9   0.600    30.4    31.7      1.3"
      ]
     },
     "execution_count": 139,
     "metadata": {},
     "output_type": "execute_result"
    }
   ],
   "source": [
    "differential.sort_values(by=['NewPTS'], ascending=False).head(25)"
   ]
  },
  {
   "cell_type": "code",
   "execution_count": 162,
   "metadata": {},
   "outputs": [],
   "source": [
    "top500 = differential.sort_values(by=['NewPTS'], ascending=False).head(500)"
   ]
  },
  {
   "cell_type": "code",
   "execution_count": 163,
   "metadata": {},
   "outputs": [
    {
     "data": {
      "text/html": [
       "<div>\n",
       "<style scoped>\n",
       "    .dataframe tbody tr th:only-of-type {\n",
       "        vertical-align: middle;\n",
       "    }\n",
       "\n",
       "    .dataframe tbody tr th {\n",
       "        vertical-align: top;\n",
       "    }\n",
       "\n",
       "    .dataframe thead th {\n",
       "        text-align: right;\n",
       "    }\n",
       "</style>\n",
       "<table border=\"1\" class=\"dataframe\">\n",
       "  <thead>\n",
       "    <tr style=\"text-align: right;\">\n",
       "      <th></th>\n",
       "      <th>PLAYER</th>\n",
       "      <th>SEASON</th>\n",
       "      <th>EFF</th>\n",
       "      <th>TS_PCT</th>\n",
       "      <th>OldPTS</th>\n",
       "      <th>NewPTS</th>\n",
       "      <th>PTSDiff</th>\n",
       "    </tr>\n",
       "  </thead>\n",
       "  <tbody>\n",
       "    <tr>\n",
       "      <th>5252</th>\n",
       "      <td>Michael Jordan</td>\n",
       "      <td>1986-87</td>\n",
       "      <td>31.9</td>\n",
       "      <td>0.573</td>\n",
       "      <td>37.1</td>\n",
       "      <td>37.9</td>\n",
       "      <td>0.8</td>\n",
       "    </tr>\n",
       "    <tr>\n",
       "      <th>3239</th>\n",
       "      <td>James Harden</td>\n",
       "      <td>2018-19</td>\n",
       "      <td>33.1</td>\n",
       "      <td>0.617</td>\n",
       "      <td>36.1</td>\n",
       "      <td>36.2</td>\n",
       "      <td>0.1</td>\n",
       "    </tr>\n",
       "    <tr>\n",
       "      <th>4371</th>\n",
       "      <td>Kobe Bryant</td>\n",
       "      <td>2005-06</td>\n",
       "      <td>27.8</td>\n",
       "      <td>0.568</td>\n",
       "      <td>35.4</td>\n",
       "      <td>36.0</td>\n",
       "      <td>0.6</td>\n",
       "    </tr>\n",
       "    <tr>\n",
       "      <th>5255</th>\n",
       "      <td>Michael Jordan</td>\n",
       "      <td>1989-90</td>\n",
       "      <td>34.6</td>\n",
       "      <td>0.641</td>\n",
       "      <td>33.6</td>\n",
       "      <td>35.7</td>\n",
       "      <td>2.1</td>\n",
       "    </tr>\n",
       "    <tr>\n",
       "      <th>5253</th>\n",
       "      <td>Michael Jordan</td>\n",
       "      <td>1987-88</td>\n",
       "      <td>35.0</td>\n",
       "      <td>0.611</td>\n",
       "      <td>35.0</td>\n",
       "      <td>35.5</td>\n",
       "      <td>0.5</td>\n",
       "    </tr>\n",
       "    <tr>\n",
       "      <th>...</th>\n",
       "      <td>...</td>\n",
       "      <td>...</td>\n",
       "      <td>...</td>\n",
       "      <td>...</td>\n",
       "      <td>...</td>\n",
       "      <td>...</td>\n",
       "      <td>...</td>\n",
       "    </tr>\n",
       "    <tr>\n",
       "      <th>7155</th>\n",
       "      <td>Tim Duncan</td>\n",
       "      <td>1998-99</td>\n",
       "      <td>25.3</td>\n",
       "      <td>0.554</td>\n",
       "      <td>21.7</td>\n",
       "      <td>23.0</td>\n",
       "      <td>1.3</td>\n",
       "    </tr>\n",
       "    <tr>\n",
       "      <th>6879</th>\n",
       "      <td>Stephon Marbury</td>\n",
       "      <td>2002-03</td>\n",
       "      <td>20.2</td>\n",
       "      <td>0.532</td>\n",
       "      <td>22.3</td>\n",
       "      <td>23.0</td>\n",
       "      <td>0.7</td>\n",
       "    </tr>\n",
       "    <tr>\n",
       "      <th>3582</th>\n",
       "      <td>Jerry Stackhouse</td>\n",
       "      <td>2001-02</td>\n",
       "      <td>17.3</td>\n",
       "      <td>0.542</td>\n",
       "      <td>21.4</td>\n",
       "      <td>23.0</td>\n",
       "      <td>1.6</td>\n",
       "    </tr>\n",
       "    <tr>\n",
       "      <th>4767</th>\n",
       "      <td>Luka Doncic</td>\n",
       "      <td>2018-19</td>\n",
       "      <td>21.6</td>\n",
       "      <td>0.565</td>\n",
       "      <td>21.2</td>\n",
       "      <td>23.0</td>\n",
       "      <td>1.8</td>\n",
       "    </tr>\n",
       "    <tr>\n",
       "      <th>5387</th>\n",
       "      <td>Mike Mitchell</td>\n",
       "      <td>1984-85</td>\n",
       "      <td>18.0</td>\n",
       "      <td>0.553</td>\n",
       "      <td>22.2</td>\n",
       "      <td>23.0</td>\n",
       "      <td>0.8</td>\n",
       "    </tr>\n",
       "  </tbody>\n",
       "</table>\n",
       "<p>500 rows × 7 columns</p>\n",
       "</div>"
      ],
      "text/plain": [
       "                PLAYER   SEASON   EFF  TS_PCT  OldPTS  NewPTS  PTSDiff\n",
       "5252    Michael Jordan  1986-87  31.9   0.573    37.1    37.9      0.8\n",
       "3239      James Harden  2018-19  33.1   0.617    36.1    36.2      0.1\n",
       "4371       Kobe Bryant  2005-06  27.8   0.568    35.4    36.0      0.6\n",
       "5255    Michael Jordan  1989-90  34.6   0.641    33.6    35.7      2.1\n",
       "5253    Michael Jordan  1987-88  35.0   0.611    35.0    35.5      0.5\n",
       "...                ...      ...   ...     ...     ...     ...      ...\n",
       "7155        Tim Duncan  1998-99  25.3   0.554    21.7    23.0      1.3\n",
       "6879   Stephon Marbury  2002-03  20.2   0.532    22.3    23.0      0.7\n",
       "3582  Jerry Stackhouse  2001-02  17.3   0.542    21.4    23.0      1.6\n",
       "4767       Luka Doncic  2018-19  21.6   0.565    21.2    23.0      1.8\n",
       "5387     Mike Mitchell  1984-85  18.0   0.553    22.2    23.0      0.8\n",
       "\n",
       "[500 rows x 7 columns]"
      ]
     },
     "execution_count": 163,
     "metadata": {},
     "output_type": "execute_result"
    }
   ],
   "source": [
    "top500"
   ]
  },
  {
   "cell_type": "code",
   "execution_count": 141,
   "metadata": {},
   "outputs": [],
   "source": [
    "import plotly.graph_objects as go"
   ]
  },
  {
   "cell_type": "code",
   "execution_count": 164,
   "metadata": {},
   "outputs": [
    {
     "data": {
      "application/vnd.plotly.v1+json": {
       "config": {
        "plotlyServerURL": "https://plot.ly"
       },
       "data": [
        {
         "hovertemplate": "<b>%{text}</b><br><b>PPG</b>: %{x}<br><b>EFF</b>: %{y}<br><b>PTS Adj</b>: <b>%{marker.color:.2f}</b><br>",
         "marker": {
          "color": [
           0.7999999999999972,
           0.10000000000000142,
           0.6000000000000014,
           2.1000000000000014,
           0.5,
           2.1999999999999957,
           0.10000000000000142,
           1.7000000000000028,
           1.1000000000000014,
           0.29999999999999716,
           0.30000000000000426,
           0.8999999999999986,
           0.7999999999999972,
           1.2999999999999972,
           2.8000000000000043,
           1.5000000000000036,
           2.3000000000000043,
           1.2000000000000028,
           0.3999999999999986,
           1.7999999999999972,
           0.29999999999999716,
           3.1999999999999993,
           0.40000000000000213,
           0.40000000000000213,
           1.3000000000000007,
           0.5,
           2,
           1.8999999999999986,
           1.5999999999999979,
           0.6999999999999993,
           0.6999999999999993,
           1.4000000000000021,
           0.6000000000000014,
           0.40000000000000213,
           0,
           0.6999999999999993,
           0.8999999999999986,
           0.8000000000000007,
           0.8999999999999986,
           0.3999999999999986,
           0.6999999999999993,
           2.6000000000000014,
           0.8000000000000007,
           0,
           0.3999999999999986,
           0.1999999999999993,
           0.1999999999999993,
           1.5,
           2,
           0.3000000000000007,
           0.8999999999999986,
           0.1999999999999993,
           1,
           0.5999999999999979,
           1.5,
           2.3999999999999986,
           2.5,
           3.1000000000000014,
           1.6000000000000014,
           0,
           0.10000000000000142,
           0.6000000000000014,
           0,
           1.5,
           0.8999999999999986,
           1.0999999999999979,
           0.8000000000000007,
           0.40000000000000213,
           1.3000000000000007,
           0,
           0,
           0.5,
           1.3999999999999986,
           0.5999999999999979,
           2.099999999999998,
           1.1999999999999993,
           2.6000000000000014,
           0.20000000000000284,
           0.9000000000000021,
           0,
           1.6000000000000014,
           1.8000000000000007,
           0,
           1.6000000000000014,
           3.3000000000000007,
           0.5,
           0.5,
           1.6999999999999993,
           0.09999999999999787,
           1,
           0.5,
           1,
           0.6999999999999993,
           1.1999999999999993,
           1.9000000000000021,
           1.6000000000000014,
           0,
           1.5999999999999979,
           2.400000000000002,
           0.3000000000000007,
           0.10000000000000142,
           1.3000000000000007,
           0.3999999999999986,
           0.29999999999999716,
           0.1999999999999993,
           0.3999999999999986,
           1.3999999999999986,
           0.7999999999999972,
           1.1999999999999993,
           1.5,
           1.6000000000000014,
           0.6999999999999993,
           0.6999999999999993,
           0,
           0.8999999999999986,
           1.1999999999999993,
           2.3000000000000007,
           3.099999999999998,
           0.9000000000000021,
           2.400000000000002,
           0.3000000000000007,
           0.8000000000000007,
           1.3000000000000007,
           1.2000000000000028,
           1.3000000000000007,
           0,
           1.3999999999999986,
           0.3000000000000007,
           1.1000000000000014,
           2,
           1.3999999999999986,
           2.1999999999999993,
           0.29999999999999716,
           2.1999999999999993,
           1.2999999999999972,
           1.2999999999999972,
           0.5,
           1.8999999999999986,
           2.099999999999998,
           1.1999999999999993,
           2.1000000000000014,
           0.6999999999999993,
           0.6999999999999993,
           0,
           0.3000000000000007,
           1.2000000000000028,
           -0.09999999999999787,
           1.5,
           0.3000000000000007,
           0.6000000000000014,
           1.3000000000000007,
           0.8000000000000007,
           0,
           1.1999999999999993,
           1.6999999999999993,
           0,
           1.5,
           1.7999999999999972,
           0.1999999999999993,
           0.3999999999999986,
           1.2999999999999972,
           0.8999999999999986,
           0.6999999999999993,
           0.1999999999999993,
           1.6999999999999993,
           0.5,
           1.1000000000000014,
           0.8000000000000007,
           0,
           1.5,
           1.6999999999999993,
           2.099999999999998,
           0.6000000000000014,
           -0.09999999999999787,
           0.3000000000000007,
           2.5,
           0.3000000000000007,
           0.40000000000000213,
           1.5,
           1,
           0.10000000000000142,
           0.10000000000000142,
           0,
           0.6000000000000014,
           2,
           2,
           1,
           0.3000000000000007,
           0.1999999999999993,
           1.3000000000000007,
           2.1000000000000014,
           1.5,
           1.5,
           1.5,
           0.40000000000000213,
           1,
           1.5,
           1.3999999999999986,
           1.5,
           0.8000000000000007,
           0.6999999999999993,
           0.8999999999999986,
           1.1999999999999993,
           0.3000000000000007,
           1.2000000000000028,
           0,
           1,
           0.20000000000000284,
           1.6000000000000014,
           0.8000000000000007,
           0.3000000000000007,
           -0.10000000000000142,
           0.8999999999999986,
           2.3000000000000007,
           0.3999999999999986,
           2.1000000000000014,
           0.8999999999999986,
           0.09999999999999787,
           0.5999999999999979,
           0.6999999999999993,
           1.0999999999999979,
           0.1999999999999993,
           0.3000000000000007,
           2.099999999999998,
           0.3000000000000007,
           0.1999999999999993,
           0.5999999999999979,
           0.5,
           1.1999999999999993,
           1.0999999999999979,
           1.6999999999999993,
           2.3000000000000007,
           0.6000000000000014,
           1.3000000000000007,
           1.6000000000000014,
           1.5,
           0.6000000000000014,
           -0.10000000000000142,
           1.6000000000000014,
           0.8000000000000007,
           0.5,
           0.7999999999999972,
           2.099999999999998,
           1.2999999999999972,
           0.29999999999999716,
           0.3999999999999986,
           0.6000000000000014,
           0.3000000000000007,
           0.5,
           0.3000000000000007,
           1.3000000000000007,
           0.5,
           2.1999999999999993,
           0.1999999999999993,
           0.3000000000000007,
           2.3999999999999986,
           1.5,
           1.8000000000000007,
           2.6000000000000014,
           0.3000000000000007,
           1.3000000000000007,
           1.6000000000000014,
           0.8999999999999986,
           1.1999999999999993,
           1.3000000000000007,
           2.3999999999999986,
           1.3000000000000007,
           0.5,
           0.3000000000000007,
           0.3999999999999986,
           0.8999999999999986,
           1.5999999999999979,
           1.8999999999999986,
           1.1999999999999993,
           0.5,
           0.5999999999999979,
           0.10000000000000142,
           0.6999999999999993,
           1.3000000000000007,
           1.4000000000000021,
           0.1999999999999993,
           0.8000000000000007,
           2.400000000000002,
           1.6999999999999993,
           1.0999999999999979,
           0.10000000000000142,
           1.5,
           0.7000000000000028,
           0,
           1.6999999999999993,
           0.8000000000000007,
           1.6000000000000014,
           -0.10000000000000142,
           1.3999999999999986,
           1.8999999999999986,
           1.1000000000000014,
           1.6000000000000014,
           1.6000000000000014,
           2.3999999999999986,
           1,
           1.0999999999999979,
           0.29999999999999716,
           1.6999999999999993,
           0.40000000000000213,
           1.9000000000000021,
           0.5,
           2.3000000000000007,
           0.6999999999999993,
           2,
           1.8000000000000007,
           1.3000000000000007,
           0.10000000000000142,
           1.5,
           0.8000000000000007,
           1.5999999999999979,
           2.3999999999999986,
           1,
           0.3999999999999986,
           1.5,
           1.3000000000000007,
           1,
           1.2000000000000028,
           1.1000000000000014,
           0.5,
           0.5,
           2,
           2,
           0.8000000000000007,
           2,
           0.5,
           1.2000000000000028,
           0,
           0.6000000000000014,
           1.6000000000000014,
           0.6999999999999993,
           1.1999999999999993,
           1.6999999999999993,
           1.3999999999999986,
           1.6000000000000014,
           1.5,
           1.1999999999999993,
           1.8999999999999986,
           1.3999999999999986,
           0.1999999999999993,
           -0.10000000000000142,
           1.5,
           0.6999999999999993,
           0.09999999999999787,
           1.1000000000000014,
           0.3000000000000007,
           0.1999999999999993,
           2,
           1,
           1.9000000000000021,
           1.3000000000000007,
           2.1000000000000014,
           0.1999999999999993,
           1.3000000000000007,
           0.3000000000000007,
           2.3000000000000007,
           1.3000000000000007,
           0.8000000000000007,
           1,
           0.09999999999999787,
           1.3000000000000007,
           1.1999999999999993,
           1.0999999999999979,
           2,
           0.5999999999999979,
           0.3000000000000007,
           0.9000000000000021,
           1.1000000000000014,
           0.9000000000000021,
           1.7000000000000028,
           0.3000000000000007,
           0.5,
           1.3999999999999986,
           1.3999999999999986,
           0.6000000000000014,
           0.6000000000000014,
           0.8999999999999986,
           1.1000000000000014,
           0.10000000000000142,
           0.8999999999999986,
           0.3999999999999986,
           1.1000000000000014,
           1.5999999999999979,
           0.1999999999999993,
           0.8999999999999986,
           2.3999999999999986,
           0.8999999999999986,
           0.7999999999999972,
           2.1999999999999993,
           0.29999999999999716,
           0.7999999999999972,
           1.7999999999999972,
           0.6999999999999993,
           1.3000000000000007,
           0.40000000000000213,
           1.6000000000000014,
           0,
           0.6000000000000014,
           0.6000000000000014,
           2.3000000000000007,
           1.5,
           0.10000000000000142,
           0.1999999999999993,
           0.3000000000000007,
           1.5,
           0.6999999999999993,
           0.3000000000000007,
           0.8000000000000007,
           -0.10000000000000142,
           0.8000000000000007,
           0.5,
           1.3000000000000007,
           0.5,
           1.1999999999999993,
           2.099999999999998,
           1.0999999999999979,
           1.3999999999999986,
           0.5,
           1.3000000000000007,
           0.8000000000000007,
           1.2000000000000028,
           0.6000000000000014,
           1.8000000000000007,
           1,
           1.7000000000000028,
           1.3000000000000007,
           0.40000000000000213,
           2.3000000000000007,
           0.6999999999999993,
           1,
           0.8000000000000007,
           1.3999999999999986,
           0.5,
           1.5,
           0.8000000000000007,
           0.10000000000000142,
           0.8999999999999986,
           1.6999999999999993,
           1.1999999999999993,
           1.2999999999999972,
           1.3999999999999986,
           1.1999999999999993,
           1.0999999999999979,
           1.5,
           2.1999999999999993,
           1.2999999999999972,
           0,
           1,
           0.5,
           0.5,
           1.6999999999999993,
           0.8000000000000007,
           1.6000000000000014,
           0.6999999999999993,
           1.8999999999999986,
           1.5,
           0.5999999999999979,
           1.3999999999999986,
           1.0999999999999979,
           1.8999999999999986,
           1.8999999999999986,
           1.1999999999999993,
           1.0999999999999979,
           2.6999999999999993,
           1.1999999999999993,
           1.1999999999999993,
           1,
           0.7000000000000028,
           1,
           1.6000000000000014,
           0.6000000000000014,
           1.2000000000000028,
           1.7000000000000028,
           0.7000000000000028,
           0.7000000000000028,
           1.3000000000000007,
           0.3000000000000007,
           0.8000000000000007,
           1,
           1.6000000000000014,
           0.20000000000000284,
           1.6000000000000014,
           1.4000000000000021,
           1.6000000000000014,
           1.1000000000000014,
           0.8000000000000007,
           1.3000000000000007,
           0.8000000000000007,
           1.6000000000000014,
           0.3000000000000007,
           0.3000000000000007,
           1.3000000000000007,
           0.6999999999999993,
           1.6000000000000014,
           1.8000000000000007,
           0.8000000000000007
          ],
          "colorscale": [
           [
            0,
            "blue"
           ],
           [
            1,
            "red"
           ]
          ],
          "size": [
           31.9,
           33.1,
           27.8,
           34.6,
           35,
           31.6,
           32.6,
           24.8,
           37,
           26.1,
           26.8,
           28.8,
           31.8,
           32.7,
           26.4,
           24.3,
           34,
           31.9,
           33.8,
           31.1,
           27.6,
           34.4,
           29.4,
           21.9,
           28.9,
           22.3,
           25,
           27,
           24.4,
           28.2,
           28,
           25.2,
           25.4,
           24.9,
           33.1,
           25.5,
           30.7,
           28,
           34,
           27.8,
           28.9,
           21.1,
           20.4,
           30.1,
           30.3,
           29.3,
           28,
           23.2,
           34.3,
           32.4,
           29.5,
           25.8,
           24.2,
           24.2,
           21,
           21.1,
           22,
           24.2,
           29.8,
           33.8,
           34.6,
           31.4,
           26.6,
           27.4,
           23.9,
           32.5,
           25.3,
           23.3,
           27.3,
           33.5,
           30.7,
           23.8,
           31.9,
           32.3,
           22.1,
           23.7,
           22,
           24.7,
           29.2,
           32.4,
           32.7,
           26.1,
           27.8,
           25.2,
           21.2,
           18.9,
           30.9,
           24.5,
           30.8,
           24.8,
           28.3,
           21.4,
           33,
           23.9,
           21.8,
           26.2,
           31,
           27.5,
           21.6,
           26.6,
           24.2,
           28.2,
           30.4,
           27.7,
           23.3,
           29.9,
           24.5,
           24.3,
           29.3,
           32.2,
           20.1,
           30.8,
           32.4,
           28.9,
           32.8,
           22.9,
           26.1,
           25.8,
           28.9,
           24.1,
           31.7,
           24.6,
           20.9,
           25,
           25.2,
           31.1,
           27.4,
           24.9,
           30.2,
           21,
           24.6,
           25,
           20.9,
           26,
           26.9,
           23,
           27.2,
           27.9,
           20.5,
           23.6,
           23.7,
           29.9,
           27.9,
           35.3,
           30.2,
           31,
           27.6,
           23.9,
           25.6,
           29.3,
           31,
           29.6,
           29.9,
           22.9,
           31.3,
           32.2,
           20.1,
           24.9,
           26.9,
           31.1,
           34.7,
           26,
           29.5,
           28.6,
           31.8,
           19.9,
           22.8,
           21.4,
           22.7,
           21.3,
           19.5,
           27.7,
           25.6,
           28.5,
           24.4,
           22.2,
           24.2,
           28.6,
           25.5,
           30.2,
           30.7,
           26.7,
           28.5,
           21.6,
           23.1,
           21.8,
           21.3,
           21.2,
           25.1,
           25.3,
           20.2,
           27.5,
           21.4,
           25.2,
           25.7,
           23.5,
           23.5,
           24.6,
           22.4,
           24,
           28.3,
           24.8,
           21.8,
           23.5,
           29.5,
           27.3,
           22.7,
           28.6,
           19.8,
           32.7,
           21.2,
           23.7,
           24.2,
           22.2,
           28.1,
           20.8,
           22,
           26.9,
           22.3,
           28.3,
           25.3,
           29.8,
           22.9,
           17.1,
           25.1,
           26.8,
           22.5,
           23.2,
           26.3,
           21.1,
           27.3,
           16.6,
           21,
           19.8,
           22.7,
           23.7,
           27.4,
           30.9,
           30.3,
           31.7,
           24.3,
           30.3,
           24.4,
           20.3,
           33.6,
           27.1,
           28.6,
           24.8,
           22.7,
           20,
           19.2,
           21.7,
           20.5,
           31.2,
           20.3,
           20.5,
           23,
           26.3,
           23.5,
           29.6,
           29.3,
           25,
           21.3,
           26.7,
           21,
           21.8,
           26.3,
           32,
           22.7,
           25.2,
           21.6,
           20.1,
           19.3,
           30,
           20.8,
           31,
           28.4,
           27.4,
           19.8,
           31.8,
           21.2,
           27.9,
           23.4,
           17.9,
           20.3,
           21.7,
           16.9,
           26.7,
           21.8,
           20.3,
           33.1,
           21.8,
           30.2,
           30,
           19.3,
           19.4,
           17.8,
           22.3,
           33.3,
           21.7,
           25.3,
           26.9,
           22.6,
           30.4,
           21.7,
           18,
           17.7,
           18.8,
           18.8,
           27.7,
           28.5,
           28.5,
           25.5,
           22.7,
           25,
           30.5,
           22.4,
           32.4,
           20.9,
           24.3,
           19.8,
           23.8,
           18.2,
           20.7,
           26,
           16.9,
           22.1,
           18.7,
           19.5,
           23.2,
           29,
           27.3,
           26.7,
           28.8,
           25.9,
           24.3,
           18.6,
           19.8,
           19.4,
           21.5,
           19.3,
           19.5,
           20.5,
           26.3,
           30.1,
           20.7,
           19.8,
           30.6,
           24.9,
           28.1,
           27.6,
           18.7,
           29.9,
           18.2,
           19.7,
           17.2,
           23.6,
           22.4,
           27.2,
           23.7,
           25.3,
           18.6,
           27.9,
           24.9,
           17.4,
           33.5,
           22.5,
           19.4,
           22.4,
           20.7,
           25.3,
           17.2,
           24.7,
           21.9,
           22.3,
           28.4,
           19.9,
           17.6,
           22.6,
           26.3,
           23.5,
           29.2,
           25.6,
           18.5,
           18,
           25.3,
           15.6,
           26,
           20.5,
           20.1,
           25,
           24.3,
           22.4,
           25.4,
           23.1,
           23.9,
           28.1,
           26.3,
           24.2,
           20.4,
           25.5,
           18,
           25.3,
           17.3,
           19.3,
           20.2,
           24.1,
           20,
           19.2,
           22.4,
           29.8,
           21.9,
           23.7,
           28.4,
           21.6,
           24.4,
           27.8,
           16.3,
           26.1,
           20.1,
           20.7,
           32.6,
           24.1,
           18.9,
           19,
           21.2,
           19.8,
           22.1,
           19.1,
           19.1,
           18.7,
           21.8,
           21.9,
           18.4,
           24.9,
           19.4,
           32.1,
           25.9,
           18.6,
           17.6,
           22.8,
           24,
           23.6,
           25.9,
           19.4,
           26.2,
           18,
           22.3,
           21.9,
           18.1,
           28.9,
           23.4,
           19.8,
           30.5,
           18.8,
           20.4,
           22.2,
           18.3,
           18.5,
           19.9,
           25.3,
           22.2,
           16.6,
           24.4,
           16.4,
           20.6,
           21.5,
           17.7,
           22.2,
           20.4,
           24.2,
           21.2,
           19.6,
           23.5,
           25.6,
           22.4,
           17.2,
           20.8,
           16.9,
           23,
           19.8,
           24.2,
           20.6,
           19.9,
           29,
           17.3,
           21.7,
           17.4,
           20.2,
           19.8,
           19.3,
           22.1,
           22.8,
           25.9,
           18.1,
           25.3,
           20.2,
           17.3,
           21.6,
           18
          ]
         },
         "mode": "markers",
         "text": [
          [
           "Michael Jordan",
           "1986-87"
          ],
          [
           "James Harden",
           "2018-19"
          ],
          [
           "Kobe Bryant",
           "2005-06"
          ],
          [
           "Michael Jordan",
           "1989-90"
          ],
          [
           "Michael Jordan",
           "1987-88"
          ],
          [
           "Michael Jordan",
           "1992-93"
          ],
          [
           "James Harden",
           "2019-20"
          ],
          [
           "George Gervin",
           "1981-82"
          ],
          [
           "Michael Jordan",
           "1988-89"
          ],
          [
           "Allen Iverson",
           "2005-06"
          ],
          [
           "Bernard King",
           "1984-85"
          ],
          [
           "Tracy McGrady",
           "2002-03"
          ],
          [
           "Kevin Durant",
           "2013-14"
          ],
          [
           "Michael Jordan",
           "1990-91"
          ],
          [
           "Kiki Vandeweghe",
           "1983-84"
          ],
          [
           "Dominique Wilkins",
           "1987-88"
          ],
          [
           "Larry Bird",
           "1987-88"
          ],
          [
           "Karl Malone",
           "1989-90"
          ],
          [
           "Russell Westbrook",
           "2016-17"
          ],
          [
           "Michael Jordan",
           "1991-92"
          ],
          [
           "Kobe Bryant",
           "2006-07"
          ],
          [
           "Larry Bird",
           "1984-85"
          ],
          [
           "LeBron James",
           "2005-06"
          ],
          [
           "Allen Iverson",
           "2001-02"
          ],
          [
           "Michael Jordan",
           "1995-96"
          ],
          [
           "Allen Iverson",
           "2000-01"
          ],
          [
           "Mark Aguirre",
           "1983-84"
          ],
          [
           "Michael Jordan",
           "1996-97"
          ],
          [
           "Alex English",
           "1985-86"
          ],
          [
           "Adrian Dantley",
           "1980-81"
          ],
          [
           "Adrian Dantley",
           "1983-84"
          ],
          [
           "Dominique Wilkins",
           "1992-93"
          ],
          [
           "Bradley Beal",
           "2019-20"
          ],
          [
           "Allen Iverson",
           "2004-05"
          ],
          [
           "Moses Malone",
           "1981-82"
          ],
          [
           "Dominique Wilkins",
           "1985-86"
          ],
          [
           "Stephen Curry",
           "2015-16"
          ],
          [
           "Kobe Bryant",
           "2002-03"
          ],
          [
           "David Robinson",
           "1993-94"
          ],
          [
           "Adrian Dantley",
           "1981-82"
          ],
          [
           "Damian Lillard",
           "2019-20"
          ],
          [
           "Purvis Short",
           "1984-85"
          ],
          [
           "Jerry Stackhouse",
           "2000-01"
          ],
          [
           "James Harden",
           "2017-18"
          ],
          [
           "LeBron James",
           "2007-08"
          ],
          [
           "Dwyane Wade",
           "2008-09"
          ],
          [
           "Kevin Durant",
           "2009-10"
          ],
          [
           "Carmelo Anthony",
           "2012-13"
          ],
          [
           "Larry Bird",
           "1986-87"
          ],
          [
           "LeBron James",
           "2009-10"
          ],
          [
           "Karl Malone",
           "1988-89"
          ],
          [
           "Adrian Dantley",
           "1985-86"
          ],
          [
           "Dominique Wilkins",
           "1986-87"
          ],
          [
           "Gilbert Arenas",
           "2005-06"
          ],
          [
           "Bernard King",
           "1990-91"
          ],
          [
           "Dale Ellis",
           "1988-89"
          ],
          [
           "Dominique Wilkins",
           "1984-85"
          ],
          [
           "Kiki Vandeweghe",
           "1982-83"
          ],
          [
           "Kevin Durant",
           "2015-16"
          ],
          [
           "Shaquille O'Neal",
           "1999-00"
          ],
          [
           "Giannis Antetokounmpo",
           "2019-20"
          ],
          [
           "Karl Malone",
           "1990-91"
          ],
          [
           "Trae Young",
           "2019-20"
          ],
          [
           "Paul George",
           "2018-19"
          ],
          [
           "Alex English",
           "1986-87"
          ],
          [
           "Charles Barkley",
           "1987-88"
          ],
          [
           "Kobe Bryant",
           "2000-01"
          ],
          [
           "Carmelo Anthony",
           "2006-07"
          ],
          [
           "Kevin Durant",
           "2011-12"
          ],
          [
           "Shaquille O'Neal",
           "1993-94"
          ],
          [
           "Shaquille O'Neal",
           "1994-95"
          ],
          [
           "Michael Jordan",
           "1997-98"
          ],
          [
           "Hakeem Olajuwon",
           "1994-95"
          ],
          [
           "Patrick Ewing",
           "1989-90"
          ],
          [
           "George Gervin",
           "1980-81"
          ],
          [
           "Tracy McGrady",
           "2003-04"
          ],
          [
           "Kelly Tripucka",
           "1982-83"
          ],
          [
           "Isaiah Thomas",
           "2016-17"
          ],
          [
           "Michael Jordan",
           "1984-85"
          ],
          [
           "James Harden",
           "2016-17"
          ],
          [
           "LeBron James",
           "2017-18"
          ],
          [
           "Stephen Curry",
           "2018-19"
          ],
          [
           "James Harden",
           "2015-16"
          ],
          [
           "Carmelo Anthony",
           "2013-14"
          ],
          [
           "Mark Aguirre",
           "1984-85"
          ],
          [
           "Allen Iverson",
           "1999-00"
          ],
          [
           "LeBron James",
           "2008-09"
          ],
          [
           "Tom Chambers",
           "1989-90"
          ],
          [
           "Luka Doncic",
           "2019-20"
          ],
          [
           "Alex English",
           "1984-85"
          ],
          [
           "Alex English",
           "1982-83"
          ],
          [
           "Kobe Bryant",
           "2011-12"
          ],
          [
           "Anthony Davis",
           "2017-18"
          ],
          [
           "Vince Carter",
           "2000-01"
          ],
          [
           "Kiki Vandeweghe",
           "1986-87"
          ],
          [
           "Russell Westbrook",
           "2019-20"
          ],
          [
           "Shaquille O'Neal",
           "2000-01"
          ],
          [
           "Kawhi Leonard",
           "2019-20"
          ],
          [
           "George Gervin",
           "1982-83"
          ],
          [
           "Kobe Bryant",
           "2007-08"
          ],
          [
           "Gilbert Arenas",
           "2006-07"
          ],
          [
           "LeBron James",
           "2004-05"
          ],
          [
           "Kevin Durant",
           "2012-13"
          ],
          [
           "Russell Westbrook",
           "2014-15"
          ],
          [
           "Carmelo Anthony",
           "2009-10"
          ],
          [
           "Karl Malone",
           "1991-92"
          ],
          [
           "Damian Lillard",
           "2016-17"
          ],
          [
           "Kobe Bryant",
           "2004-05"
          ],
          [
           "LeBron James",
           "2013-14"
          ],
          [
           "LeBron James",
           "2012-13"
          ],
          [
           "Michael Redd",
           "2006-07"
          ],
          [
           "Charles Barkley",
           "1990-91"
          ],
          [
           "David Robinson",
           "1994-95"
          ],
          [
           "Shaquille O'Neal",
           "1997-98"
          ],
          [
           "Hakeem Olajuwon",
           "1993-94"
          ],
          [
           "Kobe Bryant",
           "2009-10"
          ],
          [
           "Dominique Wilkins",
           "1990-91"
          ],
          [
           "Chris Mullin",
           "1989-90"
          ],
          [
           "Clyde Drexler",
           "1988-89"
          ],
          [
           "Tom Chambers",
           "1988-89"
          ],
          [
           "Moses Malone",
           "1980-81"
          ],
          [
           "Kobe Bryant",
           "2012-13"
          ],
          [
           "Glen Rice",
           "1996-97"
          ],
          [
           "Damian Lillard",
           "2017-18"
          ],
          [
           "Tracy McGrady",
           "2000-01"
          ],
          [
           "Anthony Davis",
           "2016-17"
          ],
          [
           "Dirk Nowitzki",
           "2005-06"
          ],
          [
           "Kevin Durant",
           "2010-11"
          ],
          [
           "Hakeem Olajuwon",
           "1995-96"
          ],
          [
           "Dominique Wilkins",
           "1993-94"
          ],
          [
           "Devin Booker",
           "2019-20"
          ],
          [
           "Damian Lillard",
           "2018-19"
          ],
          [
           "Allen Iverson",
           "2002-03"
          ],
          [
           "Chris Mullin",
           "1990-91"
          ],
          [
           "Kawhi Leonard",
           "2018-19"
          ],
          [
           "Devin Booker",
           "2018-19"
          ],
          [
           "James Harden",
           "2014-15"
          ],
          [
           "Kevin Durant",
           "2018-19"
          ],
          [
           "Dale Ellis",
           "1987-88"
          ],
          [
           "Dominique Wilkins",
           "1989-90"
          ],
          [
           "Tracy McGrady",
           "2004-05"
          ],
          [
           "LeBron James",
           "2011-12"
          ],
          [
           "Clyde Drexler",
           "1987-88"
          ],
          [
           "Giannis Antetokounmpo",
           "2018-19"
          ],
          [
           "Karl Malone",
           "1996-97"
          ],
          [
           "LeBron James",
           "2016-17"
          ],
          [
           "Karl Malone",
           "1987-88"
          ],
          [
           "Paul Pierce",
           "2001-02"
          ],
          [
           "LeBron James",
           "2006-07"
          ],
          [
           "Karl Malone",
           "1997-98"
          ],
          [
           "Kareem Abdul-Jabbar",
           "1980-81"
          ],
          [
           "Karl Malone",
           "1994-95"
          ],
          [
           "Shaquille O'Neal",
           "2002-03"
          ],
          [
           "Bernard King",
           "1983-84"
          ],
          [
           "Larry Bird",
           "1985-86"
          ],
          [
           "Joel Embiid",
           "2018-19"
          ],
          [
           "George Gervin",
           "1983-84"
          ],
          [
           "Chris Mullin",
           "1991-92"
          ],
          [
           "Dwyane Wade",
           "2005-06"
          ],
          [
           "Karl Malone",
           "1992-93"
          ],
          [
           "Hakeem Olajuwon",
           "1992-93"
          ],
          [
           "Chris Mullin",
           "1988-89"
          ],
          [
           "Patrick Ewing",
           "1990-91"
          ],
          [
           "Chris Webber",
           "2000-01"
          ],
          [
           "Charles Barkley",
           "1992-93"
          ],
          [
           "Allen Iverson",
           "1998-99"
          ],
          [
           "Dominique Wilkins",
           "1988-89"
          ],
          [
           "Alex English",
           "1988-89"
          ],
          [
           "DeMar DeRozan",
           "2016-17"
          ],
          [
           "Mark Aguirre",
           "1986-87"
          ],
          [
           "David Thompson",
           "1980-81"
          ],
          [
           "Dirk Nowitzki",
           "2002-03"
          ],
          [
           "Michael Adams",
           "1990-91"
          ],
          [
           "Shaquille O'Neal",
           "2001-02"
          ],
          [
           "Paul Pierce",
           "2005-06"
          ],
          [
           "Reggie Miller",
           "1989-90"
          ],
          [
           "Kobe Bryant",
           "2008-09"
          ],
          [
           "LeBron James",
           "2010-11"
          ],
          [
           "Tracy McGrady",
           "2001-02"
          ],
          [
           "Kevin Love",
           "2013-14"
          ],
          [
           "Giannis Antetokounmpo",
           "2017-18"
          ],
          [
           "DeMarcus Cousins",
           "2015-16"
          ],
          [
           "DeMarcus Cousins",
           "2016-17"
          ],
          [
           "Ray Allen",
           "2006-07"
          ],
          [
           "Derrick Rose",
           "2010-11"
          ],
          [
           "Dale Ellis",
           "1986-87"
          ],
          [
           "Mitch Richmond",
           "1996-97"
          ],
          [
           "Carmelo Anthony",
           "2005-06"
          ],
          [
           "Dwyane Wade",
           "2009-10"
          ],
          [
           "Kawhi Leonard",
           "2016-17"
          ],
          [
           "Vince Carter",
           "2001-02"
          ],
          [
           "LeBron James",
           "2015-16"
          ],
          [
           "Kobe Bryant",
           "2010-11"
          ],
          [
           "Stephen Curry",
           "2016-17"
          ],
          [
           "Alex English",
           "1983-84"
          ],
          [
           "Carmelo Anthony",
           "2007-08"
          ],
          [
           "Kobe Bryant",
           "2001-02"
          ],
          [
           "Amar'e Stoudemire",
           "2010-11"
          ],
          [
           "Kyrie Irving",
           "2016-17"
          ],
          [
           "James Harden",
           "2012-13"
          ],
          [
           "Kevin Love",
           "2011-12"
          ],
          [
           "Grant Hill",
           "1999-00"
          ],
          [
           "Purvis Short",
           "1985-86"
          ],
          [
           "Allen Iverson",
           "2007-08"
          ],
          [
           "Russell Westbrook",
           "2017-18"
          ],
          [
           "Shaquille O'Neal",
           "1995-96"
          ],
          [
           "Carmelo Anthony",
           "2010-11"
          ],
          [
           "Kevin Durant",
           "2017-18"
          ],
          [
           "Joe Johnson",
           "2006-07"
          ],
          [
           "Charles Barkley",
           "1988-89"
          ],
          [
           "Allen Iverson",
           "2006-07"
          ],
          [
           "Adrian Dantley",
           "1984-85"
          ],
          [
           "Bradley Beal",
           "2018-19"
          ],
          [
           "Latrell Sprewell",
           "1996-97"
          ],
          [
           "Dirk Nowitzki",
           "2004-05"
          ],
          [
           "Mark Aguirre",
           "1982-83"
          ],
          [
           "Gilbert Arenas",
           "2004-05"
          ],
          [
           "Shaquille O'Neal",
           "1998-99"
          ],
          [
           "Danny Granger",
           "2008-09"
          ],
          [
           "Karl Malone",
           "1995-96"
          ],
          [
           "LeBron James",
           "2014-15"
          ],
          [
           "Anthony Davis",
           "2019-20"
          ],
          [
           "Paul Pierce",
           "2002-03"
          ],
          [
           "Jamal Mashburn",
           "1994-95"
          ],
          [
           "Dirk Nowitzki",
           "2008-09"
          ],
          [
           "Amar'e Stoudemire",
           "2004-05"
          ],
          [
           "Kemba Walker",
           "2018-19"
          ],
          [
           "Vince Carter",
           "1999-00"
          ],
          [
           "Clyde Drexler",
           "1991-92"
          ],
          [
           "Mark Aguirre",
           "1987-88"
          ],
          [
           "Patrick Ewing",
           "1993-94"
          ],
          [
           "World Free",
           "1982-83"
          ],
          [
           "Zach LaVine",
           "2019-20"
          ],
          [
           "Kiki Vandeweghe",
           "1985-86"
          ],
          [
           "Kyrie Irving",
           "2017-18"
          ],
          [
           "Blake Griffin",
           "2018-19"
          ],
          [
           "Alex English",
           "1981-82"
          ],
          [
           "Kevin McHale",
           "1986-87"
          ],
          [
           "Anthony Davis",
           "2014-15"
          ],
          [
           "Charles Barkley",
           "1989-90"
          ],
          [
           "James Harden",
           "2013-14"
          ],
          [
           "Karl-Anthony Towns",
           "2016-17"
          ],
          [
           "Alex English",
           "1980-81"
          ],
          [
           "Otis Birdsong",
           "1980-81"
          ],
          [
           "David Robinson",
           "1990-91"
          ],
          [
           "Karl Malone",
           "1999-00"
          ],
          [
           "Karl Malone",
           "1993-94"
          ],
          [
           "Dwyane Wade",
           "2010-11"
          ],
          [
           "Kevin Durant",
           "2008-09"
          ],
          [
           "Monta Ellis",
           "2009-10"
          ],
          [
           "Mike Mitchell",
           "1980-81"
          ],
          [
           "Paul Pierce",
           "2000-01"
          ],
          [
           "Russell Westbrook",
           "2011-12"
          ],
          [
           "Tim Duncan",
           "2001-02"
          ],
          [
           "Michael Redd",
           "2005-06"
          ],
          [
           "Tom Chambers",
           "1986-87"
          ],
          [
           "Peja Stojakovic",
           "2003-04"
          ],
          [
           "Patrick Ewing",
           "1994-95"
          ],
          [
           "Dirk Nowitzki",
           "2010-11"
          ],
          [
           "LeBron James",
           "2019-20"
          ],
          [
           "Larry Bird",
           "1989-90"
          ],
          [
           "Stephen Curry",
           "2013-14"
          ],
          [
           "Tracy McGrady",
           "2006-07"
          ],
          [
           "Anthony Davis",
           "2015-16"
          ],
          [
           "Vince Carter",
           "2005-06"
          ],
          [
           "Paul George",
           "2015-16"
          ],
          [
           "Gary Payton",
           "1999-00"
          ],
          [
           "David Robinson",
           "1995-96"
          ],
          [
           "Vince Carter",
           "2006-07"
          ],
          [
           "Dirk Nowitzki",
           "2009-10"
          ],
          [
           "Vince Carter",
           "2004-05"
          ],
          [
           "Reggie Theus",
           "1982-83"
          ],
          [
           "Allen Iverson",
           "1996-97"
          ],
          [
           "Larry Bird",
           "1983-84"
          ],
          [
           "Antawn Jamison",
           "2000-01"
          ],
          [
           "Hakeem Olajuwon",
           "1988-89"
          ],
          [
           "Amar'e Stoudemire",
           "2007-08"
          ],
          [
           "Julius Erving",
           "1980-81"
          ],
          [
           "Donovan Mitchell",
           "2019-20"
          ],
          [
           "Magic Johnson",
           "1986-87"
          ],
          [
           "Ray Allen",
           "2005-06"
          ],
          [
           "Chris Webber",
           "1999-00"
          ],
          [
           "Dan Issel",
           "1981-82"
          ],
          [
           "Joe Dumars",
           "1992-93"
          ],
          [
           "Monta Ellis",
           "2010-11"
          ],
          [
           "Alex English",
           "1987-88"
          ],
          [
           "Andrew Wiggins",
           "2016-17"
          ],
          [
           "Julius Erving",
           "1981-82"
          ],
          [
           "Damian Lillard",
           "2015-16"
          ],
          [
           "Mike Mitchell",
           "1983-84"
          ],
          [
           "Kevin Garnett",
           "2003-04"
          ],
          [
           "Gus Williams",
           "1981-82"
          ],
          [
           "Kevin Durant",
           "2016-17"
          ],
          [
           "Larry Bird",
           "1982-83"
          ],
          [
           "Bradley Beal",
           "2016-17"
          ],
          [
           "Ray Allen",
           "2004-05"
          ],
          [
           "World Free",
           "1985-86"
          ],
          [
           "Jayson Tatum",
           "2019-20"
          ],
          [
           "Magic Johnson",
           "1988-89"
          ],
          [
           "Mitch Richmond",
           "1990-91"
          ],
          [
           "Kyrie Irving",
           "2018-19"
          ],
          [
           "Dirk Nowitzki",
           "2006-07"
          ],
          [
           "Russell Westbrook",
           "2012-13"
          ],
          [
           "Karl-Anthony Towns",
           "2018-19"
          ],
          [
           "Isiah Thomas",
           "1982-83"
          ],
          [
           "Jeff Malone",
           "1989-90"
          ],
          [
           "World Free",
           "1984-85"
          ],
          [
           "World Free",
           "1980-81"
          ],
          [
           "Purvis Short",
           "1983-84"
          ],
          [
           "Charles Barkley",
           "1994-95"
          ],
          [
           "Russell Westbrook",
           "2015-16"
          ],
          [
           "Elton Brand",
           "2005-06"
          ],
          [
           "Clyde Drexler",
           "1989-90"
          ],
          [
           "Kobe Bryant",
           "2003-04"
          ],
          [
           "John Wall",
           "2016-17"
          ],
          [
           "Magic Johnson",
           "1989-90"
          ],
          [
           "Paul George",
           "2016-17"
          ],
          [
           "Hakeem Olajuwon",
           "1989-90"
          ],
          [
           "Kemba Walker",
           "2016-17"
          ],
          [
           "Tim Hardaway",
           "1991-92"
          ],
          [
           "Walter Davis",
           "1986-87"
          ],
          [
           "LaMarcus Aldridge",
           "2014-15"
          ],
          [
           "Kevin Martin",
           "2010-11"
          ],
          [
           "Danny Granger",
           "2009-10"
          ],
          [
           "Blake Griffin",
           "2013-14"
          ],
          [
           "Darrell Griffith",
           "1984-85"
          ],
          [
           "Reggie Miller",
           "1990-91"
          ],
          [
           "Donovan Mitchell",
           "2018-19"
          ],
          [
           "Carmelo Anthony",
           "2011-12"
          ],
          [
           "Dwyane Wade",
           "2004-05"
          ],
          [
           "Hakeem Olajuwon",
           "1986-87"
          ],
          [
           "Moses Malone",
           "1984-85"
          ],
          [
           "Chris Bosh",
           "2009-10"
          ],
          [
           "Kevin Garnett",
           "1999-00"
          ],
          [
           "Stephen Curry",
           "2014-15"
          ],
          [
           "Calvin Natt",
           "1984-85"
          ],
          [
           "Mitch Richmond",
           "1994-95"
          ],
          [
           "D'Angelo Russell",
           "2019-20"
          ],
          [
           "Eddie Johnson",
           "1984-85"
          ],
          [
           "Terry Cummings",
           "1988-89"
          ],
          [
           "Jason Richardson",
           "2005-06"
          ],
          [
           "Mitch Richmond",
           "1991-92"
          ],
          [
           "DeMar DeRozan",
           "2017-18"
          ],
          [
           "Patrick Ewing",
           "1992-93"
          ],
          [
           "Moses Malone",
           "1982-83"
          ],
          [
           "Orlando Woolridge",
           "1984-85"
          ],
          [
           "Kevin Martin",
           "2007-08"
          ],
          [
           "David Robinson",
           "1989-90"
          ],
          [
           "LaMarcus Aldridge",
           "2013-14"
          ],
          [
           "Patrick Ewing",
           "1991-92"
          ],
          [
           "DeMarcus Cousins",
           "2014-15"
          ],
          [
           "Drazen Petrovic",
           "1992-93"
          ],
          [
           "Tim Duncan",
           "2002-03"
          ],
          [
           "Kiki Vandeweghe",
           "1984-85"
          ],
          [
           "CJ McCollum",
           "2016-17"
          ],
          [
           "Darrell Griffith",
           "1982-83"
          ],
          [
           "Joe Barry Carroll",
           "1982-83"
          ],
          [
           "Stephen Curry",
           "2012-13"
          ],
          [
           "Kareem Abdul-Jabbar",
           "1981-82"
          ],
          [
           "Blake Griffin",
           "2014-15"
          ],
          [
           "Tim Hardaway",
           "1990-91"
          ],
          [
           "Mitch Richmond",
           "1993-94"
          ],
          [
           "Charles Barkley",
           "1995-96"
          ],
          [
           "Moses Malone",
           "1986-87"
          ],
          [
           "World Free",
           "1981-82"
          ],
          [
           "Charles Barkley",
           "1986-87"
          ],
          [
           "Victor Oladipo",
           "2017-18"
          ],
          [
           "Isaiah Thomas",
           "2015-16"
          ],
          [
           "Zach Randolph",
           "2006-07"
          ],
          [
           "Stephon Marbury",
           "2000-01"
          ],
          [
           "Hakeem Olajuwon",
           "1996-97"
          ],
          [
           "Michael Redd",
           "2004-05"
          ],
          [
           "Karl Malone",
           "2000-01"
          ],
          [
           "Terry Cummings",
           "1989-90"
          ],
          [
           "Brandon Ingram",
           "2019-20"
          ],
          [
           "Hakeem Olajuwon",
           "1985-86"
          ],
          [
           "Bradley Beal",
           "2017-18"
          ],
          [
           "Kelly Tripucka",
           "1988-89"
          ],
          [
           "Antoine Walker",
           "2000-01"
          ],
          [
           "Dirk Nowitzki",
           "2001-02"
          ],
          [
           "Amar'e Stoudemire",
           "2009-10"
          ],
          [
           "Larry Bird",
           "1981-82"
          ],
          [
           "Jimmy Butler",
           "2016-17"
          ],
          [
           "Mitch Richmond",
           "1995-96"
          ],
          [
           "Jerry Stackhouse",
           "1999-00"
          ],
          [
           "Joel Embiid",
           "2017-18"
          ],
          [
           "World Free",
           "1983-84"
          ],
          [
           "Terry Cummings",
           "1982-83"
          ],
          [
           "Paul Pierce",
           "2003-04"
          ],
          [
           "Tom Chambers",
           "1984-85"
          ],
          [
           "Chris Webber",
           "2002-03"
          ],
          [
           "LaMarcus Aldridge",
           "2017-18"
          ],
          [
           "Sidney Moncrief",
           "1984-85"
          ],
          [
           "Dirk Nowitzki",
           "2007-08"
          ],
          [
           "Gary Payton",
           "2000-01"
          ],
          [
           "DeMar DeRozan",
           "2019-20"
          ],
          [
           "Charles Barkley",
           "1991-92"
          ],
          [
           "Kevin Johnson",
           "1989-90"
          ],
          [
           "Kareem Abdul-Jabbar",
           "1985-86"
          ],
          [
           "Stephon Marbury",
           "1999-00"
          ],
          [
           "Karl Malone",
           "1998-99"
          ],
          [
           "Tony Campbell",
           "1989-90"
          ],
          [
           "Alonzo Mourning",
           "1995-96"
          ],
          [
           "Dwyane Wade",
           "2014-15"
          ],
          [
           "Glen Rice",
           "1994-95"
          ],
          [
           "Zach LaVine",
           "2018-19"
          ],
          [
           "Terry Cummings",
           "1984-85"
          ],
          [
           "DeMar DeRozan",
           "2015-16"
          ],
          [
           "CJ McCollum",
           "2019-20"
          ],
          [
           "Xavier McDaniel",
           "1986-87"
          ],
          [
           "David Robinson",
           "1992-93"
          ],
          [
           "Pascal Siakam",
           "2019-20"
          ],
          [
           "Moses Malone",
           "1985-86"
          ],
          [
           "Giannis Antetokounmpo",
           "2016-17"
          ],
          [
           "Bernard King",
           "1981-82"
          ],
          [
           "Patrick Ewing",
           "1996-97"
          ],
          [
           "Tim Duncan",
           "1999-00"
          ],
          [
           "Allan Houston",
           "2002-03"
          ],
          [
           "Charles Barkley",
           "1993-94"
          ],
          [
           "Mark Aguirre",
           "1985-86"
          ],
          [
           "Shareef Abdur-Rahim",
           "1997-98"
          ],
          [
           "David Robinson",
           "1991-92"
          ],
          [
           "Julius Erving",
           "1983-84"
          ],
          [
           "Ron Harper",
           "1986-87"
          ],
          [
           "Carmelo Anthony",
           "2016-17"
          ],
          [
           "Shareef Abdur-Rahim",
           "1998-99"
          ],
          [
           "Keith Van Horn",
           "1998-99"
          ],
          [
           "Michael Finley",
           "1999-00"
          ],
          [
           "Eddie Johnson",
           "1983-84"
          ],
          [
           "Glen Rice",
           "1991-92"
          ],
          [
           "Mitch Richmond",
           "1997-98"
          ],
          [
           "Kyle Lowry",
           "2015-16"
          ],
          [
           "Danny Manning",
           "1992-93"
          ],
          [
           "Vince Carter",
           "2003-04"
          ],
          [
           "Chris Bosh",
           "2008-09"
          ],
          [
           "Mitch Richmond",
           "1989-90"
          ],
          [
           "Kevin Garnett",
           "2002-03"
          ],
          [
           "Scottie Pippen",
           "1993-94"
          ],
          [
           "DeMar DeRozan",
           "2013-14"
          ],
          [
           "Mike Mitchell",
           "1985-86"
          ],
          [
           "Sidney Moncrief",
           "1982-83"
          ],
          [
           "Anfernee Hardaway",
           "1995-96"
          ],
          [
           "Jimmy Butler",
           "2017-18"
          ],
          [
           "Larry Johnson",
           "1992-93"
          ],
          [
           "Mitch Richmond",
           "1988-89"
          ],
          [
           "Kevin Johnson",
           "1990-91"
          ],
          [
           "Klay Thompson",
           "2016-17"
          ],
          [
           "Bernard King",
           "1980-81"
          ],
          [
           "Dwyane Wade",
           "2012-13"
          ],
          [
           "Klay Thompson",
           "2015-16"
          ],
          [
           "Shaquille O'Neal",
           "1992-93"
          ],
          [
           "Karl Malone",
           "2001-02"
          ],
          [
           "Baron Davis",
           "2003-04"
          ],
          [
           "Chris Paul",
           "2008-09"
          ],
          [
           "Kelly Tripucka",
           "1981-82"
          ],
          [
           "Ray Allen",
           "2002-03"
          ],
          [
           "Dirk Nowitzki",
           "2013-14"
          ],
          [
           "Richard Jefferson",
           "2007-08"
          ],
          [
           "Clifford Robinson",
           "1994-95"
          ],
          [
           "Kyrie Irving",
           "2014-15"
          ],
          [
           "Chris Bosh",
           "2006-07"
          ],
          [
           "Baron Davis",
           "2007-08"
          ],
          [
           "Jalen Rose",
           "2002-03"
          ],
          [
           "Isiah Thomas",
           "1983-84"
          ],
          [
           "Kelly Tripucka",
           "1983-84"
          ],
          [
           "Tony Parker",
           "2008-09"
          ],
          [
           "Juwan Howard",
           "1995-96"
          ],
          [
           "Danny Granger",
           "2010-11"
          ],
          [
           "Ray Allen",
           "2000-01"
          ],
          [
           "Glenn Robinson",
           "2000-01"
          ],
          [
           "Gary Payton",
           "2001-02"
          ],
          [
           "Rolando Blackman",
           "1983-84"
          ],
          [
           "Kemba Walker",
           "2017-18"
          ],
          [
           "Tim Hardaway",
           "1992-93"
          ],
          [
           "Blake Griffin",
           "2010-11"
          ],
          [
           "Russell Westbrook",
           "2010-11"
          ],
          [
           "Mike Newlin",
           "1980-81"
          ],
          [
           "Antoine Walker",
           "1997-98"
          ],
          [
           "Jeff Malone",
           "1985-86"
          ],
          [
           "Clyde Drexler",
           "1994-95"
          ],
          [
           "Carmelo Anthony",
           "2008-09"
          ],
          [
           "Chris Bosh",
           "2007-08"
          ],
          [
           "Hersey Hawkins",
           "1990-91"
          ],
          [
           "Michael Finley",
           "1997-98"
          ],
          [
           "Russell Westbrook",
           "2018-19"
          ],
          [
           "Jerry Stackhouse",
           "2002-03"
          ],
          [
           "Byron Scott",
           "1987-88"
          ],
          [
           "CJ McCollum",
           "2017-18"
          ],
          [
           "Paul George",
           "2017-18"
          ],
          [
           "Antawn Jamison",
           "2002-03"
          ],
          [
           "Joe Johnson",
           "2007-08"
          ],
          [
           "Antawn Jamison",
           "2008-09"
          ],
          [
           "Julius Randle",
           "2018-19"
          ],
          [
           "DeMarcus Cousins",
           "2013-14"
          ],
          [
           "Michael Redd",
           "2007-08"
          ],
          [
           "Tim Duncan",
           "1998-99"
          ],
          [
           "Stephon Marbury",
           "2002-03"
          ],
          [
           "Jerry Stackhouse",
           "2001-02"
          ],
          [
           "Luka Doncic",
           "2018-19"
          ],
          [
           "Mike Mitchell",
           "1984-85"
          ]
         ],
         "type": "scatter",
         "x": [
          37.9,
          36.2,
          36,
          35.7,
          35.5,
          34.8,
          34.4,
          34,
          33.6,
          33.3,
          33.2,
          33,
          32.8,
          32.8,
          32.2,
          32.2,
          32.2,
          32.2,
          32,
          31.9,
          31.9,
          31.9,
          31.8,
          31.8,
          31.7,
          31.6,
          31.5,
          31.5,
          31.4,
          31.4,
          31.3,
          31.3,
          31.1,
          31.1,
          31.1,
          31,
          31,
          30.8,
          30.7,
          30.7,
          30.7,
          30.6,
          30.6,
          30.4,
          30.4,
          30.4,
          30.3,
          30.2,
          30.1,
          30,
          30,
          30,
          30,
          29.9,
          29.9,
          29.9,
          29.9,
          29.8,
          29.8,
          29.7,
          29.6,
          29.6,
          29.6,
          29.5,
          29.5,
          29.4,
          29.3,
          29.3,
          29.3,
          29.3,
          29.3,
          29.2,
          29.2,
          29.2,
          29.2,
          29.2,
          29.1,
          29.1,
          29.1,
          29.1,
          29.1,
          29.1,
          29,
          29,
          29,
          28.9,
          28.9,
          28.9,
          28.9,
          28.9,
          28.9,
          28.9,
          28.8,
          28.8,
          28.8,
          28.8,
          28.7,
          28.7,
          28.6,
          28.6,
          28.5,
          28.5,
          28.5,
          28.4,
          28.4,
          28.4,
          28.4,
          28.4,
          28.3,
          28.3,
          28.3,
          28.3,
          28.3,
          28.3,
          28.2,
          28.2,
          28.2,
          28.2,
          28.1,
          28.1,
          28.1,
          28.1,
          28.1,
          28.1,
          28.1,
          28,
          28,
          28,
          28,
          28,
          28,
          28,
          27.9,
          27.9,
          27.9,
          27.9,
          27.9,
          27.9,
          27.9,
          27.9,
          27.8,
          27.8,
          27.7,
          27.7,
          27.7,
          27.6,
          27.6,
          27.6,
          27.6,
          27.6,
          27.5,
          27.5,
          27.5,
          27.5,
          27.5,
          27.5,
          27.4,
          27.4,
          27.4,
          27.4,
          27.4,
          27.4,
          27.3,
          27.3,
          27.3,
          27.3,
          27.3,
          27.3,
          27.3,
          27.2,
          27.2,
          27.2,
          27.1,
          27.1,
          27.1,
          27.1,
          27.1,
          27.1,
          27.1,
          27.1,
          27,
          27,
          27,
          27,
          27,
          26.9,
          26.9,
          26.8,
          26.8,
          26.8,
          26.8,
          26.8,
          26.8,
          26.8,
          26.8,
          26.7,
          26.7,
          26.7,
          26.7,
          26.7,
          26.7,
          26.7,
          26.7,
          26.7,
          26.6,
          26.6,
          26.6,
          26.6,
          26.6,
          26.6,
          26.6,
          26.5,
          26.5,
          26.5,
          26.5,
          26.5,
          26.4,
          26.4,
          26.4,
          26.4,
          26.4,
          26.3,
          26.2,
          26.2,
          26.2,
          26.2,
          26.2,
          26.2,
          26.2,
          26.2,
          26.2,
          26.2,
          26.1,
          26.1,
          26,
          26,
          26,
          26,
          26,
          26,
          25.9,
          25.9,
          25.9,
          25.9,
          25.9,
          25.9,
          25.8,
          25.8,
          25.8,
          25.8,
          25.8,
          25.8,
          25.8,
          25.7,
          25.7,
          25.7,
          25.7,
          25.7,
          25.6,
          25.6,
          25.6,
          25.6,
          25.5,
          25.5,
          25.5,
          25.5,
          25.5,
          25.5,
          25.5,
          25.4,
          25.4,
          25.4,
          25.4,
          25.4,
          25.4,
          25.4,
          25.3,
          25.3,
          25.3,
          25.3,
          25.3,
          25.3,
          25.3,
          25.2,
          25.2,
          25.1,
          25.1,
          25.1,
          25.1,
          25,
          25,
          25,
          25,
          25,
          25,
          25,
          25,
          25,
          24.9,
          24.9,
          24.9,
          24.9,
          24.9,
          24.8,
          24.8,
          24.8,
          24.8,
          24.8,
          24.8,
          24.8,
          24.8,
          24.8,
          24.8,
          24.8,
          24.7,
          24.7,
          24.7,
          24.7,
          24.7,
          24.7,
          24.6,
          24.6,
          24.6,
          24.6,
          24.6,
          24.6,
          24.6,
          24.6,
          24.6,
          24.6,
          24.6,
          24.6,
          24.6,
          24.5,
          24.5,
          24.5,
          24.5,
          24.5,
          24.5,
          24.4,
          24.4,
          24.4,
          24.4,
          24.4,
          24.4,
          24.4,
          24.4,
          24.4,
          24.3,
          24.3,
          24.3,
          24.3,
          24.3,
          24.3,
          24.3,
          24.3,
          24.3,
          24.2,
          24.2,
          24.2,
          24.2,
          24.2,
          24.2,
          24.2,
          24.2,
          24.2,
          24.2,
          24.2,
          24.2,
          24.2,
          24.1,
          24.1,
          24.1,
          24.1,
          24.1,
          24,
          24,
          24,
          24,
          24,
          24,
          24,
          24,
          24,
          24,
          24,
          23.9,
          23.9,
          23.9,
          23.9,
          23.9,
          23.9,
          23.9,
          23.9,
          23.9,
          23.9,
          23.8,
          23.8,
          23.8,
          23.8,
          23.8,
          23.8,
          23.8,
          23.8,
          23.8,
          23.8,
          23.8,
          23.8,
          23.7,
          23.7,
          23.7,
          23.7,
          23.7,
          23.7,
          23.7,
          23.7,
          23.7,
          23.7,
          23.7,
          23.7,
          23.7,
          23.7,
          23.7,
          23.7,
          23.6,
          23.6,
          23.6,
          23.6,
          23.6,
          23.6,
          23.6,
          23.5,
          23.5,
          23.5,
          23.5,
          23.5,
          23.5,
          23.5,
          23.5,
          23.5,
          23.4,
          23.4,
          23.4,
          23.4,
          23.4,
          23.4,
          23.4,
          23.4,
          23.4,
          23.4,
          23.4,
          23.4,
          23.4,
          23.3,
          23.3,
          23.3,
          23.3,
          23.3,
          23.2,
          23.2,
          23.2,
          23.2,
          23.2,
          23.2,
          23.2,
          23.2,
          23.2,
          23.2,
          23.2,
          23.2,
          23.1,
          23.1,
          23.1,
          23.1,
          23.1,
          23.1,
          23.1,
          23.1,
          23.1,
          23.1,
          23.1,
          23.1,
          23.1,
          23.1,
          23.1,
          23.1,
          23.1,
          23,
          23,
          23,
          23,
          23,
          23,
          23,
          23,
          23,
          23,
          23,
          23,
          23
         ],
         "y": [
          31.9,
          33.1,
          27.8,
          34.6,
          35,
          31.6,
          32.6,
          24.8,
          37,
          26.1,
          26.8,
          28.8,
          31.8,
          32.7,
          26.4,
          24.3,
          34,
          31.9,
          33.8,
          31.1,
          27.6,
          34.4,
          29.4,
          21.9,
          28.9,
          22.3,
          25,
          27,
          24.4,
          28.2,
          28,
          25.2,
          25.4,
          24.9,
          33.1,
          25.5,
          30.7,
          28,
          34,
          27.8,
          28.9,
          21.1,
          20.4,
          30.1,
          30.3,
          29.3,
          28,
          23.2,
          34.3,
          32.4,
          29.5,
          25.8,
          24.2,
          24.2,
          21,
          21.1,
          22,
          24.2,
          29.8,
          33.8,
          34.6,
          31.4,
          26.6,
          27.4,
          23.9,
          32.5,
          25.3,
          23.3,
          27.3,
          33.5,
          30.7,
          23.8,
          31.9,
          32.3,
          22.1,
          23.7,
          22,
          24.7,
          29.2,
          32.4,
          32.7,
          26.1,
          27.8,
          25.2,
          21.2,
          18.9,
          30.9,
          24.5,
          30.8,
          24.8,
          28.3,
          21.4,
          33,
          23.9,
          21.8,
          26.2,
          31,
          27.5,
          21.6,
          26.6,
          24.2,
          28.2,
          30.4,
          27.7,
          23.3,
          29.9,
          24.5,
          24.3,
          29.3,
          32.2,
          20.1,
          30.8,
          32.4,
          28.9,
          32.8,
          22.9,
          26.1,
          25.8,
          28.9,
          24.1,
          31.7,
          24.6,
          20.9,
          25,
          25.2,
          31.1,
          27.4,
          24.9,
          30.2,
          21,
          24.6,
          25,
          20.9,
          26,
          26.9,
          23,
          27.2,
          27.9,
          20.5,
          23.6,
          23.7,
          29.9,
          27.9,
          35.3,
          30.2,
          31,
          27.6,
          23.9,
          25.6,
          29.3,
          31,
          29.6,
          29.9,
          22.9,
          31.3,
          32.2,
          20.1,
          24.9,
          26.9,
          31.1,
          34.7,
          26,
          29.5,
          28.6,
          31.8,
          19.9,
          22.8,
          21.4,
          22.7,
          21.3,
          19.5,
          27.7,
          25.6,
          28.5,
          24.4,
          22.2,
          24.2,
          28.6,
          25.5,
          30.2,
          30.7,
          26.7,
          28.5,
          21.6,
          23.1,
          21.8,
          21.3,
          21.2,
          25.1,
          25.3,
          20.2,
          27.5,
          21.4,
          25.2,
          25.7,
          23.5,
          23.5,
          24.6,
          22.4,
          24,
          28.3,
          24.8,
          21.8,
          23.5,
          29.5,
          27.3,
          22.7,
          28.6,
          19.8,
          32.7,
          21.2,
          23.7,
          24.2,
          22.2,
          28.1,
          20.8,
          22,
          26.9,
          22.3,
          28.3,
          25.3,
          29.8,
          22.9,
          17.1,
          25.1,
          26.8,
          22.5,
          23.2,
          26.3,
          21.1,
          27.3,
          16.6,
          21,
          19.8,
          22.7,
          23.7,
          27.4,
          30.9,
          30.3,
          31.7,
          24.3,
          30.3,
          24.4,
          20.3,
          33.6,
          27.1,
          28.6,
          24.8,
          22.7,
          20,
          19.2,
          21.7,
          20.5,
          31.2,
          20.3,
          20.5,
          23,
          26.3,
          23.5,
          29.6,
          29.3,
          25,
          21.3,
          26.7,
          21,
          21.8,
          26.3,
          32,
          22.7,
          25.2,
          21.6,
          20.1,
          19.3,
          30,
          20.8,
          31,
          28.4,
          27.4,
          19.8,
          31.8,
          21.2,
          27.9,
          23.4,
          17.9,
          20.3,
          21.7,
          16.9,
          26.7,
          21.8,
          20.3,
          33.1,
          21.8,
          30.2,
          30,
          19.3,
          19.4,
          17.8,
          22.3,
          33.3,
          21.7,
          25.3,
          26.9,
          22.6,
          30.4,
          21.7,
          18,
          17.7,
          18.8,
          18.8,
          27.7,
          28.5,
          28.5,
          25.5,
          22.7,
          25,
          30.5,
          22.4,
          32.4,
          20.9,
          24.3,
          19.8,
          23.8,
          18.2,
          20.7,
          26,
          16.9,
          22.1,
          18.7,
          19.5,
          23.2,
          29,
          27.3,
          26.7,
          28.8,
          25.9,
          24.3,
          18.6,
          19.8,
          19.4,
          21.5,
          19.3,
          19.5,
          20.5,
          26.3,
          30.1,
          20.7,
          19.8,
          30.6,
          24.9,
          28.1,
          27.6,
          18.7,
          29.9,
          18.2,
          19.7,
          17.2,
          23.6,
          22.4,
          27.2,
          23.7,
          25.3,
          18.6,
          27.9,
          24.9,
          17.4,
          33.5,
          22.5,
          19.4,
          22.4,
          20.7,
          25.3,
          17.2,
          24.7,
          21.9,
          22.3,
          28.4,
          19.9,
          17.6,
          22.6,
          26.3,
          23.5,
          29.2,
          25.6,
          18.5,
          18,
          25.3,
          15.6,
          26,
          20.5,
          20.1,
          25,
          24.3,
          22.4,
          25.4,
          23.1,
          23.9,
          28.1,
          26.3,
          24.2,
          20.4,
          25.5,
          18,
          25.3,
          17.3,
          19.3,
          20.2,
          24.1,
          20,
          19.2,
          22.4,
          29.8,
          21.9,
          23.7,
          28.4,
          21.6,
          24.4,
          27.8,
          16.3,
          26.1,
          20.1,
          20.7,
          32.6,
          24.1,
          18.9,
          19,
          21.2,
          19.8,
          22.1,
          19.1,
          19.1,
          18.7,
          21.8,
          21.9,
          18.4,
          24.9,
          19.4,
          32.1,
          25.9,
          18.6,
          17.6,
          22.8,
          24,
          23.6,
          25.9,
          19.4,
          26.2,
          18,
          22.3,
          21.9,
          18.1,
          28.9,
          23.4,
          19.8,
          30.5,
          18.8,
          20.4,
          22.2,
          18.3,
          18.5,
          19.9,
          25.3,
          22.2,
          16.6,
          24.4,
          16.4,
          20.6,
          21.5,
          17.7,
          22.2,
          20.4,
          24.2,
          21.2,
          19.6,
          23.5,
          25.6,
          22.4,
          17.2,
          20.8,
          16.9,
          23,
          19.8,
          24.2,
          20.6,
          19.9,
          29,
          17.3,
          21.7,
          17.4,
          20.2,
          19.8,
          19.3,
          22.1,
          22.8,
          25.9,
          18.1,
          25.3,
          20.2,
          17.3,
          21.6,
          18
         ]
        }
       ],
       "layout": {
        "template": {
         "data": {
          "bar": [
           {
            "error_x": {
             "color": "#f2f5fa"
            },
            "error_y": {
             "color": "#f2f5fa"
            },
            "marker": {
             "line": {
              "color": "rgb(17,17,17)",
              "width": 0.5
             }
            },
            "type": "bar"
           }
          ],
          "barpolar": [
           {
            "marker": {
             "line": {
              "color": "rgb(17,17,17)",
              "width": 0.5
             }
            },
            "type": "barpolar"
           }
          ],
          "carpet": [
           {
            "aaxis": {
             "endlinecolor": "#A2B1C6",
             "gridcolor": "#506784",
             "linecolor": "#506784",
             "minorgridcolor": "#506784",
             "startlinecolor": "#A2B1C6"
            },
            "baxis": {
             "endlinecolor": "#A2B1C6",
             "gridcolor": "#506784",
             "linecolor": "#506784",
             "minorgridcolor": "#506784",
             "startlinecolor": "#A2B1C6"
            },
            "type": "carpet"
           }
          ],
          "choropleth": [
           {
            "colorbar": {
             "outlinewidth": 0,
             "ticks": ""
            },
            "type": "choropleth"
           }
          ],
          "contour": [
           {
            "colorbar": {
             "outlinewidth": 0,
             "ticks": ""
            },
            "colorscale": [
             [
              0,
              "#0d0887"
             ],
             [
              0.1111111111111111,
              "#46039f"
             ],
             [
              0.2222222222222222,
              "#7201a8"
             ],
             [
              0.3333333333333333,
              "#9c179e"
             ],
             [
              0.4444444444444444,
              "#bd3786"
             ],
             [
              0.5555555555555556,
              "#d8576b"
             ],
             [
              0.6666666666666666,
              "#ed7953"
             ],
             [
              0.7777777777777778,
              "#fb9f3a"
             ],
             [
              0.8888888888888888,
              "#fdca26"
             ],
             [
              1,
              "#f0f921"
             ]
            ],
            "type": "contour"
           }
          ],
          "contourcarpet": [
           {
            "colorbar": {
             "outlinewidth": 0,
             "ticks": ""
            },
            "type": "contourcarpet"
           }
          ],
          "heatmap": [
           {
            "colorbar": {
             "outlinewidth": 0,
             "ticks": ""
            },
            "colorscale": [
             [
              0,
              "#0d0887"
             ],
             [
              0.1111111111111111,
              "#46039f"
             ],
             [
              0.2222222222222222,
              "#7201a8"
             ],
             [
              0.3333333333333333,
              "#9c179e"
             ],
             [
              0.4444444444444444,
              "#bd3786"
             ],
             [
              0.5555555555555556,
              "#d8576b"
             ],
             [
              0.6666666666666666,
              "#ed7953"
             ],
             [
              0.7777777777777778,
              "#fb9f3a"
             ],
             [
              0.8888888888888888,
              "#fdca26"
             ],
             [
              1,
              "#f0f921"
             ]
            ],
            "type": "heatmap"
           }
          ],
          "heatmapgl": [
           {
            "colorbar": {
             "outlinewidth": 0,
             "ticks": ""
            },
            "colorscale": [
             [
              0,
              "#0d0887"
             ],
             [
              0.1111111111111111,
              "#46039f"
             ],
             [
              0.2222222222222222,
              "#7201a8"
             ],
             [
              0.3333333333333333,
              "#9c179e"
             ],
             [
              0.4444444444444444,
              "#bd3786"
             ],
             [
              0.5555555555555556,
              "#d8576b"
             ],
             [
              0.6666666666666666,
              "#ed7953"
             ],
             [
              0.7777777777777778,
              "#fb9f3a"
             ],
             [
              0.8888888888888888,
              "#fdca26"
             ],
             [
              1,
              "#f0f921"
             ]
            ],
            "type": "heatmapgl"
           }
          ],
          "histogram": [
           {
            "marker": {
             "colorbar": {
              "outlinewidth": 0,
              "ticks": ""
             }
            },
            "type": "histogram"
           }
          ],
          "histogram2d": [
           {
            "colorbar": {
             "outlinewidth": 0,
             "ticks": ""
            },
            "colorscale": [
             [
              0,
              "#0d0887"
             ],
             [
              0.1111111111111111,
              "#46039f"
             ],
             [
              0.2222222222222222,
              "#7201a8"
             ],
             [
              0.3333333333333333,
              "#9c179e"
             ],
             [
              0.4444444444444444,
              "#bd3786"
             ],
             [
              0.5555555555555556,
              "#d8576b"
             ],
             [
              0.6666666666666666,
              "#ed7953"
             ],
             [
              0.7777777777777778,
              "#fb9f3a"
             ],
             [
              0.8888888888888888,
              "#fdca26"
             ],
             [
              1,
              "#f0f921"
             ]
            ],
            "type": "histogram2d"
           }
          ],
          "histogram2dcontour": [
           {
            "colorbar": {
             "outlinewidth": 0,
             "ticks": ""
            },
            "colorscale": [
             [
              0,
              "#0d0887"
             ],
             [
              0.1111111111111111,
              "#46039f"
             ],
             [
              0.2222222222222222,
              "#7201a8"
             ],
             [
              0.3333333333333333,
              "#9c179e"
             ],
             [
              0.4444444444444444,
              "#bd3786"
             ],
             [
              0.5555555555555556,
              "#d8576b"
             ],
             [
              0.6666666666666666,
              "#ed7953"
             ],
             [
              0.7777777777777778,
              "#fb9f3a"
             ],
             [
              0.8888888888888888,
              "#fdca26"
             ],
             [
              1,
              "#f0f921"
             ]
            ],
            "type": "histogram2dcontour"
           }
          ],
          "mesh3d": [
           {
            "colorbar": {
             "outlinewidth": 0,
             "ticks": ""
            },
            "type": "mesh3d"
           }
          ],
          "parcoords": [
           {
            "line": {
             "colorbar": {
              "outlinewidth": 0,
              "ticks": ""
             }
            },
            "type": "parcoords"
           }
          ],
          "pie": [
           {
            "automargin": true,
            "type": "pie"
           }
          ],
          "scatter": [
           {
            "marker": {
             "line": {
              "color": "#283442"
             }
            },
            "type": "scatter"
           }
          ],
          "scatter3d": [
           {
            "line": {
             "colorbar": {
              "outlinewidth": 0,
              "ticks": ""
             }
            },
            "marker": {
             "colorbar": {
              "outlinewidth": 0,
              "ticks": ""
             }
            },
            "type": "scatter3d"
           }
          ],
          "scattercarpet": [
           {
            "marker": {
             "colorbar": {
              "outlinewidth": 0,
              "ticks": ""
             }
            },
            "type": "scattercarpet"
           }
          ],
          "scattergeo": [
           {
            "marker": {
             "colorbar": {
              "outlinewidth": 0,
              "ticks": ""
             }
            },
            "type": "scattergeo"
           }
          ],
          "scattergl": [
           {
            "marker": {
             "line": {
              "color": "#283442"
             }
            },
            "type": "scattergl"
           }
          ],
          "scattermapbox": [
           {
            "marker": {
             "colorbar": {
              "outlinewidth": 0,
              "ticks": ""
             }
            },
            "type": "scattermapbox"
           }
          ],
          "scatterpolar": [
           {
            "marker": {
             "colorbar": {
              "outlinewidth": 0,
              "ticks": ""
             }
            },
            "type": "scatterpolar"
           }
          ],
          "scatterpolargl": [
           {
            "marker": {
             "colorbar": {
              "outlinewidth": 0,
              "ticks": ""
             }
            },
            "type": "scatterpolargl"
           }
          ],
          "scatterternary": [
           {
            "marker": {
             "colorbar": {
              "outlinewidth": 0,
              "ticks": ""
             }
            },
            "type": "scatterternary"
           }
          ],
          "surface": [
           {
            "colorbar": {
             "outlinewidth": 0,
             "ticks": ""
            },
            "colorscale": [
             [
              0,
              "#0d0887"
             ],
             [
              0.1111111111111111,
              "#46039f"
             ],
             [
              0.2222222222222222,
              "#7201a8"
             ],
             [
              0.3333333333333333,
              "#9c179e"
             ],
             [
              0.4444444444444444,
              "#bd3786"
             ],
             [
              0.5555555555555556,
              "#d8576b"
             ],
             [
              0.6666666666666666,
              "#ed7953"
             ],
             [
              0.7777777777777778,
              "#fb9f3a"
             ],
             [
              0.8888888888888888,
              "#fdca26"
             ],
             [
              1,
              "#f0f921"
             ]
            ],
            "type": "surface"
           }
          ],
          "table": [
           {
            "cells": {
             "fill": {
              "color": "#506784"
             },
             "line": {
              "color": "rgb(17,17,17)"
             }
            },
            "header": {
             "fill": {
              "color": "#2a3f5f"
             },
             "line": {
              "color": "rgb(17,17,17)"
             }
            },
            "type": "table"
           }
          ]
         },
         "layout": {
          "annotationdefaults": {
           "arrowcolor": "#f2f5fa",
           "arrowhead": 0,
           "arrowwidth": 1
          },
          "autotypenumbers": "strict",
          "coloraxis": {
           "colorbar": {
            "outlinewidth": 0,
            "ticks": ""
           }
          },
          "colorscale": {
           "diverging": [
            [
             0,
             "#8e0152"
            ],
            [
             0.1,
             "#c51b7d"
            ],
            [
             0.2,
             "#de77ae"
            ],
            [
             0.3,
             "#f1b6da"
            ],
            [
             0.4,
             "#fde0ef"
            ],
            [
             0.5,
             "#f7f7f7"
            ],
            [
             0.6,
             "#e6f5d0"
            ],
            [
             0.7,
             "#b8e186"
            ],
            [
             0.8,
             "#7fbc41"
            ],
            [
             0.9,
             "#4d9221"
            ],
            [
             1,
             "#276419"
            ]
           ],
           "sequential": [
            [
             0,
             "#0d0887"
            ],
            [
             0.1111111111111111,
             "#46039f"
            ],
            [
             0.2222222222222222,
             "#7201a8"
            ],
            [
             0.3333333333333333,
             "#9c179e"
            ],
            [
             0.4444444444444444,
             "#bd3786"
            ],
            [
             0.5555555555555556,
             "#d8576b"
            ],
            [
             0.6666666666666666,
             "#ed7953"
            ],
            [
             0.7777777777777778,
             "#fb9f3a"
            ],
            [
             0.8888888888888888,
             "#fdca26"
            ],
            [
             1,
             "#f0f921"
            ]
           ],
           "sequentialminus": [
            [
             0,
             "#0d0887"
            ],
            [
             0.1111111111111111,
             "#46039f"
            ],
            [
             0.2222222222222222,
             "#7201a8"
            ],
            [
             0.3333333333333333,
             "#9c179e"
            ],
            [
             0.4444444444444444,
             "#bd3786"
            ],
            [
             0.5555555555555556,
             "#d8576b"
            ],
            [
             0.6666666666666666,
             "#ed7953"
            ],
            [
             0.7777777777777778,
             "#fb9f3a"
            ],
            [
             0.8888888888888888,
             "#fdca26"
            ],
            [
             1,
             "#f0f921"
            ]
           ]
          },
          "colorway": [
           "#636efa",
           "#EF553B",
           "#00cc96",
           "#ab63fa",
           "#FFA15A",
           "#19d3f3",
           "#FF6692",
           "#B6E880",
           "#FF97FF",
           "#FECB52"
          ],
          "font": {
           "color": "#f2f5fa"
          },
          "geo": {
           "bgcolor": "rgb(17,17,17)",
           "lakecolor": "rgb(17,17,17)",
           "landcolor": "rgb(17,17,17)",
           "showlakes": true,
           "showland": true,
           "subunitcolor": "#506784"
          },
          "hoverlabel": {
           "align": "left"
          },
          "hovermode": "closest",
          "mapbox": {
           "style": "dark"
          },
          "paper_bgcolor": "rgb(17,17,17)",
          "plot_bgcolor": "rgb(17,17,17)",
          "polar": {
           "angularaxis": {
            "gridcolor": "#506784",
            "linecolor": "#506784",
            "ticks": ""
           },
           "bgcolor": "rgb(17,17,17)",
           "radialaxis": {
            "gridcolor": "#506784",
            "linecolor": "#506784",
            "ticks": ""
           }
          },
          "scene": {
           "xaxis": {
            "backgroundcolor": "rgb(17,17,17)",
            "gridcolor": "#506784",
            "gridwidth": 2,
            "linecolor": "#506784",
            "showbackground": true,
            "ticks": "",
            "zerolinecolor": "#C8D4E3"
           },
           "yaxis": {
            "backgroundcolor": "rgb(17,17,17)",
            "gridcolor": "#506784",
            "gridwidth": 2,
            "linecolor": "#506784",
            "showbackground": true,
            "ticks": "",
            "zerolinecolor": "#C8D4E3"
           },
           "zaxis": {
            "backgroundcolor": "rgb(17,17,17)",
            "gridcolor": "#506784",
            "gridwidth": 2,
            "linecolor": "#506784",
            "showbackground": true,
            "ticks": "",
            "zerolinecolor": "#C8D4E3"
           }
          },
          "shapedefaults": {
           "line": {
            "color": "#f2f5fa"
           }
          },
          "sliderdefaults": {
           "bgcolor": "#C8D4E3",
           "bordercolor": "rgb(17,17,17)",
           "borderwidth": 1,
           "tickwidth": 0
          },
          "ternary": {
           "aaxis": {
            "gridcolor": "#506784",
            "linecolor": "#506784",
            "ticks": ""
           },
           "baxis": {
            "gridcolor": "#506784",
            "linecolor": "#506784",
            "ticks": ""
           },
           "bgcolor": "rgb(17,17,17)",
           "caxis": {
            "gridcolor": "#506784",
            "linecolor": "#506784",
            "ticks": ""
           }
          },
          "title": {
           "x": 0.05
          },
          "updatemenudefaults": {
           "bgcolor": "#506784",
           "borderwidth": 0
          },
          "xaxis": {
           "automargin": true,
           "gridcolor": "#283442",
           "linecolor": "#506784",
           "ticks": "",
           "title": {
            "standoff": 15
           },
           "zerolinecolor": "#283442",
           "zerolinewidth": 2
          },
          "yaxis": {
           "automargin": true,
           "gridcolor": "#283442",
           "linecolor": "#506784",
           "ticks": "",
           "title": {
            "standoff": 15
           },
           "zerolinecolor": "#283442",
           "zerolinewidth": 2
          }
         }
        },
        "title": {
         "text": "EFF vs Adjusted PPG"
        },
        "xaxis": {
         "title": {
          "text": "Adjusted PPG"
         }
        },
        "yaxis": {
         "title": {
          "text": "EFF"
         }
        }
       }
      },
      "text/html": [
       "<div>                            <div id=\"0c1f42f4-d7f1-4015-8109-35c594d98154\" class=\"plotly-graph-div\" style=\"height:525px; width:100%;\"></div>            <script type=\"text/javascript\">                require([\"plotly\"], function(Plotly) {                    window.PLOTLYENV=window.PLOTLYENV || {};                                    if (document.getElementById(\"0c1f42f4-d7f1-4015-8109-35c594d98154\")) {                    Plotly.newPlot(                        \"0c1f42f4-d7f1-4015-8109-35c594d98154\",                        [{\"hovertemplate\": \"<b>%{text}</b><br><b>PPG</b>: %{x}<br><b>EFF</b>: %{y}<br><b>PTS Adj</b>: <b>%{marker.color:.2f}</b><br>\", \"marker\": {\"color\": [0.7999999999999972, 0.10000000000000142, 0.6000000000000014, 2.1000000000000014, 0.5, 2.1999999999999957, 0.10000000000000142, 1.7000000000000028, 1.1000000000000014, 0.29999999999999716, 0.30000000000000426, 0.8999999999999986, 0.7999999999999972, 1.2999999999999972, 2.8000000000000043, 1.5000000000000036, 2.3000000000000043, 1.2000000000000028, 0.3999999999999986, 1.7999999999999972, 0.29999999999999716, 3.1999999999999993, 0.40000000000000213, 0.40000000000000213, 1.3000000000000007, 0.5, 2.0, 1.8999999999999986, 1.5999999999999979, 0.6999999999999993, 0.6999999999999993, 1.4000000000000021, 0.6000000000000014, 0.40000000000000213, 0.0, 0.6999999999999993, 0.8999999999999986, 0.8000000000000007, 0.8999999999999986, 0.3999999999999986, 0.6999999999999993, 2.6000000000000014, 0.8000000000000007, 0.0, 0.3999999999999986, 0.1999999999999993, 0.1999999999999993, 1.5, 2.0, 0.3000000000000007, 0.8999999999999986, 0.1999999999999993, 1.0, 0.5999999999999979, 1.5, 2.3999999999999986, 2.5, 3.1000000000000014, 1.6000000000000014, 0.0, 0.10000000000000142, 0.6000000000000014, 0.0, 1.5, 0.8999999999999986, 1.0999999999999979, 0.8000000000000007, 0.40000000000000213, 1.3000000000000007, 0.0, 0.0, 0.5, 1.3999999999999986, 0.5999999999999979, 2.099999999999998, 1.1999999999999993, 2.6000000000000014, 0.20000000000000284, 0.9000000000000021, 0.0, 1.6000000000000014, 1.8000000000000007, 0.0, 1.6000000000000014, 3.3000000000000007, 0.5, 0.5, 1.6999999999999993, 0.09999999999999787, 1.0, 0.5, 1.0, 0.6999999999999993, 1.1999999999999993, 1.9000000000000021, 1.6000000000000014, 0.0, 1.5999999999999979, 2.400000000000002, 0.3000000000000007, 0.10000000000000142, 1.3000000000000007, 0.3999999999999986, 0.29999999999999716, 0.1999999999999993, 0.3999999999999986, 1.3999999999999986, 0.7999999999999972, 1.1999999999999993, 1.5, 1.6000000000000014, 0.6999999999999993, 0.6999999999999993, 0.0, 0.8999999999999986, 1.1999999999999993, 2.3000000000000007, 3.099999999999998, 0.9000000000000021, 2.400000000000002, 0.3000000000000007, 0.8000000000000007, 1.3000000000000007, 1.2000000000000028, 1.3000000000000007, 0.0, 1.3999999999999986, 0.3000000000000007, 1.1000000000000014, 2.0, 1.3999999999999986, 2.1999999999999993, 0.29999999999999716, 2.1999999999999993, 1.2999999999999972, 1.2999999999999972, 0.5, 1.8999999999999986, 2.099999999999998, 1.1999999999999993, 2.1000000000000014, 0.6999999999999993, 0.6999999999999993, 0.0, 0.3000000000000007, 1.2000000000000028, -0.09999999999999787, 1.5, 0.3000000000000007, 0.6000000000000014, 1.3000000000000007, 0.8000000000000007, 0.0, 1.1999999999999993, 1.6999999999999993, 0.0, 1.5, 1.7999999999999972, 0.1999999999999993, 0.3999999999999986, 1.2999999999999972, 0.8999999999999986, 0.6999999999999993, 0.1999999999999993, 1.6999999999999993, 0.5, 1.1000000000000014, 0.8000000000000007, 0.0, 1.5, 1.6999999999999993, 2.099999999999998, 0.6000000000000014, -0.09999999999999787, 0.3000000000000007, 2.5, 0.3000000000000007, 0.40000000000000213, 1.5, 1.0, 0.10000000000000142, 0.10000000000000142, 0.0, 0.6000000000000014, 2.0, 2.0, 1.0, 0.3000000000000007, 0.1999999999999993, 1.3000000000000007, 2.1000000000000014, 1.5, 1.5, 1.5, 0.40000000000000213, 1.0, 1.5, 1.3999999999999986, 1.5, 0.8000000000000007, 0.6999999999999993, 0.8999999999999986, 1.1999999999999993, 0.3000000000000007, 1.2000000000000028, 0.0, 1.0, 0.20000000000000284, 1.6000000000000014, 0.8000000000000007, 0.3000000000000007, -0.10000000000000142, 0.8999999999999986, 2.3000000000000007, 0.3999999999999986, 2.1000000000000014, 0.8999999999999986, 0.09999999999999787, 0.5999999999999979, 0.6999999999999993, 1.0999999999999979, 0.1999999999999993, 0.3000000000000007, 2.099999999999998, 0.3000000000000007, 0.1999999999999993, 0.5999999999999979, 0.5, 1.1999999999999993, 1.0999999999999979, 1.6999999999999993, 2.3000000000000007, 0.6000000000000014, 1.3000000000000007, 1.6000000000000014, 1.5, 0.6000000000000014, -0.10000000000000142, 1.6000000000000014, 0.8000000000000007, 0.5, 0.7999999999999972, 2.099999999999998, 1.2999999999999972, 0.29999999999999716, 0.3999999999999986, 0.6000000000000014, 0.3000000000000007, 0.5, 0.3000000000000007, 1.3000000000000007, 0.5, 2.1999999999999993, 0.1999999999999993, 0.3000000000000007, 2.3999999999999986, 1.5, 1.8000000000000007, 2.6000000000000014, 0.3000000000000007, 1.3000000000000007, 1.6000000000000014, 0.8999999999999986, 1.1999999999999993, 1.3000000000000007, 2.3999999999999986, 1.3000000000000007, 0.5, 0.3000000000000007, 0.3999999999999986, 0.8999999999999986, 1.5999999999999979, 1.8999999999999986, 1.1999999999999993, 0.5, 0.5999999999999979, 0.10000000000000142, 0.6999999999999993, 1.3000000000000007, 1.4000000000000021, 0.1999999999999993, 0.8000000000000007, 2.400000000000002, 1.6999999999999993, 1.0999999999999979, 0.10000000000000142, 1.5, 0.7000000000000028, 0.0, 1.6999999999999993, 0.8000000000000007, 1.6000000000000014, -0.10000000000000142, 1.3999999999999986, 1.8999999999999986, 1.1000000000000014, 1.6000000000000014, 1.6000000000000014, 2.3999999999999986, 1.0, 1.0999999999999979, 0.29999999999999716, 1.6999999999999993, 0.40000000000000213, 1.9000000000000021, 0.5, 2.3000000000000007, 0.6999999999999993, 2.0, 1.8000000000000007, 1.3000000000000007, 0.10000000000000142, 1.5, 0.8000000000000007, 1.5999999999999979, 2.3999999999999986, 1.0, 0.3999999999999986, 1.5, 1.3000000000000007, 1.0, 1.2000000000000028, 1.1000000000000014, 0.5, 0.5, 2.0, 2.0, 0.8000000000000007, 2.0, 0.5, 1.2000000000000028, 0.0, 0.6000000000000014, 1.6000000000000014, 0.6999999999999993, 1.1999999999999993, 1.6999999999999993, 1.3999999999999986, 1.6000000000000014, 1.5, 1.1999999999999993, 1.8999999999999986, 1.3999999999999986, 0.1999999999999993, -0.10000000000000142, 1.5, 0.6999999999999993, 0.09999999999999787, 1.1000000000000014, 0.3000000000000007, 0.1999999999999993, 2.0, 1.0, 1.9000000000000021, 1.3000000000000007, 2.1000000000000014, 0.1999999999999993, 1.3000000000000007, 0.3000000000000007, 2.3000000000000007, 1.3000000000000007, 0.8000000000000007, 1.0, 0.09999999999999787, 1.3000000000000007, 1.1999999999999993, 1.0999999999999979, 2.0, 0.5999999999999979, 0.3000000000000007, 0.9000000000000021, 1.1000000000000014, 0.9000000000000021, 1.7000000000000028, 0.3000000000000007, 0.5, 1.3999999999999986, 1.3999999999999986, 0.6000000000000014, 0.6000000000000014, 0.8999999999999986, 1.1000000000000014, 0.10000000000000142, 0.8999999999999986, 0.3999999999999986, 1.1000000000000014, 1.5999999999999979, 0.1999999999999993, 0.8999999999999986, 2.3999999999999986, 0.8999999999999986, 0.7999999999999972, 2.1999999999999993, 0.29999999999999716, 0.7999999999999972, 1.7999999999999972, 0.6999999999999993, 1.3000000000000007, 0.40000000000000213, 1.6000000000000014, 0.0, 0.6000000000000014, 0.6000000000000014, 2.3000000000000007, 1.5, 0.10000000000000142, 0.1999999999999993, 0.3000000000000007, 1.5, 0.6999999999999993, 0.3000000000000007, 0.8000000000000007, -0.10000000000000142, 0.8000000000000007, 0.5, 1.3000000000000007, 0.5, 1.1999999999999993, 2.099999999999998, 1.0999999999999979, 1.3999999999999986, 0.5, 1.3000000000000007, 0.8000000000000007, 1.2000000000000028, 0.6000000000000014, 1.8000000000000007, 1.0, 1.7000000000000028, 1.3000000000000007, 0.40000000000000213, 2.3000000000000007, 0.6999999999999993, 1.0, 0.8000000000000007, 1.3999999999999986, 0.5, 1.5, 0.8000000000000007, 0.10000000000000142, 0.8999999999999986, 1.6999999999999993, 1.1999999999999993, 1.2999999999999972, 1.3999999999999986, 1.1999999999999993, 1.0999999999999979, 1.5, 2.1999999999999993, 1.2999999999999972, 0.0, 1.0, 0.5, 0.5, 1.6999999999999993, 0.8000000000000007, 1.6000000000000014, 0.6999999999999993, 1.8999999999999986, 1.5, 0.5999999999999979, 1.3999999999999986, 1.0999999999999979, 1.8999999999999986, 1.8999999999999986, 1.1999999999999993, 1.0999999999999979, 2.6999999999999993, 1.1999999999999993, 1.1999999999999993, 1.0, 0.7000000000000028, 1.0, 1.6000000000000014, 0.6000000000000014, 1.2000000000000028, 1.7000000000000028, 0.7000000000000028, 0.7000000000000028, 1.3000000000000007, 0.3000000000000007, 0.8000000000000007, 1.0, 1.6000000000000014, 0.20000000000000284, 1.6000000000000014, 1.4000000000000021, 1.6000000000000014, 1.1000000000000014, 0.8000000000000007, 1.3000000000000007, 0.8000000000000007, 1.6000000000000014, 0.3000000000000007, 0.3000000000000007, 1.3000000000000007, 0.6999999999999993, 1.6000000000000014, 1.8000000000000007, 0.8000000000000007], \"colorscale\": [[0, \"blue\"], [1, \"red\"]], \"size\": [31.9, 33.1, 27.8, 34.6, 35.0, 31.6, 32.6, 24.8, 37.0, 26.1, 26.8, 28.8, 31.8, 32.7, 26.4, 24.3, 34.0, 31.9, 33.8, 31.1, 27.6, 34.4, 29.4, 21.9, 28.9, 22.3, 25.0, 27.0, 24.4, 28.2, 28.0, 25.2, 25.4, 24.9, 33.1, 25.5, 30.7, 28.0, 34.0, 27.8, 28.9, 21.1, 20.4, 30.1, 30.3, 29.3, 28.0, 23.2, 34.3, 32.4, 29.5, 25.8, 24.2, 24.2, 21.0, 21.1, 22.0, 24.2, 29.8, 33.8, 34.6, 31.4, 26.6, 27.4, 23.9, 32.5, 25.3, 23.3, 27.3, 33.5, 30.7, 23.8, 31.9, 32.3, 22.1, 23.7, 22.0, 24.7, 29.2, 32.4, 32.7, 26.1, 27.8, 25.2, 21.2, 18.9, 30.9, 24.5, 30.8, 24.8, 28.3, 21.4, 33.0, 23.9, 21.8, 26.2, 31.0, 27.5, 21.6, 26.6, 24.2, 28.2, 30.4, 27.7, 23.3, 29.9, 24.5, 24.3, 29.3, 32.2, 20.1, 30.8, 32.4, 28.9, 32.8, 22.9, 26.1, 25.8, 28.9, 24.1, 31.7, 24.6, 20.9, 25.0, 25.2, 31.1, 27.4, 24.9, 30.2, 21.0, 24.6, 25.0, 20.9, 26.0, 26.9, 23.0, 27.2, 27.9, 20.5, 23.6, 23.7, 29.9, 27.9, 35.3, 30.2, 31.0, 27.6, 23.9, 25.6, 29.3, 31.0, 29.6, 29.9, 22.9, 31.3, 32.2, 20.1, 24.9, 26.9, 31.1, 34.7, 26.0, 29.5, 28.6, 31.8, 19.9, 22.8, 21.4, 22.7, 21.3, 19.5, 27.7, 25.6, 28.5, 24.4, 22.2, 24.2, 28.6, 25.5, 30.2, 30.7, 26.7, 28.5, 21.6, 23.1, 21.8, 21.3, 21.2, 25.1, 25.3, 20.2, 27.5, 21.4, 25.2, 25.7, 23.5, 23.5, 24.6, 22.4, 24.0, 28.3, 24.8, 21.8, 23.5, 29.5, 27.3, 22.7, 28.6, 19.8, 32.7, 21.2, 23.7, 24.2, 22.2, 28.1, 20.8, 22.0, 26.9, 22.3, 28.3, 25.3, 29.8, 22.9, 17.1, 25.1, 26.8, 22.5, 23.2, 26.3, 21.1, 27.3, 16.6, 21.0, 19.8, 22.7, 23.7, 27.4, 30.9, 30.3, 31.7, 24.3, 30.3, 24.4, 20.3, 33.6, 27.1, 28.6, 24.8, 22.7, 20.0, 19.2, 21.7, 20.5, 31.2, 20.3, 20.5, 23.0, 26.3, 23.5, 29.6, 29.3, 25.0, 21.3, 26.7, 21.0, 21.8, 26.3, 32.0, 22.7, 25.2, 21.6, 20.1, 19.3, 30.0, 20.8, 31.0, 28.4, 27.4, 19.8, 31.8, 21.2, 27.9, 23.4, 17.9, 20.3, 21.7, 16.9, 26.7, 21.8, 20.3, 33.1, 21.8, 30.2, 30.0, 19.3, 19.4, 17.8, 22.3, 33.3, 21.7, 25.3, 26.9, 22.6, 30.4, 21.7, 18.0, 17.7, 18.8, 18.8, 27.7, 28.5, 28.5, 25.5, 22.7, 25.0, 30.5, 22.4, 32.4, 20.9, 24.3, 19.8, 23.8, 18.2, 20.7, 26.0, 16.9, 22.1, 18.7, 19.5, 23.2, 29.0, 27.3, 26.7, 28.8, 25.9, 24.3, 18.6, 19.8, 19.4, 21.5, 19.3, 19.5, 20.5, 26.3, 30.1, 20.7, 19.8, 30.6, 24.9, 28.1, 27.6, 18.7, 29.9, 18.2, 19.7, 17.2, 23.6, 22.4, 27.2, 23.7, 25.3, 18.6, 27.9, 24.9, 17.4, 33.5, 22.5, 19.4, 22.4, 20.7, 25.3, 17.2, 24.7, 21.9, 22.3, 28.4, 19.9, 17.6, 22.6, 26.3, 23.5, 29.2, 25.6, 18.5, 18.0, 25.3, 15.6, 26.0, 20.5, 20.1, 25.0, 24.3, 22.4, 25.4, 23.1, 23.9, 28.1, 26.3, 24.2, 20.4, 25.5, 18.0, 25.3, 17.3, 19.3, 20.2, 24.1, 20.0, 19.2, 22.4, 29.8, 21.9, 23.7, 28.4, 21.6, 24.4, 27.8, 16.3, 26.1, 20.1, 20.7, 32.6, 24.1, 18.9, 19.0, 21.2, 19.8, 22.1, 19.1, 19.1, 18.7, 21.8, 21.9, 18.4, 24.9, 19.4, 32.1, 25.9, 18.6, 17.6, 22.8, 24.0, 23.6, 25.9, 19.4, 26.2, 18.0, 22.3, 21.9, 18.1, 28.9, 23.4, 19.8, 30.5, 18.8, 20.4, 22.2, 18.3, 18.5, 19.9, 25.3, 22.2, 16.6, 24.4, 16.4, 20.6, 21.5, 17.7, 22.2, 20.4, 24.2, 21.2, 19.6, 23.5, 25.6, 22.4, 17.2, 20.8, 16.9, 23.0, 19.8, 24.2, 20.6, 19.9, 29.0, 17.3, 21.7, 17.4, 20.2, 19.8, 19.3, 22.1, 22.8, 25.9, 18.1, 25.3, 20.2, 17.3, 21.6, 18.0]}, \"mode\": \"markers\", \"text\": [[\"Michael Jordan\", \"1986-87\"], [\"James Harden\", \"2018-19\"], [\"Kobe Bryant\", \"2005-06\"], [\"Michael Jordan\", \"1989-90\"], [\"Michael Jordan\", \"1987-88\"], [\"Michael Jordan\", \"1992-93\"], [\"James Harden\", \"2019-20\"], [\"George Gervin\", \"1981-82\"], [\"Michael Jordan\", \"1988-89\"], [\"Allen Iverson\", \"2005-06\"], [\"Bernard King\", \"1984-85\"], [\"Tracy McGrady\", \"2002-03\"], [\"Kevin Durant\", \"2013-14\"], [\"Michael Jordan\", \"1990-91\"], [\"Kiki Vandeweghe\", \"1983-84\"], [\"Dominique Wilkins\", \"1987-88\"], [\"Larry Bird\", \"1987-88\"], [\"Karl Malone\", \"1989-90\"], [\"Russell Westbrook\", \"2016-17\"], [\"Michael Jordan\", \"1991-92\"], [\"Kobe Bryant\", \"2006-07\"], [\"Larry Bird\", \"1984-85\"], [\"LeBron James\", \"2005-06\"], [\"Allen Iverson\", \"2001-02\"], [\"Michael Jordan\", \"1995-96\"], [\"Allen Iverson\", \"2000-01\"], [\"Mark Aguirre\", \"1983-84\"], [\"Michael Jordan\", \"1996-97\"], [\"Alex English\", \"1985-86\"], [\"Adrian Dantley\", \"1980-81\"], [\"Adrian Dantley\", \"1983-84\"], [\"Dominique Wilkins\", \"1992-93\"], [\"Bradley Beal\", \"2019-20\"], [\"Allen Iverson\", \"2004-05\"], [\"Moses Malone\", \"1981-82\"], [\"Dominique Wilkins\", \"1985-86\"], [\"Stephen Curry\", \"2015-16\"], [\"Kobe Bryant\", \"2002-03\"], [\"David Robinson\", \"1993-94\"], [\"Adrian Dantley\", \"1981-82\"], [\"Damian Lillard\", \"2019-20\"], [\"Purvis Short\", \"1984-85\"], [\"Jerry Stackhouse\", \"2000-01\"], [\"James Harden\", \"2017-18\"], [\"LeBron James\", \"2007-08\"], [\"Dwyane Wade\", \"2008-09\"], [\"Kevin Durant\", \"2009-10\"], [\"Carmelo Anthony\", \"2012-13\"], [\"Larry Bird\", \"1986-87\"], [\"LeBron James\", \"2009-10\"], [\"Karl Malone\", \"1988-89\"], [\"Adrian Dantley\", \"1985-86\"], [\"Dominique Wilkins\", \"1986-87\"], [\"Gilbert Arenas\", \"2005-06\"], [\"Bernard King\", \"1990-91\"], [\"Dale Ellis\", \"1988-89\"], [\"Dominique Wilkins\", \"1984-85\"], [\"Kiki Vandeweghe\", \"1982-83\"], [\"Kevin Durant\", \"2015-16\"], [\"Shaquille O'Neal\", \"1999-00\"], [\"Giannis Antetokounmpo\", \"2019-20\"], [\"Karl Malone\", \"1990-91\"], [\"Trae Young\", \"2019-20\"], [\"Paul George\", \"2018-19\"], [\"Alex English\", \"1986-87\"], [\"Charles Barkley\", \"1987-88\"], [\"Kobe Bryant\", \"2000-01\"], [\"Carmelo Anthony\", \"2006-07\"], [\"Kevin Durant\", \"2011-12\"], [\"Shaquille O'Neal\", \"1993-94\"], [\"Shaquille O'Neal\", \"1994-95\"], [\"Michael Jordan\", \"1997-98\"], [\"Hakeem Olajuwon\", \"1994-95\"], [\"Patrick Ewing\", \"1989-90\"], [\"George Gervin\", \"1980-81\"], [\"Tracy McGrady\", \"2003-04\"], [\"Kelly Tripucka\", \"1982-83\"], [\"Isaiah Thomas\", \"2016-17\"], [\"Michael Jordan\", \"1984-85\"], [\"James Harden\", \"2016-17\"], [\"LeBron James\", \"2017-18\"], [\"Stephen Curry\", \"2018-19\"], [\"James Harden\", \"2015-16\"], [\"Carmelo Anthony\", \"2013-14\"], [\"Mark Aguirre\", \"1984-85\"], [\"Allen Iverson\", \"1999-00\"], [\"LeBron James\", \"2008-09\"], [\"Tom Chambers\", \"1989-90\"], [\"Luka Doncic\", \"2019-20\"], [\"Alex English\", \"1984-85\"], [\"Alex English\", \"1982-83\"], [\"Kobe Bryant\", \"2011-12\"], [\"Anthony Davis\", \"2017-18\"], [\"Vince Carter\", \"2000-01\"], [\"Kiki Vandeweghe\", \"1986-87\"], [\"Russell Westbrook\", \"2019-20\"], [\"Shaquille O'Neal\", \"2000-01\"], [\"Kawhi Leonard\", \"2019-20\"], [\"George Gervin\", \"1982-83\"], [\"Kobe Bryant\", \"2007-08\"], [\"Gilbert Arenas\", \"2006-07\"], [\"LeBron James\", \"2004-05\"], [\"Kevin Durant\", \"2012-13\"], [\"Russell Westbrook\", \"2014-15\"], [\"Carmelo Anthony\", \"2009-10\"], [\"Karl Malone\", \"1991-92\"], [\"Damian Lillard\", \"2016-17\"], [\"Kobe Bryant\", \"2004-05\"], [\"LeBron James\", \"2013-14\"], [\"LeBron James\", \"2012-13\"], [\"Michael Redd\", \"2006-07\"], [\"Charles Barkley\", \"1990-91\"], [\"David Robinson\", \"1994-95\"], [\"Shaquille O'Neal\", \"1997-98\"], [\"Hakeem Olajuwon\", \"1993-94\"], [\"Kobe Bryant\", \"2009-10\"], [\"Dominique Wilkins\", \"1990-91\"], [\"Chris Mullin\", \"1989-90\"], [\"Clyde Drexler\", \"1988-89\"], [\"Tom Chambers\", \"1988-89\"], [\"Moses Malone\", \"1980-81\"], [\"Kobe Bryant\", \"2012-13\"], [\"Glen Rice\", \"1996-97\"], [\"Damian Lillard\", \"2017-18\"], [\"Tracy McGrady\", \"2000-01\"], [\"Anthony Davis\", \"2016-17\"], [\"Dirk Nowitzki\", \"2005-06\"], [\"Kevin Durant\", \"2010-11\"], [\"Hakeem Olajuwon\", \"1995-96\"], [\"Dominique Wilkins\", \"1993-94\"], [\"Devin Booker\", \"2019-20\"], [\"Damian Lillard\", \"2018-19\"], [\"Allen Iverson\", \"2002-03\"], [\"Chris Mullin\", \"1990-91\"], [\"Kawhi Leonard\", \"2018-19\"], [\"Devin Booker\", \"2018-19\"], [\"James Harden\", \"2014-15\"], [\"Kevin Durant\", \"2018-19\"], [\"Dale Ellis\", \"1987-88\"], [\"Dominique Wilkins\", \"1989-90\"], [\"Tracy McGrady\", \"2004-05\"], [\"LeBron James\", \"2011-12\"], [\"Clyde Drexler\", \"1987-88\"], [\"Giannis Antetokounmpo\", \"2018-19\"], [\"Karl Malone\", \"1996-97\"], [\"LeBron James\", \"2016-17\"], [\"Karl Malone\", \"1987-88\"], [\"Paul Pierce\", \"2001-02\"], [\"LeBron James\", \"2006-07\"], [\"Karl Malone\", \"1997-98\"], [\"Kareem Abdul-Jabbar\", \"1980-81\"], [\"Karl Malone\", \"1994-95\"], [\"Shaquille O'Neal\", \"2002-03\"], [\"Bernard King\", \"1983-84\"], [\"Larry Bird\", \"1985-86\"], [\"Joel Embiid\", \"2018-19\"], [\"George Gervin\", \"1983-84\"], [\"Chris Mullin\", \"1991-92\"], [\"Dwyane Wade\", \"2005-06\"], [\"Karl Malone\", \"1992-93\"], [\"Hakeem Olajuwon\", \"1992-93\"], [\"Chris Mullin\", \"1988-89\"], [\"Patrick Ewing\", \"1990-91\"], [\"Chris Webber\", \"2000-01\"], [\"Charles Barkley\", \"1992-93\"], [\"Allen Iverson\", \"1998-99\"], [\"Dominique Wilkins\", \"1988-89\"], [\"Alex English\", \"1988-89\"], [\"DeMar DeRozan\", \"2016-17\"], [\"Mark Aguirre\", \"1986-87\"], [\"David Thompson\", \"1980-81\"], [\"Dirk Nowitzki\", \"2002-03\"], [\"Michael Adams\", \"1990-91\"], [\"Shaquille O'Neal\", \"2001-02\"], [\"Paul Pierce\", \"2005-06\"], [\"Reggie Miller\", \"1989-90\"], [\"Kobe Bryant\", \"2008-09\"], [\"LeBron James\", \"2010-11\"], [\"Tracy McGrady\", \"2001-02\"], [\"Kevin Love\", \"2013-14\"], [\"Giannis Antetokounmpo\", \"2017-18\"], [\"DeMarcus Cousins\", \"2015-16\"], [\"DeMarcus Cousins\", \"2016-17\"], [\"Ray Allen\", \"2006-07\"], [\"Derrick Rose\", \"2010-11\"], [\"Dale Ellis\", \"1986-87\"], [\"Mitch Richmond\", \"1996-97\"], [\"Carmelo Anthony\", \"2005-06\"], [\"Dwyane Wade\", \"2009-10\"], [\"Kawhi Leonard\", \"2016-17\"], [\"Vince Carter\", \"2001-02\"], [\"LeBron James\", \"2015-16\"], [\"Kobe Bryant\", \"2010-11\"], [\"Stephen Curry\", \"2016-17\"], [\"Alex English\", \"1983-84\"], [\"Carmelo Anthony\", \"2007-08\"], [\"Kobe Bryant\", \"2001-02\"], [\"Amar'e Stoudemire\", \"2010-11\"], [\"Kyrie Irving\", \"2016-17\"], [\"James Harden\", \"2012-13\"], [\"Kevin Love\", \"2011-12\"], [\"Grant Hill\", \"1999-00\"], [\"Purvis Short\", \"1985-86\"], [\"Allen Iverson\", \"2007-08\"], [\"Russell Westbrook\", \"2017-18\"], [\"Shaquille O'Neal\", \"1995-96\"], [\"Carmelo Anthony\", \"2010-11\"], [\"Kevin Durant\", \"2017-18\"], [\"Joe Johnson\", \"2006-07\"], [\"Charles Barkley\", \"1988-89\"], [\"Allen Iverson\", \"2006-07\"], [\"Adrian Dantley\", \"1984-85\"], [\"Bradley Beal\", \"2018-19\"], [\"Latrell Sprewell\", \"1996-97\"], [\"Dirk Nowitzki\", \"2004-05\"], [\"Mark Aguirre\", \"1982-83\"], [\"Gilbert Arenas\", \"2004-05\"], [\"Shaquille O'Neal\", \"1998-99\"], [\"Danny Granger\", \"2008-09\"], [\"Karl Malone\", \"1995-96\"], [\"LeBron James\", \"2014-15\"], [\"Anthony Davis\", \"2019-20\"], [\"Paul Pierce\", \"2002-03\"], [\"Jamal Mashburn\", \"1994-95\"], [\"Dirk Nowitzki\", \"2008-09\"], [\"Amar'e Stoudemire\", \"2004-05\"], [\"Kemba Walker\", \"2018-19\"], [\"Vince Carter\", \"1999-00\"], [\"Clyde Drexler\", \"1991-92\"], [\"Mark Aguirre\", \"1987-88\"], [\"Patrick Ewing\", \"1993-94\"], [\"World Free\", \"1982-83\"], [\"Zach LaVine\", \"2019-20\"], [\"Kiki Vandeweghe\", \"1985-86\"], [\"Kyrie Irving\", \"2017-18\"], [\"Blake Griffin\", \"2018-19\"], [\"Alex English\", \"1981-82\"], [\"Kevin McHale\", \"1986-87\"], [\"Anthony Davis\", \"2014-15\"], [\"Charles Barkley\", \"1989-90\"], [\"James Harden\", \"2013-14\"], [\"Karl-Anthony Towns\", \"2016-17\"], [\"Alex English\", \"1980-81\"], [\"Otis Birdsong\", \"1980-81\"], [\"David Robinson\", \"1990-91\"], [\"Karl Malone\", \"1999-00\"], [\"Karl Malone\", \"1993-94\"], [\"Dwyane Wade\", \"2010-11\"], [\"Kevin Durant\", \"2008-09\"], [\"Monta Ellis\", \"2009-10\"], [\"Mike Mitchell\", \"1980-81\"], [\"Paul Pierce\", \"2000-01\"], [\"Russell Westbrook\", \"2011-12\"], [\"Tim Duncan\", \"2001-02\"], [\"Michael Redd\", \"2005-06\"], [\"Tom Chambers\", \"1986-87\"], [\"Peja Stojakovic\", \"2003-04\"], [\"Patrick Ewing\", \"1994-95\"], [\"Dirk Nowitzki\", \"2010-11\"], [\"LeBron James\", \"2019-20\"], [\"Larry Bird\", \"1989-90\"], [\"Stephen Curry\", \"2013-14\"], [\"Tracy McGrady\", \"2006-07\"], [\"Anthony Davis\", \"2015-16\"], [\"Vince Carter\", \"2005-06\"], [\"Paul George\", \"2015-16\"], [\"Gary Payton\", \"1999-00\"], [\"David Robinson\", \"1995-96\"], [\"Vince Carter\", \"2006-07\"], [\"Dirk Nowitzki\", \"2009-10\"], [\"Vince Carter\", \"2004-05\"], [\"Reggie Theus\", \"1982-83\"], [\"Allen Iverson\", \"1996-97\"], [\"Larry Bird\", \"1983-84\"], [\"Antawn Jamison\", \"2000-01\"], [\"Hakeem Olajuwon\", \"1988-89\"], [\"Amar'e Stoudemire\", \"2007-08\"], [\"Julius Erving\", \"1980-81\"], [\"Donovan Mitchell\", \"2019-20\"], [\"Magic Johnson\", \"1986-87\"], [\"Ray Allen\", \"2005-06\"], [\"Chris Webber\", \"1999-00\"], [\"Dan Issel\", \"1981-82\"], [\"Joe Dumars\", \"1992-93\"], [\"Monta Ellis\", \"2010-11\"], [\"Alex English\", \"1987-88\"], [\"Andrew Wiggins\", \"2016-17\"], [\"Julius Erving\", \"1981-82\"], [\"Damian Lillard\", \"2015-16\"], [\"Mike Mitchell\", \"1983-84\"], [\"Kevin Garnett\", \"2003-04\"], [\"Gus Williams\", \"1981-82\"], [\"Kevin Durant\", \"2016-17\"], [\"Larry Bird\", \"1982-83\"], [\"Bradley Beal\", \"2016-17\"], [\"Ray Allen\", \"2004-05\"], [\"World Free\", \"1985-86\"], [\"Jayson Tatum\", \"2019-20\"], [\"Magic Johnson\", \"1988-89\"], [\"Mitch Richmond\", \"1990-91\"], [\"Kyrie Irving\", \"2018-19\"], [\"Dirk Nowitzki\", \"2006-07\"], [\"Russell Westbrook\", \"2012-13\"], [\"Karl-Anthony Towns\", \"2018-19\"], [\"Isiah Thomas\", \"1982-83\"], [\"Jeff Malone\", \"1989-90\"], [\"World Free\", \"1984-85\"], [\"World Free\", \"1980-81\"], [\"Purvis Short\", \"1983-84\"], [\"Charles Barkley\", \"1994-95\"], [\"Russell Westbrook\", \"2015-16\"], [\"Elton Brand\", \"2005-06\"], [\"Clyde Drexler\", \"1989-90\"], [\"Kobe Bryant\", \"2003-04\"], [\"John Wall\", \"2016-17\"], [\"Magic Johnson\", \"1989-90\"], [\"Paul George\", \"2016-17\"], [\"Hakeem Olajuwon\", \"1989-90\"], [\"Kemba Walker\", \"2016-17\"], [\"Tim Hardaway\", \"1991-92\"], [\"Walter Davis\", \"1986-87\"], [\"LaMarcus Aldridge\", \"2014-15\"], [\"Kevin Martin\", \"2010-11\"], [\"Danny Granger\", \"2009-10\"], [\"Blake Griffin\", \"2013-14\"], [\"Darrell Griffith\", \"1984-85\"], [\"Reggie Miller\", \"1990-91\"], [\"Donovan Mitchell\", \"2018-19\"], [\"Carmelo Anthony\", \"2011-12\"], [\"Dwyane Wade\", \"2004-05\"], [\"Hakeem Olajuwon\", \"1986-87\"], [\"Moses Malone\", \"1984-85\"], [\"Chris Bosh\", \"2009-10\"], [\"Kevin Garnett\", \"1999-00\"], [\"Stephen Curry\", \"2014-15\"], [\"Calvin Natt\", \"1984-85\"], [\"Mitch Richmond\", \"1994-95\"], [\"D'Angelo Russell\", \"2019-20\"], [\"Eddie Johnson\", \"1984-85\"], [\"Terry Cummings\", \"1988-89\"], [\"Jason Richardson\", \"2005-06\"], [\"Mitch Richmond\", \"1991-92\"], [\"DeMar DeRozan\", \"2017-18\"], [\"Patrick Ewing\", \"1992-93\"], [\"Moses Malone\", \"1982-83\"], [\"Orlando Woolridge\", \"1984-85\"], [\"Kevin Martin\", \"2007-08\"], [\"David Robinson\", \"1989-90\"], [\"LaMarcus Aldridge\", \"2013-14\"], [\"Patrick Ewing\", \"1991-92\"], [\"DeMarcus Cousins\", \"2014-15\"], [\"Drazen Petrovic\", \"1992-93\"], [\"Tim Duncan\", \"2002-03\"], [\"Kiki Vandeweghe\", \"1984-85\"], [\"CJ McCollum\", \"2016-17\"], [\"Darrell Griffith\", \"1982-83\"], [\"Joe Barry Carroll\", \"1982-83\"], [\"Stephen Curry\", \"2012-13\"], [\"Kareem Abdul-Jabbar\", \"1981-82\"], [\"Blake Griffin\", \"2014-15\"], [\"Tim Hardaway\", \"1990-91\"], [\"Mitch Richmond\", \"1993-94\"], [\"Charles Barkley\", \"1995-96\"], [\"Moses Malone\", \"1986-87\"], [\"World Free\", \"1981-82\"], [\"Charles Barkley\", \"1986-87\"], [\"Victor Oladipo\", \"2017-18\"], [\"Isaiah Thomas\", \"2015-16\"], [\"Zach Randolph\", \"2006-07\"], [\"Stephon Marbury\", \"2000-01\"], [\"Hakeem Olajuwon\", \"1996-97\"], [\"Michael Redd\", \"2004-05\"], [\"Karl Malone\", \"2000-01\"], [\"Terry Cummings\", \"1989-90\"], [\"Brandon Ingram\", \"2019-20\"], [\"Hakeem Olajuwon\", \"1985-86\"], [\"Bradley Beal\", \"2017-18\"], [\"Kelly Tripucka\", \"1988-89\"], [\"Antoine Walker\", \"2000-01\"], [\"Dirk Nowitzki\", \"2001-02\"], [\"Amar'e Stoudemire\", \"2009-10\"], [\"Larry Bird\", \"1981-82\"], [\"Jimmy Butler\", \"2016-17\"], [\"Mitch Richmond\", \"1995-96\"], [\"Jerry Stackhouse\", \"1999-00\"], [\"Joel Embiid\", \"2017-18\"], [\"World Free\", \"1983-84\"], [\"Terry Cummings\", \"1982-83\"], [\"Paul Pierce\", \"2003-04\"], [\"Tom Chambers\", \"1984-85\"], [\"Chris Webber\", \"2002-03\"], [\"LaMarcus Aldridge\", \"2017-18\"], [\"Sidney Moncrief\", \"1984-85\"], [\"Dirk Nowitzki\", \"2007-08\"], [\"Gary Payton\", \"2000-01\"], [\"DeMar DeRozan\", \"2019-20\"], [\"Charles Barkley\", \"1991-92\"], [\"Kevin Johnson\", \"1989-90\"], [\"Kareem Abdul-Jabbar\", \"1985-86\"], [\"Stephon Marbury\", \"1999-00\"], [\"Karl Malone\", \"1998-99\"], [\"Tony Campbell\", \"1989-90\"], [\"Alonzo Mourning\", \"1995-96\"], [\"Dwyane Wade\", \"2014-15\"], [\"Glen Rice\", \"1994-95\"], [\"Zach LaVine\", \"2018-19\"], [\"Terry Cummings\", \"1984-85\"], [\"DeMar DeRozan\", \"2015-16\"], [\"CJ McCollum\", \"2019-20\"], [\"Xavier McDaniel\", \"1986-87\"], [\"David Robinson\", \"1992-93\"], [\"Pascal Siakam\", \"2019-20\"], [\"Moses Malone\", \"1985-86\"], [\"Giannis Antetokounmpo\", \"2016-17\"], [\"Bernard King\", \"1981-82\"], [\"Patrick Ewing\", \"1996-97\"], [\"Tim Duncan\", \"1999-00\"], [\"Allan Houston\", \"2002-03\"], [\"Charles Barkley\", \"1993-94\"], [\"Mark Aguirre\", \"1985-86\"], [\"Shareef Abdur-Rahim\", \"1997-98\"], [\"David Robinson\", \"1991-92\"], [\"Julius Erving\", \"1983-84\"], [\"Ron Harper\", \"1986-87\"], [\"Carmelo Anthony\", \"2016-17\"], [\"Shareef Abdur-Rahim\", \"1998-99\"], [\"Keith Van Horn\", \"1998-99\"], [\"Michael Finley\", \"1999-00\"], [\"Eddie Johnson\", \"1983-84\"], [\"Glen Rice\", \"1991-92\"], [\"Mitch Richmond\", \"1997-98\"], [\"Kyle Lowry\", \"2015-16\"], [\"Danny Manning\", \"1992-93\"], [\"Vince Carter\", \"2003-04\"], [\"Chris Bosh\", \"2008-09\"], [\"Mitch Richmond\", \"1989-90\"], [\"Kevin Garnett\", \"2002-03\"], [\"Scottie Pippen\", \"1993-94\"], [\"DeMar DeRozan\", \"2013-14\"], [\"Mike Mitchell\", \"1985-86\"], [\"Sidney Moncrief\", \"1982-83\"], [\"Anfernee Hardaway\", \"1995-96\"], [\"Jimmy Butler\", \"2017-18\"], [\"Larry Johnson\", \"1992-93\"], [\"Mitch Richmond\", \"1988-89\"], [\"Kevin Johnson\", \"1990-91\"], [\"Klay Thompson\", \"2016-17\"], [\"Bernard King\", \"1980-81\"], [\"Dwyane Wade\", \"2012-13\"], [\"Klay Thompson\", \"2015-16\"], [\"Shaquille O'Neal\", \"1992-93\"], [\"Karl Malone\", \"2001-02\"], [\"Baron Davis\", \"2003-04\"], [\"Chris Paul\", \"2008-09\"], [\"Kelly Tripucka\", \"1981-82\"], [\"Ray Allen\", \"2002-03\"], [\"Dirk Nowitzki\", \"2013-14\"], [\"Richard Jefferson\", \"2007-08\"], [\"Clifford Robinson\", \"1994-95\"], [\"Kyrie Irving\", \"2014-15\"], [\"Chris Bosh\", \"2006-07\"], [\"Baron Davis\", \"2007-08\"], [\"Jalen Rose\", \"2002-03\"], [\"Isiah Thomas\", \"1983-84\"], [\"Kelly Tripucka\", \"1983-84\"], [\"Tony Parker\", \"2008-09\"], [\"Juwan Howard\", \"1995-96\"], [\"Danny Granger\", \"2010-11\"], [\"Ray Allen\", \"2000-01\"], [\"Glenn Robinson\", \"2000-01\"], [\"Gary Payton\", \"2001-02\"], [\"Rolando Blackman\", \"1983-84\"], [\"Kemba Walker\", \"2017-18\"], [\"Tim Hardaway\", \"1992-93\"], [\"Blake Griffin\", \"2010-11\"], [\"Russell Westbrook\", \"2010-11\"], [\"Mike Newlin\", \"1980-81\"], [\"Antoine Walker\", \"1997-98\"], [\"Jeff Malone\", \"1985-86\"], [\"Clyde Drexler\", \"1994-95\"], [\"Carmelo Anthony\", \"2008-09\"], [\"Chris Bosh\", \"2007-08\"], [\"Hersey Hawkins\", \"1990-91\"], [\"Michael Finley\", \"1997-98\"], [\"Russell Westbrook\", \"2018-19\"], [\"Jerry Stackhouse\", \"2002-03\"], [\"Byron Scott\", \"1987-88\"], [\"CJ McCollum\", \"2017-18\"], [\"Paul George\", \"2017-18\"], [\"Antawn Jamison\", \"2002-03\"], [\"Joe Johnson\", \"2007-08\"], [\"Antawn Jamison\", \"2008-09\"], [\"Julius Randle\", \"2018-19\"], [\"DeMarcus Cousins\", \"2013-14\"], [\"Michael Redd\", \"2007-08\"], [\"Tim Duncan\", \"1998-99\"], [\"Stephon Marbury\", \"2002-03\"], [\"Jerry Stackhouse\", \"2001-02\"], [\"Luka Doncic\", \"2018-19\"], [\"Mike Mitchell\", \"1984-85\"]], \"type\": \"scatter\", \"x\": [37.9, 36.2, 36.0, 35.7, 35.5, 34.8, 34.4, 34.0, 33.6, 33.3, 33.2, 33.0, 32.8, 32.8, 32.2, 32.2, 32.2, 32.2, 32.0, 31.9, 31.9, 31.9, 31.8, 31.8, 31.7, 31.6, 31.5, 31.5, 31.4, 31.4, 31.3, 31.3, 31.1, 31.1, 31.1, 31.0, 31.0, 30.8, 30.7, 30.7, 30.7, 30.6, 30.6, 30.4, 30.4, 30.4, 30.3, 30.2, 30.1, 30.0, 30.0, 30.0, 30.0, 29.9, 29.9, 29.9, 29.9, 29.8, 29.8, 29.7, 29.6, 29.6, 29.6, 29.5, 29.5, 29.4, 29.3, 29.3, 29.3, 29.3, 29.3, 29.2, 29.2, 29.2, 29.2, 29.2, 29.1, 29.1, 29.1, 29.1, 29.1, 29.1, 29.0, 29.0, 29.0, 28.9, 28.9, 28.9, 28.9, 28.9, 28.9, 28.9, 28.8, 28.8, 28.8, 28.8, 28.7, 28.7, 28.6, 28.6, 28.5, 28.5, 28.5, 28.4, 28.4, 28.4, 28.4, 28.4, 28.3, 28.3, 28.3, 28.3, 28.3, 28.3, 28.2, 28.2, 28.2, 28.2, 28.1, 28.1, 28.1, 28.1, 28.1, 28.1, 28.1, 28.0, 28.0, 28.0, 28.0, 28.0, 28.0, 28.0, 27.9, 27.9, 27.9, 27.9, 27.9, 27.9, 27.9, 27.9, 27.8, 27.8, 27.7, 27.7, 27.7, 27.6, 27.6, 27.6, 27.6, 27.6, 27.5, 27.5, 27.5, 27.5, 27.5, 27.5, 27.4, 27.4, 27.4, 27.4, 27.4, 27.4, 27.3, 27.3, 27.3, 27.3, 27.3, 27.3, 27.3, 27.2, 27.2, 27.2, 27.1, 27.1, 27.1, 27.1, 27.1, 27.1, 27.1, 27.1, 27.0, 27.0, 27.0, 27.0, 27.0, 26.9, 26.9, 26.8, 26.8, 26.8, 26.8, 26.8, 26.8, 26.8, 26.8, 26.7, 26.7, 26.7, 26.7, 26.7, 26.7, 26.7, 26.7, 26.7, 26.6, 26.6, 26.6, 26.6, 26.6, 26.6, 26.6, 26.5, 26.5, 26.5, 26.5, 26.5, 26.4, 26.4, 26.4, 26.4, 26.4, 26.3, 26.2, 26.2, 26.2, 26.2, 26.2, 26.2, 26.2, 26.2, 26.2, 26.2, 26.1, 26.1, 26.0, 26.0, 26.0, 26.0, 26.0, 26.0, 25.9, 25.9, 25.9, 25.9, 25.9, 25.9, 25.8, 25.8, 25.8, 25.8, 25.8, 25.8, 25.8, 25.7, 25.7, 25.7, 25.7, 25.7, 25.6, 25.6, 25.6, 25.6, 25.5, 25.5, 25.5, 25.5, 25.5, 25.5, 25.5, 25.4, 25.4, 25.4, 25.4, 25.4, 25.4, 25.4, 25.3, 25.3, 25.3, 25.3, 25.3, 25.3, 25.3, 25.2, 25.2, 25.1, 25.1, 25.1, 25.1, 25.0, 25.0, 25.0, 25.0, 25.0, 25.0, 25.0, 25.0, 25.0, 24.9, 24.9, 24.9, 24.9, 24.9, 24.8, 24.8, 24.8, 24.8, 24.8, 24.8, 24.8, 24.8, 24.8, 24.8, 24.8, 24.7, 24.7, 24.7, 24.7, 24.7, 24.7, 24.6, 24.6, 24.6, 24.6, 24.6, 24.6, 24.6, 24.6, 24.6, 24.6, 24.6, 24.6, 24.6, 24.5, 24.5, 24.5, 24.5, 24.5, 24.5, 24.4, 24.4, 24.4, 24.4, 24.4, 24.4, 24.4, 24.4, 24.4, 24.3, 24.3, 24.3, 24.3, 24.3, 24.3, 24.3, 24.3, 24.3, 24.2, 24.2, 24.2, 24.2, 24.2, 24.2, 24.2, 24.2, 24.2, 24.2, 24.2, 24.2, 24.2, 24.1, 24.1, 24.1, 24.1, 24.1, 24.0, 24.0, 24.0, 24.0, 24.0, 24.0, 24.0, 24.0, 24.0, 24.0, 24.0, 23.9, 23.9, 23.9, 23.9, 23.9, 23.9, 23.9, 23.9, 23.9, 23.9, 23.8, 23.8, 23.8, 23.8, 23.8, 23.8, 23.8, 23.8, 23.8, 23.8, 23.8, 23.8, 23.7, 23.7, 23.7, 23.7, 23.7, 23.7, 23.7, 23.7, 23.7, 23.7, 23.7, 23.7, 23.7, 23.7, 23.7, 23.7, 23.6, 23.6, 23.6, 23.6, 23.6, 23.6, 23.6, 23.5, 23.5, 23.5, 23.5, 23.5, 23.5, 23.5, 23.5, 23.5, 23.4, 23.4, 23.4, 23.4, 23.4, 23.4, 23.4, 23.4, 23.4, 23.4, 23.4, 23.4, 23.4, 23.3, 23.3, 23.3, 23.3, 23.3, 23.2, 23.2, 23.2, 23.2, 23.2, 23.2, 23.2, 23.2, 23.2, 23.2, 23.2, 23.2, 23.1, 23.1, 23.1, 23.1, 23.1, 23.1, 23.1, 23.1, 23.1, 23.1, 23.1, 23.1, 23.1, 23.1, 23.1, 23.1, 23.1, 23.0, 23.0, 23.0, 23.0, 23.0, 23.0, 23.0, 23.0, 23.0, 23.0, 23.0, 23.0, 23.0], \"y\": [31.9, 33.1, 27.8, 34.6, 35.0, 31.6, 32.6, 24.8, 37.0, 26.1, 26.8, 28.8, 31.8, 32.7, 26.4, 24.3, 34.0, 31.9, 33.8, 31.1, 27.6, 34.4, 29.4, 21.9, 28.9, 22.3, 25.0, 27.0, 24.4, 28.2, 28.0, 25.2, 25.4, 24.9, 33.1, 25.5, 30.7, 28.0, 34.0, 27.8, 28.9, 21.1, 20.4, 30.1, 30.3, 29.3, 28.0, 23.2, 34.3, 32.4, 29.5, 25.8, 24.2, 24.2, 21.0, 21.1, 22.0, 24.2, 29.8, 33.8, 34.6, 31.4, 26.6, 27.4, 23.9, 32.5, 25.3, 23.3, 27.3, 33.5, 30.7, 23.8, 31.9, 32.3, 22.1, 23.7, 22.0, 24.7, 29.2, 32.4, 32.7, 26.1, 27.8, 25.2, 21.2, 18.9, 30.9, 24.5, 30.8, 24.8, 28.3, 21.4, 33.0, 23.9, 21.8, 26.2, 31.0, 27.5, 21.6, 26.6, 24.2, 28.2, 30.4, 27.7, 23.3, 29.9, 24.5, 24.3, 29.3, 32.2, 20.1, 30.8, 32.4, 28.9, 32.8, 22.9, 26.1, 25.8, 28.9, 24.1, 31.7, 24.6, 20.9, 25.0, 25.2, 31.1, 27.4, 24.9, 30.2, 21.0, 24.6, 25.0, 20.9, 26.0, 26.9, 23.0, 27.2, 27.9, 20.5, 23.6, 23.7, 29.9, 27.9, 35.3, 30.2, 31.0, 27.6, 23.9, 25.6, 29.3, 31.0, 29.6, 29.9, 22.9, 31.3, 32.2, 20.1, 24.9, 26.9, 31.1, 34.7, 26.0, 29.5, 28.6, 31.8, 19.9, 22.8, 21.4, 22.7, 21.3, 19.5, 27.7, 25.6, 28.5, 24.4, 22.2, 24.2, 28.6, 25.5, 30.2, 30.7, 26.7, 28.5, 21.6, 23.1, 21.8, 21.3, 21.2, 25.1, 25.3, 20.2, 27.5, 21.4, 25.2, 25.7, 23.5, 23.5, 24.6, 22.4, 24.0, 28.3, 24.8, 21.8, 23.5, 29.5, 27.3, 22.7, 28.6, 19.8, 32.7, 21.2, 23.7, 24.2, 22.2, 28.1, 20.8, 22.0, 26.9, 22.3, 28.3, 25.3, 29.8, 22.9, 17.1, 25.1, 26.8, 22.5, 23.2, 26.3, 21.1, 27.3, 16.6, 21.0, 19.8, 22.7, 23.7, 27.4, 30.9, 30.3, 31.7, 24.3, 30.3, 24.4, 20.3, 33.6, 27.1, 28.6, 24.8, 22.7, 20.0, 19.2, 21.7, 20.5, 31.2, 20.3, 20.5, 23.0, 26.3, 23.5, 29.6, 29.3, 25.0, 21.3, 26.7, 21.0, 21.8, 26.3, 32.0, 22.7, 25.2, 21.6, 20.1, 19.3, 30.0, 20.8, 31.0, 28.4, 27.4, 19.8, 31.8, 21.2, 27.9, 23.4, 17.9, 20.3, 21.7, 16.9, 26.7, 21.8, 20.3, 33.1, 21.8, 30.2, 30.0, 19.3, 19.4, 17.8, 22.3, 33.3, 21.7, 25.3, 26.9, 22.6, 30.4, 21.7, 18.0, 17.7, 18.8, 18.8, 27.7, 28.5, 28.5, 25.5, 22.7, 25.0, 30.5, 22.4, 32.4, 20.9, 24.3, 19.8, 23.8, 18.2, 20.7, 26.0, 16.9, 22.1, 18.7, 19.5, 23.2, 29.0, 27.3, 26.7, 28.8, 25.9, 24.3, 18.6, 19.8, 19.4, 21.5, 19.3, 19.5, 20.5, 26.3, 30.1, 20.7, 19.8, 30.6, 24.9, 28.1, 27.6, 18.7, 29.9, 18.2, 19.7, 17.2, 23.6, 22.4, 27.2, 23.7, 25.3, 18.6, 27.9, 24.9, 17.4, 33.5, 22.5, 19.4, 22.4, 20.7, 25.3, 17.2, 24.7, 21.9, 22.3, 28.4, 19.9, 17.6, 22.6, 26.3, 23.5, 29.2, 25.6, 18.5, 18.0, 25.3, 15.6, 26.0, 20.5, 20.1, 25.0, 24.3, 22.4, 25.4, 23.1, 23.9, 28.1, 26.3, 24.2, 20.4, 25.5, 18.0, 25.3, 17.3, 19.3, 20.2, 24.1, 20.0, 19.2, 22.4, 29.8, 21.9, 23.7, 28.4, 21.6, 24.4, 27.8, 16.3, 26.1, 20.1, 20.7, 32.6, 24.1, 18.9, 19.0, 21.2, 19.8, 22.1, 19.1, 19.1, 18.7, 21.8, 21.9, 18.4, 24.9, 19.4, 32.1, 25.9, 18.6, 17.6, 22.8, 24.0, 23.6, 25.9, 19.4, 26.2, 18.0, 22.3, 21.9, 18.1, 28.9, 23.4, 19.8, 30.5, 18.8, 20.4, 22.2, 18.3, 18.5, 19.9, 25.3, 22.2, 16.6, 24.4, 16.4, 20.6, 21.5, 17.7, 22.2, 20.4, 24.2, 21.2, 19.6, 23.5, 25.6, 22.4, 17.2, 20.8, 16.9, 23.0, 19.8, 24.2, 20.6, 19.9, 29.0, 17.3, 21.7, 17.4, 20.2, 19.8, 19.3, 22.1, 22.8, 25.9, 18.1, 25.3, 20.2, 17.3, 21.6, 18.0]}],                        {\"template\": {\"data\": {\"bar\": [{\"error_x\": {\"color\": \"#f2f5fa\"}, \"error_y\": {\"color\": \"#f2f5fa\"}, \"marker\": {\"line\": {\"color\": \"rgb(17,17,17)\", \"width\": 0.5}}, \"type\": \"bar\"}], \"barpolar\": [{\"marker\": {\"line\": {\"color\": \"rgb(17,17,17)\", \"width\": 0.5}}, \"type\": \"barpolar\"}], \"carpet\": [{\"aaxis\": {\"endlinecolor\": \"#A2B1C6\", \"gridcolor\": \"#506784\", \"linecolor\": \"#506784\", \"minorgridcolor\": \"#506784\", \"startlinecolor\": \"#A2B1C6\"}, \"baxis\": {\"endlinecolor\": \"#A2B1C6\", \"gridcolor\": \"#506784\", \"linecolor\": \"#506784\", \"minorgridcolor\": \"#506784\", \"startlinecolor\": \"#A2B1C6\"}, \"type\": \"carpet\"}], \"choropleth\": [{\"colorbar\": {\"outlinewidth\": 0, \"ticks\": \"\"}, \"type\": \"choropleth\"}], \"contour\": [{\"colorbar\": {\"outlinewidth\": 0, \"ticks\": \"\"}, \"colorscale\": [[0.0, \"#0d0887\"], [0.1111111111111111, \"#46039f\"], [0.2222222222222222, \"#7201a8\"], [0.3333333333333333, \"#9c179e\"], [0.4444444444444444, \"#bd3786\"], [0.5555555555555556, \"#d8576b\"], [0.6666666666666666, \"#ed7953\"], [0.7777777777777778, \"#fb9f3a\"], [0.8888888888888888, \"#fdca26\"], [1.0, \"#f0f921\"]], \"type\": \"contour\"}], \"contourcarpet\": [{\"colorbar\": {\"outlinewidth\": 0, \"ticks\": \"\"}, \"type\": \"contourcarpet\"}], \"heatmap\": [{\"colorbar\": {\"outlinewidth\": 0, \"ticks\": \"\"}, \"colorscale\": [[0.0, \"#0d0887\"], [0.1111111111111111, \"#46039f\"], [0.2222222222222222, \"#7201a8\"], [0.3333333333333333, \"#9c179e\"], [0.4444444444444444, \"#bd3786\"], [0.5555555555555556, \"#d8576b\"], [0.6666666666666666, \"#ed7953\"], [0.7777777777777778, \"#fb9f3a\"], [0.8888888888888888, \"#fdca26\"], [1.0, \"#f0f921\"]], \"type\": \"heatmap\"}], \"heatmapgl\": [{\"colorbar\": {\"outlinewidth\": 0, \"ticks\": \"\"}, \"colorscale\": [[0.0, \"#0d0887\"], [0.1111111111111111, \"#46039f\"], [0.2222222222222222, \"#7201a8\"], [0.3333333333333333, \"#9c179e\"], [0.4444444444444444, \"#bd3786\"], [0.5555555555555556, \"#d8576b\"], [0.6666666666666666, \"#ed7953\"], [0.7777777777777778, \"#fb9f3a\"], [0.8888888888888888, \"#fdca26\"], [1.0, \"#f0f921\"]], \"type\": \"heatmapgl\"}], \"histogram\": [{\"marker\": {\"colorbar\": {\"outlinewidth\": 0, \"ticks\": \"\"}}, \"type\": \"histogram\"}], \"histogram2d\": [{\"colorbar\": {\"outlinewidth\": 0, \"ticks\": \"\"}, \"colorscale\": [[0.0, \"#0d0887\"], [0.1111111111111111, \"#46039f\"], [0.2222222222222222, \"#7201a8\"], [0.3333333333333333, \"#9c179e\"], [0.4444444444444444, \"#bd3786\"], [0.5555555555555556, \"#d8576b\"], [0.6666666666666666, \"#ed7953\"], [0.7777777777777778, \"#fb9f3a\"], [0.8888888888888888, \"#fdca26\"], [1.0, \"#f0f921\"]], \"type\": \"histogram2d\"}], \"histogram2dcontour\": [{\"colorbar\": {\"outlinewidth\": 0, \"ticks\": \"\"}, \"colorscale\": [[0.0, \"#0d0887\"], [0.1111111111111111, \"#46039f\"], [0.2222222222222222, \"#7201a8\"], [0.3333333333333333, \"#9c179e\"], [0.4444444444444444, \"#bd3786\"], [0.5555555555555556, \"#d8576b\"], [0.6666666666666666, \"#ed7953\"], [0.7777777777777778, \"#fb9f3a\"], [0.8888888888888888, \"#fdca26\"], [1.0, \"#f0f921\"]], \"type\": \"histogram2dcontour\"}], \"mesh3d\": [{\"colorbar\": {\"outlinewidth\": 0, \"ticks\": \"\"}, \"type\": \"mesh3d\"}], \"parcoords\": [{\"line\": {\"colorbar\": {\"outlinewidth\": 0, \"ticks\": \"\"}}, \"type\": \"parcoords\"}], \"pie\": [{\"automargin\": true, \"type\": \"pie\"}], \"scatter\": [{\"marker\": {\"line\": {\"color\": \"#283442\"}}, \"type\": \"scatter\"}], \"scatter3d\": [{\"line\": {\"colorbar\": {\"outlinewidth\": 0, \"ticks\": \"\"}}, \"marker\": {\"colorbar\": {\"outlinewidth\": 0, \"ticks\": \"\"}}, \"type\": \"scatter3d\"}], \"scattercarpet\": [{\"marker\": {\"colorbar\": {\"outlinewidth\": 0, \"ticks\": \"\"}}, \"type\": \"scattercarpet\"}], \"scattergeo\": [{\"marker\": {\"colorbar\": {\"outlinewidth\": 0, \"ticks\": \"\"}}, \"type\": \"scattergeo\"}], \"scattergl\": [{\"marker\": {\"line\": {\"color\": \"#283442\"}}, \"type\": \"scattergl\"}], \"scattermapbox\": [{\"marker\": {\"colorbar\": {\"outlinewidth\": 0, \"ticks\": \"\"}}, \"type\": \"scattermapbox\"}], \"scatterpolar\": [{\"marker\": {\"colorbar\": {\"outlinewidth\": 0, \"ticks\": \"\"}}, \"type\": \"scatterpolar\"}], \"scatterpolargl\": [{\"marker\": {\"colorbar\": {\"outlinewidth\": 0, \"ticks\": \"\"}}, \"type\": \"scatterpolargl\"}], \"scatterternary\": [{\"marker\": {\"colorbar\": {\"outlinewidth\": 0, \"ticks\": \"\"}}, \"type\": \"scatterternary\"}], \"surface\": [{\"colorbar\": {\"outlinewidth\": 0, \"ticks\": \"\"}, \"colorscale\": [[0.0, \"#0d0887\"], [0.1111111111111111, \"#46039f\"], [0.2222222222222222, \"#7201a8\"], [0.3333333333333333, \"#9c179e\"], [0.4444444444444444, \"#bd3786\"], [0.5555555555555556, \"#d8576b\"], [0.6666666666666666, \"#ed7953\"], [0.7777777777777778, \"#fb9f3a\"], [0.8888888888888888, \"#fdca26\"], [1.0, \"#f0f921\"]], \"type\": \"surface\"}], \"table\": [{\"cells\": {\"fill\": {\"color\": \"#506784\"}, \"line\": {\"color\": \"rgb(17,17,17)\"}}, \"header\": {\"fill\": {\"color\": \"#2a3f5f\"}, \"line\": {\"color\": \"rgb(17,17,17)\"}}, \"type\": \"table\"}]}, \"layout\": {\"annotationdefaults\": {\"arrowcolor\": \"#f2f5fa\", \"arrowhead\": 0, \"arrowwidth\": 1}, \"autotypenumbers\": \"strict\", \"coloraxis\": {\"colorbar\": {\"outlinewidth\": 0, \"ticks\": \"\"}}, \"colorscale\": {\"diverging\": [[0, \"#8e0152\"], [0.1, \"#c51b7d\"], [0.2, \"#de77ae\"], [0.3, \"#f1b6da\"], [0.4, \"#fde0ef\"], [0.5, \"#f7f7f7\"], [0.6, \"#e6f5d0\"], [0.7, \"#b8e186\"], [0.8, \"#7fbc41\"], [0.9, \"#4d9221\"], [1, \"#276419\"]], \"sequential\": [[0.0, \"#0d0887\"], [0.1111111111111111, \"#46039f\"], [0.2222222222222222, \"#7201a8\"], [0.3333333333333333, \"#9c179e\"], [0.4444444444444444, \"#bd3786\"], [0.5555555555555556, \"#d8576b\"], [0.6666666666666666, \"#ed7953\"], [0.7777777777777778, \"#fb9f3a\"], [0.8888888888888888, \"#fdca26\"], [1.0, \"#f0f921\"]], \"sequentialminus\": [[0.0, \"#0d0887\"], [0.1111111111111111, \"#46039f\"], [0.2222222222222222, \"#7201a8\"], [0.3333333333333333, \"#9c179e\"], [0.4444444444444444, \"#bd3786\"], [0.5555555555555556, \"#d8576b\"], [0.6666666666666666, \"#ed7953\"], [0.7777777777777778, \"#fb9f3a\"], [0.8888888888888888, \"#fdca26\"], [1.0, \"#f0f921\"]]}, \"colorway\": [\"#636efa\", \"#EF553B\", \"#00cc96\", \"#ab63fa\", \"#FFA15A\", \"#19d3f3\", \"#FF6692\", \"#B6E880\", \"#FF97FF\", \"#FECB52\"], \"font\": {\"color\": \"#f2f5fa\"}, \"geo\": {\"bgcolor\": \"rgb(17,17,17)\", \"lakecolor\": \"rgb(17,17,17)\", \"landcolor\": \"rgb(17,17,17)\", \"showlakes\": true, \"showland\": true, \"subunitcolor\": \"#506784\"}, \"hoverlabel\": {\"align\": \"left\"}, \"hovermode\": \"closest\", \"mapbox\": {\"style\": \"dark\"}, \"paper_bgcolor\": \"rgb(17,17,17)\", \"plot_bgcolor\": \"rgb(17,17,17)\", \"polar\": {\"angularaxis\": {\"gridcolor\": \"#506784\", \"linecolor\": \"#506784\", \"ticks\": \"\"}, \"bgcolor\": \"rgb(17,17,17)\", \"radialaxis\": {\"gridcolor\": \"#506784\", \"linecolor\": \"#506784\", \"ticks\": \"\"}}, \"scene\": {\"xaxis\": {\"backgroundcolor\": \"rgb(17,17,17)\", \"gridcolor\": \"#506784\", \"gridwidth\": 2, \"linecolor\": \"#506784\", \"showbackground\": true, \"ticks\": \"\", \"zerolinecolor\": \"#C8D4E3\"}, \"yaxis\": {\"backgroundcolor\": \"rgb(17,17,17)\", \"gridcolor\": \"#506784\", \"gridwidth\": 2, \"linecolor\": \"#506784\", \"showbackground\": true, \"ticks\": \"\", \"zerolinecolor\": \"#C8D4E3\"}, \"zaxis\": {\"backgroundcolor\": \"rgb(17,17,17)\", \"gridcolor\": \"#506784\", \"gridwidth\": 2, \"linecolor\": \"#506784\", \"showbackground\": true, \"ticks\": \"\", \"zerolinecolor\": \"#C8D4E3\"}}, \"shapedefaults\": {\"line\": {\"color\": \"#f2f5fa\"}}, \"sliderdefaults\": {\"bgcolor\": \"#C8D4E3\", \"bordercolor\": \"rgb(17,17,17)\", \"borderwidth\": 1, \"tickwidth\": 0}, \"ternary\": {\"aaxis\": {\"gridcolor\": \"#506784\", \"linecolor\": \"#506784\", \"ticks\": \"\"}, \"baxis\": {\"gridcolor\": \"#506784\", \"linecolor\": \"#506784\", \"ticks\": \"\"}, \"bgcolor\": \"rgb(17,17,17)\", \"caxis\": {\"gridcolor\": \"#506784\", \"linecolor\": \"#506784\", \"ticks\": \"\"}}, \"title\": {\"x\": 0.05}, \"updatemenudefaults\": {\"bgcolor\": \"#506784\", \"borderwidth\": 0}, \"xaxis\": {\"automargin\": true, \"gridcolor\": \"#283442\", \"linecolor\": \"#506784\", \"ticks\": \"\", \"title\": {\"standoff\": 15}, \"zerolinecolor\": \"#283442\", \"zerolinewidth\": 2}, \"yaxis\": {\"automargin\": true, \"gridcolor\": \"#283442\", \"linecolor\": \"#506784\", \"ticks\": \"\", \"title\": {\"standoff\": 15}, \"zerolinecolor\": \"#283442\", \"zerolinewidth\": 2}}}, \"title\": {\"text\": \"EFF vs Adjusted PPG\"}, \"xaxis\": {\"title\": {\"text\": \"Adjusted PPG\"}}, \"yaxis\": {\"title\": {\"text\": \"EFF\"}}},                        {\"responsive\": true}                    ).then(function(){\n",
       "                            \n",
       "var gd = document.getElementById('0c1f42f4-d7f1-4015-8109-35c594d98154');\n",
       "var x = new MutationObserver(function (mutations, observer) {{\n",
       "        var display = window.getComputedStyle(gd).display;\n",
       "        if (!display || display === 'none') {{\n",
       "            console.log([gd, 'removed!']);\n",
       "            Plotly.purge(gd);\n",
       "            observer.disconnect();\n",
       "        }}\n",
       "}});\n",
       "\n",
       "// Listen for the removal of the full notebook cells\n",
       "var notebookContainer = gd.closest('#notebook-container');\n",
       "if (notebookContainer) {{\n",
       "    x.observe(notebookContainer, {childList: true});\n",
       "}}\n",
       "\n",
       "// Listen for the clearing of the current output cell\n",
       "var outputEl = gd.closest('.output');\n",
       "if (outputEl) {{\n",
       "    x.observe(outputEl, {childList: true});\n",
       "}}\n",
       "\n",
       "                        })                };                });            </script>        </div>"
      ]
     },
     "metadata": {},
     "output_type": "display_data"
    }
   ],
   "source": [
    "fig = go.Figure(data=go.Scatter(x=top500['NewPTS'],\n",
    "                                y=top500['EFF'],\n",
    "                                mode='markers',\n",
    "                                marker=dict(size=(top500['EFF']),\n",
    "                                color=top500['PTSDiff'],\n",
    "                                colorscale=[[0, 'blue'], [1, 'red']]),\n",
    "                                text=top500[['PLAYER', 'SEASON']],\n",
    "                                hovertemplate=\n",
    "                                \"<b>%{text}</b><br>\"+\n",
    "                                \"<b>PPG</b>: %{x}<br>\"+\n",
    "                                \"<b>EFF</b>: %{y}<br>\"+\n",
    "                                \"<b>PTS Adj</b>: <b>%{marker.color:.2f}</b><br>\"\n",
    "                                )) # hover text goes here\n",
    "\n",
    "fig.update_layout(title='EFF vs Adjusted PPG', xaxis_title='Adjusted PPG',\n",
    "                   yaxis_title='EFF',\n",
    "                                template='plotly_dark' )\n",
    "fig.show()"
   ]
  },
  {
   "cell_type": "code",
   "execution_count": 165,
   "metadata": {},
   "outputs": [],
   "source": [
    "fig.write_html(\"C:/Users/jreim/Documents/Coding/AnacondaProjects/Basketball//EFFvsPPGchart.html\")"
   ]
  }
 ],
 "metadata": {
  "kernelspec": {
   "display_name": "Python 3",
   "language": "python",
   "name": "python3"
  },
  "language_info": {
   "codemirror_mode": {
    "name": "ipython",
    "version": 3
   },
   "file_extension": ".py",
   "mimetype": "text/x-python",
   "name": "python",
   "nbconvert_exporter": "python",
   "pygments_lexer": "ipython3",
   "version": "3.8.5"
  }
 },
 "nbformat": 4,
 "nbformat_minor": 4
}
